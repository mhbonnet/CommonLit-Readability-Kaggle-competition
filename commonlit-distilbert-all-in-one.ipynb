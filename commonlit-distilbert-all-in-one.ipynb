{
 "cells": [
  {
   "cell_type": "markdown",
   "id": "still-landscape",
   "metadata": {
    "papermill": {
     "duration": 0.024249,
     "end_time": "2021-06-28T09:32:53.210077",
     "exception": false,
     "start_time": "2021-06-28T09:32:53.185828",
     "status": "completed"
    },
    "tags": []
   },
   "source": [
    "# About this notebook\n",
    "This notebook is using DistilBert for the CommonLit readability competition, with kfold validation.\n",
    "\n",
    "Most of the code comes from S Canisir's notebooks :\n",
    "* training : https://www.kaggle.com/snnclsr/commonlit-pytorch-distilbert-training)\n",
    "* inference : https://www.kaggle.com/snnclsr/commonlit-pytorch-distilbert-inference/   \n",
    "\n",
    "With the help of V Baskaran's work as well : https://www.kaggle.com/vigneshbaskaran/commonlit-easy-transformer-finetuner"
   ]
  },
  {
   "cell_type": "markdown",
   "id": "prepared-interpretation",
   "metadata": {
    "papermill": {
     "duration": 0.022798,
     "end_time": "2021-06-28T09:32:53.255977",
     "exception": false,
     "start_time": "2021-06-28T09:32:53.233179",
     "status": "completed"
    },
    "tags": []
   },
   "source": [
    "# Imports"
   ]
  },
  {
   "cell_type": "code",
   "execution_count": 1,
   "id": "surprising-smart",
   "metadata": {
    "execution": {
     "iopub.execute_input": "2021-06-28T09:32:53.314089Z",
     "iopub.status.busy": "2021-06-28T09:32:53.313525Z",
     "iopub.status.idle": "2021-06-28T09:32:55.472950Z",
     "shell.execute_reply": "2021-06-28T09:32:55.471981Z",
     "shell.execute_reply.started": "2021-06-28T06:55:12.661718Z"
    },
    "papermill": {
     "duration": 2.194321,
     "end_time": "2021-06-28T09:32:55.473110",
     "exception": false,
     "start_time": "2021-06-28T09:32:53.278789",
     "status": "completed"
    },
    "tags": []
   },
   "outputs": [],
   "source": [
    "import os\n",
    "import time\n",
    "import math\n",
    "import gc\n",
    "import random\n",
    "from pathlib import Path\n",
    "\n",
    "import numpy as np\n",
    "import pandas as pd\n",
    "import matplotlib.pyplot as plt\n",
    "import seaborn as sns\n",
    "\n",
    "from sklearn.model_selection import KFold\n",
    "from sklearn import metrics\n",
    "\n",
    "import torch\n",
    "import torch.nn as nn\n",
    "import torch.optim as optim\n",
    "import torch.nn.functional as F\n",
    "from torch.utils.data import Dataset, DataLoader\n",
    "\n",
    "from transformers import DistilBertTokenizer, DistilBertModel\n",
    "from logging import getLogger, INFO, FileHandler, Formatter, StreamHandler"
   ]
  },
  {
   "cell_type": "code",
   "execution_count": 2,
   "id": "surrounded-section",
   "metadata": {
    "execution": {
     "iopub.execute_input": "2021-06-28T09:32:55.624090Z",
     "iopub.status.busy": "2021-06-28T09:32:55.622328Z",
     "iopub.status.idle": "2021-06-28T09:32:55.624795Z",
     "shell.execute_reply": "2021-06-28T09:32:55.625202Z",
     "shell.execute_reply.started": "2021-06-28T06:58:39.316051Z"
    },
    "papermill": {
     "duration": 0.128621,
     "end_time": "2021-06-28T09:32:55.625344",
     "exception": false,
     "start_time": "2021-06-28T09:32:55.496723",
     "status": "completed"
    },
    "tags": []
   },
   "outputs": [],
   "source": [
    "# clean memory\n",
    "gc.collect()\n",
    "torch.cuda.empty_cache()\n",
    "\n",
    "#(run when internet is enabled)\n",
    "#!pip install GPUtil \n",
    "#from GPUtil import showUtilization as gpu_usage\n",
    "#gpu_usage()"
   ]
  },
  {
   "cell_type": "code",
   "execution_count": 3,
   "id": "tribal-scotland",
   "metadata": {
    "execution": {
     "iopub.execute_input": "2021-06-28T09:32:55.743672Z",
     "iopub.status.busy": "2021-06-28T09:32:55.742772Z",
     "iopub.status.idle": "2021-06-28T09:32:55.746313Z",
     "shell.execute_reply": "2021-06-28T09:32:55.746766Z",
     "shell.execute_reply.started": "2021-06-28T06:53:46.464796Z"
    },
    "papermill": {
     "duration": 0.098327,
     "end_time": "2021-06-28T09:32:55.746911",
     "exception": false,
     "start_time": "2021-06-28T09:32:55.648584",
     "status": "completed"
    },
    "tags": []
   },
   "outputs": [
    {
     "data": {
      "text/plain": [
       "device(type='cuda')"
      ]
     },
     "execution_count": 3,
     "metadata": {},
     "output_type": "execute_result"
    }
   ],
   "source": [
    "device = torch.device(\"cuda\" if torch.cuda.is_available() else \"cpu\")\n",
    "device"
   ]
  },
  {
   "cell_type": "markdown",
   "id": "thick-excellence",
   "metadata": {
    "papermill": {
     "duration": 0.023171,
     "end_time": "2021-06-28T09:32:55.793830",
     "exception": false,
     "start_time": "2021-06-28T09:32:55.770659",
     "status": "completed"
    },
    "tags": []
   },
   "source": [
    "# Data Loading"
   ]
  },
  {
   "cell_type": "code",
   "execution_count": 4,
   "id": "small-fruit",
   "metadata": {
    "execution": {
     "iopub.execute_input": "2021-06-28T09:32:55.845582Z",
     "iopub.status.busy": "2021-06-28T09:32:55.844979Z",
     "iopub.status.idle": "2021-06-28T09:32:56.532942Z",
     "shell.execute_reply": "2021-06-28T09:32:56.533338Z",
     "shell.execute_reply.started": "2021-06-28T06:54:06.324765Z"
    },
    "papermill": {
     "duration": 0.716179,
     "end_time": "2021-06-28T09:32:56.533514",
     "exception": false,
     "start_time": "2021-06-28T09:32:55.817335",
     "status": "completed"
    },
    "tags": []
   },
   "outputs": [
    {
     "name": "stdout",
     "output_type": "stream",
     "text": [
      "sample_submission.csv  test.csv  train.csv\r\n"
     ]
    }
   ],
   "source": [
    "OUTPUT_DIR = \"./\"\n",
    "BASE_DATA_PATH = Path(\"../input/commonlitreadabilityprize/\")\n",
    "\n",
    "!ls {BASE_DATA_PATH}"
   ]
  },
  {
   "cell_type": "code",
   "execution_count": 5,
   "id": "ecological-vegetarian",
   "metadata": {
    "execution": {
     "iopub.execute_input": "2021-06-28T09:32:56.592821Z",
     "iopub.status.busy": "2021-06-28T09:32:56.592266Z",
     "iopub.status.idle": "2021-06-28T09:32:57.539914Z",
     "shell.execute_reply": "2021-06-28T09:32:57.540294Z",
     "shell.execute_reply.started": "2021-06-28T06:59:11.676234Z"
    },
    "papermill": {
     "duration": 0.983146,
     "end_time": "2021-06-28T09:32:57.540460",
     "exception": false,
     "start_time": "2021-06-28T09:32:56.557314",
     "status": "completed"
    },
    "tags": []
   },
   "outputs": [
    {
     "data": {
      "text/html": [
       "<div>\n",
       "<style scoped>\n",
       "    .dataframe tbody tr th:only-of-type {\n",
       "        vertical-align: middle;\n",
       "    }\n",
       "\n",
       "    .dataframe tbody tr th {\n",
       "        vertical-align: top;\n",
       "    }\n",
       "\n",
       "    .dataframe thead th {\n",
       "        text-align: right;\n",
       "    }\n",
       "</style>\n",
       "<table border=\"1\" class=\"dataframe\">\n",
       "  <thead>\n",
       "    <tr style=\"text-align: right;\">\n",
       "      <th></th>\n",
       "      <th>id</th>\n",
       "      <th>url_legal</th>\n",
       "      <th>license</th>\n",
       "      <th>excerpt</th>\n",
       "      <th>target</th>\n",
       "      <th>standard_error</th>\n",
       "    </tr>\n",
       "  </thead>\n",
       "  <tbody>\n",
       "    <tr>\n",
       "      <th>0</th>\n",
       "      <td>c12129c31</td>\n",
       "      <td>NaN</td>\n",
       "      <td>NaN</td>\n",
       "      <td>When the young people returned to the ballroom...</td>\n",
       "      <td>-0.340259</td>\n",
       "      <td>0.464009</td>\n",
       "    </tr>\n",
       "    <tr>\n",
       "      <th>1</th>\n",
       "      <td>85aa80a4c</td>\n",
       "      <td>NaN</td>\n",
       "      <td>NaN</td>\n",
       "      <td>All through dinner time, Mrs. Fayre was somewh...</td>\n",
       "      <td>-0.315372</td>\n",
       "      <td>0.480805</td>\n",
       "    </tr>\n",
       "    <tr>\n",
       "      <th>2</th>\n",
       "      <td>b69ac6792</td>\n",
       "      <td>NaN</td>\n",
       "      <td>NaN</td>\n",
       "      <td>As Roger had predicted, the snow departed as q...</td>\n",
       "      <td>-0.580118</td>\n",
       "      <td>0.476676</td>\n",
       "    </tr>\n",
       "  </tbody>\n",
       "</table>\n",
       "</div>"
      ],
      "text/plain": [
       "          id url_legal license  \\\n",
       "0  c12129c31       NaN     NaN   \n",
       "1  85aa80a4c       NaN     NaN   \n",
       "2  b69ac6792       NaN     NaN   \n",
       "\n",
       "                                             excerpt    target  standard_error  \n",
       "0  When the young people returned to the ballroom... -0.340259        0.464009  \n",
       "1  All through dinner time, Mrs. Fayre was somewh... -0.315372        0.480805  \n",
       "2  As Roger had predicted, the snow departed as q... -0.580118        0.476676  "
      ]
     },
     "metadata": {},
     "output_type": "display_data"
    },
    {
     "data": {
      "image/png": "[encoded data removed]",
      "text/plain": [
       "<Figure size 1080x360 with 2 Axes>"
      ]
     },
     "metadata": {
      "needs_background": "light"
     },
     "output_type": "display_data"
    }
   ],
   "source": [
    "df_train = pd.read_csv(BASE_DATA_PATH / \"train.csv\")\n",
    "display(df_train.head(3))\n",
    "\n",
    "# explore excerpt\n",
    "df_train['nb_words'] = df_train.excerpt.apply(lambda x: len(x.split()))\n",
    "df_train['nb_chars'] = df_train.excerpt.apply(lambda x: len(x))\n",
    "\n",
    "# plot histograms\n",
    "fix, ax = plt.subplots(1, 2, figsize=(15, 5))\n",
    "sns.histplot(data=df_train, x=\"nb_chars\", bins=100, ax=ax[0],\n",
    "             color='orange', edgecolor=None, stat='density')\n",
    "sns.kdeplot(data=df_train, x=\"nb_chars\", color='red', ax=ax[0])\n",
    "ax[0].axvline(np.median(df_train.nb_chars), 0, np.max(df_train.nb_chars))\n",
    "ax[0].set_title('Text length', fontsize=10)\n",
    "\n",
    "sns.histplot(data=df_train, x=\"nb_words\", bins=100, ax=ax[1],\n",
    "             color='salmon', edgecolor=None, stat='density')\n",
    "sns.kdeplot(data=df_train, x=\"nb_words\", color='red', ax=ax[1])\n",
    "ax[1].axvline(np.median(df_train.nb_words), 0, np.max(df_train.nb_words))\n",
    "ax[1].set_title('Number of words', fontsize=10)\n",
    "\n",
    "plt.show()"
   ]
  },
  {
   "cell_type": "code",
   "execution_count": 6,
   "id": "cloudy-setting",
   "metadata": {
    "execution": {
     "iopub.execute_input": "2021-06-28T09:32:57.599898Z",
     "iopub.status.busy": "2021-06-28T09:32:57.598759Z",
     "iopub.status.idle": "2021-06-28T09:32:58.228779Z",
     "shell.execute_reply": "2021-06-28T09:32:58.229252Z",
     "shell.execute_reply.started": "2021-06-28T06:58:08.530162Z"
    },
    "papermill": {
     "duration": 0.663551,
     "end_time": "2021-06-28T09:32:58.229436",
     "exception": false,
     "start_time": "2021-06-28T09:32:57.565885",
     "status": "completed"
    },
    "tags": []
   },
   "outputs": [
    {
     "name": "stdout",
     "output_type": "stream",
     "text": [
      "Values of the target : -3.676267773 -> 1.7113898269999999\n"
     ]
    },
    {
     "data": {
      "image/png": "[encoded data removed]",
      "text/plain": [
       "<Figure size 864x360 with 2 Axes>"
      ]
     },
     "metadata": {
      "needs_background": "light"
     },
     "output_type": "display_data"
    }
   ],
   "source": [
    "# target labels\n",
    "labels = df_train['target']\n",
    "print(\"Values of the target : {} -> {}\".format(labels.min(), labels.max()))\n",
    "      \n",
    "fig, ax = plt.subplots(1, 2, figsize=(12, 5))\n",
    "sns.histplot(data=df_train, x=\"target\", bins=100, ax=ax[0],\n",
    "             color='lightgreen', edgecolor=None, stat='density')\n",
    "sns.kdeplot(data=df_train, x=\"target\", ax=ax[0], color='forestgreen')\n",
    "ax[0].axvline(np.median(df_train.target), 0, np.max(df_train.target))\n",
    "ax[0].set_title('Targets histogram', fontsize=10)\n",
    "\n",
    "sns.boxplot(x=df_train[\"target\"], ax=ax[1], color='lightgreen')\n",
    "ax[1].set_title('Targets boxplot', fontsize=10)\n",
    "plt.show()"
   ]
  },
  {
   "cell_type": "markdown",
   "id": "fabulous-mumbai",
   "metadata": {
    "papermill": {
     "duration": 0.026779,
     "end_time": "2021-06-28T09:32:58.297584",
     "exception": false,
     "start_time": "2021-06-28T09:32:58.270805",
     "status": "completed"
    },
    "tags": []
   },
   "source": [
    "# Utils"
   ]
  },
  {
   "cell_type": "code",
   "execution_count": 7,
   "id": "driving-painting",
   "metadata": {
    "execution": {
     "iopub.execute_input": "2021-06-28T09:32:58.368968Z",
     "iopub.status.busy": "2021-06-28T09:32:58.368143Z",
     "iopub.status.idle": "2021-06-28T09:32:58.370474Z",
     "shell.execute_reply": "2021-06-28T09:32:58.370833Z",
     "shell.execute_reply.started": "2021-06-28T08:55:26.238710Z"
    },
    "papermill": {
     "duration": 0.047138,
     "end_time": "2021-06-28T09:32:58.370985",
     "exception": false,
     "start_time": "2021-06-28T09:32:58.323847",
     "status": "completed"
    },
    "tags": []
   },
   "outputs": [],
   "source": [
    "class AverageMeter(object):\n",
    "    \"\"\"Computes and stores the average and current value\n",
    "    of a given object:\n",
    "    val is the current value\n",
    "    sum is the total sum of all increments\n",
    "    count is the number of increments\n",
    "    avg is the mean increment\"\"\"\n",
    "    \n",
    "    def __init__(self):\n",
    "        self.reset()\n",
    "\n",
    "    def reset(self):\n",
    "        self.cur_val = 0\n",
    "        self.avg = 0\n",
    "        self.sum = 0\n",
    "        self.count = 0\n",
    "\n",
    "    def update(self, val, n=1):\n",
    "        self.cur_val = val\n",
    "        self.sum += val * n\n",
    "        self.count += n\n",
    "        self.avg = self.sum / self.count\n",
    "\n",
    "class Metric:\n",
    "    \"\"\"sums the squared residuals (target-excepted) for a period (epoch)\n",
    "    and returns the rmse for the whole epoch data\"\"\"\n",
    "    def __init__(self):\n",
    "        self.sse = 0\n",
    "        self.num_samples = 0\n",
    "    \n",
    "    def update(self, targets, predictions):\n",
    "        predictions = flatten(predictions)\n",
    "        self.sse += np.sum(np.square(targets - predictions))\n",
    "        self.num_samples += len(targets)\n",
    "        \n",
    "    def get_rmse(self):\n",
    "        rmse = np.sqrt(self.sse / self.num_samples)\n",
    "        return rmse\n",
    "\n",
    "def flatten(array):\n",
    "    \"\"\"takes an output array and flatten it\n",
    "    returns a list\"\"\"\n",
    "    my_list = []\n",
    "    for i in range (len(array)):\n",
    "        my_list.append(array[i][0])\n",
    "    return np.array(my_list)\n",
    "\n",
    "def asMinutes(s):\n",
    "    \"\"\"converts seconds to minutes\"\"\"\n",
    "    m = math.floor(s / 60)\n",
    "    s -= m * 60\n",
    "    return '%dm %ds' % (m, s)\n",
    "\n",
    "def timeSince(since, percent):\n",
    "    \"\"\"returns the time elapsed from the 'since' point\n",
    "    and an estimation of the remaining time\n",
    "    since : hour of the beginning\n",
    "    percent : current % of progress compared to total length\"\"\"\n",
    "    now = time.time()\n",
    "    elapsed = now - since\n",
    "    estimated = elapsed / (percent)\n",
    "    remaining = estimated - elapsed\n",
    "    return '%s (remain %s)' % (asMinutes(elapsed), asMinutes(remaining))\n",
    "\n",
    "def init_logger(log_file=OUTPUT_DIR+'train.log'):\n",
    "    \"\"\"initiate logger\"\"\"\n",
    "    logger = getLogger(__name__)\n",
    "    logger.setLevel(INFO)\n",
    "    \n",
    "    handler1 = StreamHandler()\n",
    "    handler1.setFormatter(Formatter(\"%(message)s\"))\n",
    "    handler2 = FileHandler(filename=log_file)\n",
    "    handler2.setFormatter(Formatter(\"%(message)s\"))\n",
    "    \n",
    "    logger.handlers.clear()\n",
    "    logger.addHandler(handler1)\n",
    "    logger.addHandler(handler2)\n",
    "    \n",
    "    return logger\n",
    "\n",
    "def seed_torch(seed=42):\n",
    "    random.seed(seed)\n",
    "    os.environ['PYTHONHASHSEED'] = str(seed)\n",
    "    np.random.seed(seed)\n",
    "    torch.manual_seed(seed)\n",
    "    torch.cuda.manual_seed(seed)\n",
    "    torch.backends.cudnn.deterministic = True\n",
    "        \n",
    "def get_scheduler(optimizer):\n",
    "    \"\"\"instanciate a scheduler to update learning rate\"\"\"\n",
    "    if CFG.scheduler == 'CosineAnnealingLR':\n",
    "        scheduler = optim.lr_scheduler.CosineAnnealingLR(optimizer,\n",
    "                                                         T_max=CFG.T_max,\n",
    "                                                         eta_min=CFG.min_lr,\n",
    "                                                         last_epoch=-1)\n",
    "    if CFG.scheduler == 'StepLR':\n",
    "        scheduler = optim.lr_scheduler.StepLR(optimizer,\n",
    "                                              step_size=30,\n",
    "                                              gamma=0.1)\n",
    "    return scheduler\n",
    "    \n",
    "def get_optimizer(model):\n",
    "    \"\"\"instanciate an optimizer\"\"\"\n",
    "    if CFG.optimizer == 'Adam':\n",
    "        optimizer = optim.Adam(model.parameters(), lr=CFG.lr,\n",
    "                               weight_decay=CFG.weight_decay)\n",
    "    if CFG.optimizer == 'RMSprop':\n",
    "        optimizer = optim.RMSprop(model.parameters(), lr=CFG.lr,\n",
    "                                  weight_decay=CFG.weight_decay)\n",
    "    if CFG.optimizer == 'SGD':\n",
    "        optimizer = optim.SGD(model.parameters(), lr=CFG.lr,\n",
    "                              weight_decay=CFG.weight_decay)\n",
    "    return optimizer"
   ]
  },
  {
   "cell_type": "code",
   "execution_count": 8,
   "id": "hispanic-watts",
   "metadata": {
    "execution": {
     "iopub.execute_input": "2021-06-28T09:32:58.431716Z",
     "iopub.status.busy": "2021-06-28T09:32:58.430972Z",
     "iopub.status.idle": "2021-06-28T09:32:58.435505Z",
     "shell.execute_reply": "2021-06-28T09:32:58.434886Z",
     "shell.execute_reply.started": "2021-06-28T08:52:57.011148Z"
    },
    "papermill": {
     "duration": 0.037975,
     "end_time": "2021-06-28T09:32:58.435647",
     "exception": false,
     "start_time": "2021-06-28T09:32:58.397672",
     "status": "completed"
    },
    "tags": []
   },
   "outputs": [
    {
     "name": "stdout",
     "output_type": "stream",
     "text": [
      "8.69878356348217\n",
      "5\n",
      "[-1.65121007 -1.44179732 -1.356171    0.31068285 -1.39920897]\n",
      "1.3189983747891556\n",
      "1.3189983747891556\n"
     ]
    }
   ],
   "source": [
    "sum = 0\n",
    "nb = 0\n",
    "targets = np.array([-1.6256722, -1.8930367, -1.643398, 0.11545783, -1.5774299])\n",
    "predictions = np.array([[ 0.02553787], [-0.45123938], [-0.287227], [-0.19522502], [-0.17822093]])\n",
    "#targets = np.array([2, 12, 3, 6])\n",
    "#predictions = np.array([3.1, 11.1, 4.3, 5.4])\n",
    "\n",
    "predictions = flatten(predictions)\n",
    "sum += np.sum(np.square(targets - predictions))\n",
    "nb += len(targets)\n",
    "print(sum)\n",
    "print(nb)\n",
    "print(targets-predictions)\n",
    "rmse = np.sqrt(sum / nb)\n",
    "print(rmse)\n",
    "\n",
    "print(np.sqrt(metrics.mean_squared_error(targets, predictions)))"
   ]
  },
  {
   "cell_type": "markdown",
   "id": "material-angola",
   "metadata": {
    "papermill": {
     "duration": 0.026513,
     "end_time": "2021-06-28T09:32:58.489108",
     "exception": false,
     "start_time": "2021-06-28T09:32:58.462595",
     "status": "completed"
    },
    "tags": []
   },
   "source": [
    "# Config"
   ]
  },
  {
   "cell_type": "code",
   "execution_count": 9,
   "id": "exceptional-balloon",
   "metadata": {
    "execution": {
     "iopub.execute_input": "2021-06-28T09:32:58.546787Z",
     "iopub.status.busy": "2021-06-28T09:32:58.546114Z",
     "iopub.status.idle": "2021-06-28T09:32:58.549652Z",
     "shell.execute_reply": "2021-06-28T09:32:58.549243Z",
     "shell.execute_reply.started": "2021-06-28T07:00:37.763347Z"
    },
    "papermill": {
     "duration": 0.034476,
     "end_time": "2021-06-28T09:32:58.549760",
     "exception": false,
     "start_time": "2021-06-28T09:32:58.515284",
     "status": "completed"
    },
    "tags": []
   },
   "outputs": [],
   "source": [
    "class CFG:\n",
    "    model_name = \"distilbert-base-uncased\"\n",
    "    model_path = \"../input/distilbertbaseuncased\"\n",
    "    max_length = 256\n",
    "    dropout_p = 0.4\n",
    "    batch_size = 32\n",
    "    n_epochs = 10\n",
    "    weight_decay = 1e-6\n",
    "    lr = 3e-4\n",
    "    min_lr = 1e-6\n",
    "    scheduler = \"CosineAnnealingLR\"\n",
    "    optimizer = \"Adam\"\n",
    "    T_max = 10\n",
    "    seed = 42\n",
    "    n_folds = 5    \n",
    "    print_freq = 50\n",
    "    num_workers = 4"
   ]
  },
  {
   "cell_type": "markdown",
   "id": "chinese-resistance",
   "metadata": {
    "papermill": {
     "duration": 0.026335,
     "end_time": "2021-06-28T09:32:58.602288",
     "exception": false,
     "start_time": "2021-06-28T09:32:58.575953",
     "status": "completed"
    },
    "tags": []
   },
   "source": [
    "# Dataset"
   ]
  },
  {
   "cell_type": "code",
   "execution_count": 10,
   "id": "corporate-validity",
   "metadata": {
    "execution": {
     "iopub.execute_input": "2021-06-28T09:32:58.663157Z",
     "iopub.status.busy": "2021-06-28T09:32:58.661668Z",
     "iopub.status.idle": "2021-06-28T09:32:58.663964Z",
     "shell.execute_reply": "2021-06-28T09:32:58.664408Z",
     "shell.execute_reply.started": "2021-06-28T06:59:40.712584Z"
    },
    "papermill": {
     "duration": 0.035667,
     "end_time": "2021-06-28T09:32:58.664539",
     "exception": false,
     "start_time": "2021-06-28T09:32:58.628872",
     "status": "completed"
    },
    "tags": []
   },
   "outputs": [],
   "source": [
    "class CommonLitDataset(Dataset):\n",
    "    \n",
    "    def __init__(self, df, tokenizer, max_length):\n",
    "    \n",
    "        self.df = df\n",
    "        self.tokenizer = tokenizer\n",
    "        self.max_length = max_length\n",
    "    \n",
    "    def __len__(self):\n",
    "        return len(self.df)\n",
    "    \n",
    "    def __getitem__(self, idx):\n",
    "        row = self.df.iloc[idx]\n",
    "        tokenized_input = self.tokenizer(row.excerpt, return_tensors=\"pt\", \n",
    "                                        max_length=self.max_length, \n",
    "                                        padding=\"max_length\", truncation=True)\n",
    "\n",
    "        return {\n",
    "                \"ids\": tokenized_input[\"input_ids\"][0],\n",
    "                \"masks\": tokenized_input[\"attention_mask\"][0],\n",
    "                \"targets\": torch.tensor(row.target).float()\n",
    "        }"
   ]
  },
  {
   "cell_type": "markdown",
   "id": "crude-weekly",
   "metadata": {
    "papermill": {
     "duration": 0.026582,
     "end_time": "2021-06-28T09:32:58.717795",
     "exception": false,
     "start_time": "2021-06-28T09:32:58.691213",
     "status": "completed"
    },
    "tags": []
   },
   "source": [
    "# Model"
   ]
  },
  {
   "cell_type": "code",
   "execution_count": 11,
   "id": "personalized-buying",
   "metadata": {
    "execution": {
     "iopub.execute_input": "2021-06-28T09:32:58.777810Z",
     "iopub.status.busy": "2021-06-28T09:32:58.777117Z",
     "iopub.status.idle": "2021-06-28T09:32:58.780209Z",
     "shell.execute_reply": "2021-06-28T09:32:58.780594Z",
     "shell.execute_reply.started": "2021-06-28T06:59:46.162253Z"
    },
    "papermill": {
     "duration": 0.036303,
     "end_time": "2021-06-28T09:32:58.780723",
     "exception": false,
     "start_time": "2021-06-28T09:32:58.744420",
     "status": "completed"
    },
    "tags": []
   },
   "outputs": [],
   "source": [
    "class TextRegressionModel(nn.Module):\n",
    "    \n",
    "    def __init__(self, model_name, dropout_p=0.1):\n",
    "        super(TextRegressionModel, self).__init__()\n",
    "        self.model = DistilBertModel.from_pretrained(CFG.model_path)\n",
    "        self.features = nn.Linear(768, 768)\n",
    "        self.dropout = nn.Dropout(dropout_p)\n",
    "        self.regressor = nn.Linear(768, 1)\n",
    "        \n",
    "    def forward(self, input_ids, attention_mask):\n",
    "        output = self.model(input_ids=input_ids,\n",
    "                            attention_mask=attention_mask)\n",
    "        output = output.last_hidden_state[:, 0]\n",
    "        #output = F.relu(self.features(output.last_hidden_state[:, 0]))\n",
    "        output = self.dropout(output)\n",
    "        output = self.regressor(output)\n",
    "        return output"
   ]
  },
  {
   "cell_type": "markdown",
   "id": "cheap-fighter",
   "metadata": {
    "papermill": {
     "duration": 0.02614,
     "end_time": "2021-06-28T09:32:58.833173",
     "exception": false,
     "start_time": "2021-06-28T09:32:58.807033",
     "status": "completed"
    },
    "tags": []
   },
   "source": [
    "# Train and eval Functions"
   ]
  },
  {
   "cell_type": "code",
   "execution_count": 12,
   "id": "parliamentary-malta",
   "metadata": {
    "execution": {
     "iopub.execute_input": "2021-06-28T09:32:58.903461Z",
     "iopub.status.busy": "2021-06-28T09:32:58.901970Z",
     "iopub.status.idle": "2021-06-28T09:32:58.904762Z",
     "shell.execute_reply": "2021-06-28T09:32:58.904343Z",
     "shell.execute_reply.started": "2021-06-28T08:54:41.396780Z"
    },
    "papermill": {
     "duration": 0.045543,
     "end_time": "2021-06-28T09:32:58.904871",
     "exception": false,
     "start_time": "2021-06-28T09:32:58.859328",
     "status": "completed"
    },
    "tags": []
   },
   "outputs": [],
   "source": [
    "def train_step(model, criterion, optimizer, data_loader, epoch, device=device):\n",
    "    \n",
    "    batch_time = AverageMeter()\n",
    "    data_time  = AverageMeter()\n",
    "    train_loss = AverageMeter()\n",
    "    metric = Metric()\n",
    "    model.train()\n",
    "    \n",
    "    start = end = time.time()\n",
    "    \n",
    "    for step, batch in enumerate(data_loader):\n",
    "        # update data loading time\n",
    "        data_time.update(time.time() - end)\n",
    "        \n",
    "        # get data for the current batch\n",
    "        input_ids = batch[\"ids\"].to(device)\n",
    "        attention_masks = batch[\"masks\"].to(device)\n",
    "        targets = batch[\"targets\"].to(device)\n",
    "        bs = input_ids.size(0)\n",
    "        \n",
    "        # compute output and loss\n",
    "        output = model(input_ids, attention_masks)\n",
    "        loss = criterion(output.squeeze(1), targets)\n",
    "        train_loss.update(loss.item(), bs)\n",
    "        # loss.item() is the avg of mse over the batch\n",
    "        loss.backward()\n",
    "        \n",
    "        m_targets = targets.detach().cpu().numpy()\n",
    "        m_predictions = output.detach().cpu().numpy()\n",
    "        metric.update(targets=m_targets, predictions=m_predictions)\n",
    "        \n",
    "        # step optimizer\n",
    "        optimizer.step()\n",
    "        optimizer.zero_grad()\n",
    "        \n",
    "        # update batch time\n",
    "        batch_time.update(time.time() - end)\n",
    "        end = time.time()\n",
    "        \n",
    "        # if current step is a multiple of the printing param (or end)\n",
    "        if step % CFG.print_freq == 0 or step == (len(data_loader) - 1):\n",
    "            print('Epoch {0} [{1}/{2}]: '\n",
    "                  #'Data {data_time.val:.3f} ({data_time.avg:.3f}) '\n",
    "                  'Elapsed {remain:s} '\n",
    "                  'Loss: {loss.cur_val:.4f} (avg {loss.avg:.4f}) '\n",
    "                  .format(\n",
    "                      epoch+1, step, len(data_loader), \n",
    "                      #batch_time=batch_time, data_time=data_time, \n",
    "                      loss=train_loss,\n",
    "                      remain=timeSince(start, float(step+1)/len(data_loader)))\n",
    "                 )\n",
    "\n",
    "    rmse = metric.get_rmse()\n",
    "    return train_loss.avg, rmse\n",
    "        \n",
    "    \n",
    "def eval_step(model, criterion, data_loader, epoch, device=device):\n",
    "    \n",
    "    batch_time = AverageMeter()\n",
    "    data_time  = AverageMeter()\n",
    "    eval_loss = AverageMeter()\n",
    "    metric = Metric()\n",
    "    model.eval()\n",
    "    \n",
    "    start = end = time.time()\n",
    "    \n",
    "    for step, batch in enumerate(data_loader):\n",
    "        data_time.update(time.time() - end)\n",
    "        \n",
    "        input_ids = batch[\"ids\"].to(device)\n",
    "        attention_masks = batch[\"masks\"].to(device)\n",
    "        targets = batch[\"targets\"].to(device)\n",
    "        bs = input_ids.size(0)\n",
    "        with torch.no_grad():\n",
    "            output = model(input_ids, attention_masks)\n",
    "        loss = criterion(output.squeeze(1), targets)\n",
    "        eval_loss.update(loss.item(), bs)\n",
    "        batch_time.update(time.time() - end)\n",
    "        end = time.time()\n",
    "        \n",
    "        m_targets = targets.detach().cpu().numpy()\n",
    "        m_predictions = output.detach().cpu().numpy()\n",
    "        metric.update(targets=m_targets, predictions=m_predictions)\n",
    "\n",
    "        if step % CFG.print_freq == 0 or step == (len(data_loader) - 1):\n",
    "            print('EVAL - Epoch {0} [{1}/{2}]: '\n",
    "                  'Loss: {loss.cur_val:.4f} (avg {loss.avg:.4f}) '\n",
    "                  .format(epoch+1, step, len(data_loader),\n",
    "                          loss=eval_loss\n",
    "                      )\n",
    "                 )\n",
    "    rmse = metric.get_rmse()\n",
    "    return eval_loss.avg, rmse"
   ]
  },
  {
   "cell_type": "code",
   "execution_count": 13,
   "id": "driven-gazette",
   "metadata": {
    "execution": {
     "iopub.execute_input": "2021-06-28T09:32:58.968980Z",
     "iopub.status.busy": "2021-06-28T09:32:58.968216Z",
     "iopub.status.idle": "2021-06-28T09:32:58.970988Z",
     "shell.execute_reply": "2021-06-28T09:32:58.970506Z",
     "shell.execute_reply.started": "2021-06-28T08:55:05.399816Z"
    },
    "papermill": {
     "duration": 0.040102,
     "end_time": "2021-06-28T09:32:58.971097",
     "exception": false,
     "start_time": "2021-06-28T09:32:58.930995",
     "status": "completed"
    },
    "tags": []
   },
   "outputs": [],
   "source": [
    "def train_loop(folds, fold):\n",
    "    print('\\n*** FOLD ', fold)\n",
    "    \n",
    "    # get indexes tagged for the current fold\n",
    "    train_index = folds[folds[\"fold\"] != fold].index\n",
    "    valid_index = folds[folds[\"fold\"] == fold].index\n",
    "    \n",
    "    # get data\n",
    "    train_folds = folds.loc[train_index].reset_index(drop=True)\n",
    "    valid_folds = folds.loc[valid_index].reset_index(drop=True)\n",
    "    \n",
    "    # create tokenizer and create dataset\n",
    "    tokenizer = DistilBertTokenizer.from_pretrained(CFG.model_path)\n",
    "    tokenizer.save_pretrained(f\"{CFG.model_name}_tokenizer\")\n",
    "    \n",
    "    train_dataset = CommonLitDataset(df=train_folds, tokenizer=tokenizer,\n",
    "                                     max_length=CFG.max_length)\n",
    "    valid_dataset = CommonLitDataset(df=valid_folds, tokenizer=tokenizer,\n",
    "                                     max_length=CFG.max_length)\n",
    "    \n",
    "    # create data loader with correct batch size\n",
    "    train_data_loader = DataLoader(train_dataset, \n",
    "                                   batch_size=CFG.batch_size, \n",
    "                                   shuffle=True, \n",
    "                                   num_workers=CFG.num_workers, \n",
    "                                   pin_memory=True)\n",
    "    valid_data_loader = DataLoader(valid_dataset, \n",
    "                                   batch_size=CFG.batch_size, \n",
    "                                   shuffle=False, \n",
    "                                   num_workers=CFG.num_workers, \n",
    "                                   pin_memory=True)\n",
    "    \n",
    "    # define scheduler, model, optimizer, loss\n",
    "    model = TextRegressionModel(model_name=CFG.model_name, dropout_p=CFG.dropout_p)\n",
    "    model.to(device)\n",
    "    \n",
    "    optimizer = get_optimizer(model)\n",
    "    scheduler = get_scheduler(optimizer)\n",
    "    \n",
    "    criterion = nn.MSELoss().to(device)\n",
    "    best_loss = np.inf # initiate with positive infinity\n",
    "    \n",
    "    # iterate through epochs\n",
    "    for epoch in range(CFG.n_epochs):\n",
    "        print('\\n')\n",
    "        start_time = time.time()\n",
    "        train_loss, train_rmse = train_step(model, criterion, optimizer, train_data_loader, epoch)\n",
    "        eval_loss, eval_rmse = eval_step(model, criterion, valid_data_loader, epoch)\n",
    "        scheduler.step()\n",
    "        elapsed = time.time() - start_time\n",
    "        \n",
    "        LOGGER.info(f'Epoch {epoch+1} - avg_train_loss: {train_loss:.4f} time: {elapsed:.0f}s')\n",
    "        LOGGER.info(f'Epoch {epoch+1} - avg_eval_loss: {eval_loss:.4f} - avg_rmse: {eval_rmse:.4f}')\n",
    "        save_training(fold, epoch, train_loss, eval_loss, train_rmse, eval_rmse)\n",
    "        \n",
    "        # save best loss and model\n",
    "        if eval_loss < best_loss:\n",
    "            best_loss = eval_loss\n",
    "            file_name = f\"{CFG.model_name}_fold_{fold}_best.pth\"\n",
    "            print('  -> save model as', file_name)\n",
    "            torch.save({\n",
    "                \"model\": model.state_dict(),\n",
    "                \"optimizer\": optimizer.state_dict(),\n",
    "                \"scheduler\": scheduler.state_dict()\n",
    "            }, file_name)"
   ]
  },
  {
   "cell_type": "code",
   "execution_count": 14,
   "id": "optimum-fundamentals",
   "metadata": {
    "execution": {
     "iopub.execute_input": "2021-06-28T09:32:59.028782Z",
     "iopub.status.busy": "2021-06-28T09:32:59.028072Z",
     "iopub.status.idle": "2021-06-28T09:32:59.030352Z",
     "shell.execute_reply": "2021-06-28T09:32:59.030810Z",
     "shell.execute_reply.started": "2021-06-28T07:00:01.259266Z"
    },
    "papermill": {
     "duration": 0.033522,
     "end_time": "2021-06-28T09:32:59.030936",
     "exception": false,
     "start_time": "2021-06-28T09:32:58.997414",
     "status": "completed"
    },
    "tags": []
   },
   "outputs": [],
   "source": [
    "def save_training(fold, epoch, train_loss, val_loss, train_rmse, val_rmse):\n",
    "    \"\"\"stores the values of loss and rmse during training\"\"\"\n",
    "    new_line = {'fold': fold, 'epoch': epoch,\n",
    "                'train_loss': train_loss, 'val_loss': val_loss,\n",
    "               'train_rmse': train_rmse, 'val_rmse': val_rmse}\n",
    "    training_evals.loc[len(training_evals)] = new_line\n",
    "    return training_evals"
   ]
  },
  {
   "cell_type": "markdown",
   "id": "moved-premiere",
   "metadata": {
    "papermill": {
     "duration": 0.026798,
     "end_time": "2021-06-28T09:32:59.084010",
     "exception": false,
     "start_time": "2021-06-28T09:32:59.057212",
     "status": "completed"
    },
    "tags": []
   },
   "source": [
    "# Main"
   ]
  },
  {
   "cell_type": "markdown",
   "id": "included-excitement",
   "metadata": {
    "papermill": {
     "duration": 0.026146,
     "end_time": "2021-06-28T09:32:59.137084",
     "exception": false,
     "start_time": "2021-06-28T09:32:59.110938",
     "status": "completed"
    },
    "tags": []
   },
   "source": [
    "#### CV split"
   ]
  },
  {
   "cell_type": "code",
   "execution_count": 15,
   "id": "identified-seventh",
   "metadata": {
    "execution": {
     "iopub.execute_input": "2021-06-28T09:32:59.196902Z",
     "iopub.status.busy": "2021-06-28T09:32:59.196066Z",
     "iopub.status.idle": "2021-06-28T09:32:59.206185Z",
     "shell.execute_reply": "2021-06-28T09:32:59.206884Z",
     "shell.execute_reply.started": "2021-06-28T07:00:06.410351Z"
    },
    "papermill": {
     "duration": 0.043667,
     "end_time": "2021-06-28T09:32:59.207059",
     "exception": false,
     "start_time": "2021-06-28T09:32:59.163392",
     "status": "completed"
    },
    "tags": []
   },
   "outputs": [
    {
     "name": "stdout",
     "output_type": "stream",
     "text": [
      "Number of observations per fold :\n",
      "\n",
      "fold\n",
      "0    567\n",
      "1    567\n",
      "2    567\n",
      "3    567\n",
      "4    566\n",
      "dtype: int64\n"
     ]
    }
   ],
   "source": [
    "# separate the observations in CFG.n_folds folds (here = 5)\n",
    "# the fold number is recorded in the 'fold' column of folds df\n",
    "folds = df_train.copy()\n",
    "Fold = KFold(n_splits=CFG.n_folds, shuffle=True, random_state=CFG.seed)\n",
    "for n, (train_idx, valid_idx) in enumerate(Fold.split(folds)):\n",
    "    folds.loc[valid_idx, \"fold\"] = int(n)\n",
    "    \n",
    "folds[\"fold\"] = folds[\"fold\"].astype(int)\n",
    "print('Number of observations per fold :\\n')\n",
    "print(folds.groupby([\"fold\"]).size())"
   ]
  },
  {
   "cell_type": "code",
   "execution_count": 16,
   "id": "judicial-blend",
   "metadata": {
    "execution": {
     "iopub.execute_input": "2021-06-28T09:32:59.265577Z",
     "iopub.status.busy": "2021-06-28T09:32:59.264786Z",
     "iopub.status.idle": "2021-06-28T09:32:59.267450Z",
     "shell.execute_reply": "2021-06-28T09:32:59.267011Z",
     "shell.execute_reply.started": "2021-06-28T07:00:13.189640Z"
    },
    "papermill": {
     "duration": 0.033379,
     "end_time": "2021-06-28T09:32:59.267554",
     "exception": false,
     "start_time": "2021-06-28T09:32:59.234175",
     "status": "completed"
    },
    "tags": []
   },
   "outputs": [],
   "source": [
    "def main():\n",
    "    for fold in range(CFG.n_folds):\n",
    "        gc.collect()\n",
    "        torch.cuda.empty_cache()\n",
    "        train_loop(folds, fold)"
   ]
  },
  {
   "cell_type": "code",
   "execution_count": 17,
   "id": "scientific-graduate",
   "metadata": {
    "execution": {
     "iopub.execute_input": "2021-06-28T09:32:59.325112Z",
     "iopub.status.busy": "2021-06-28T09:32:59.324504Z",
     "iopub.status.idle": "2021-06-28T10:01:05.020931Z",
     "shell.execute_reply": "2021-06-28T10:01:05.021338Z",
     "shell.execute_reply.started": "2021-06-28T08:55:32.523894Z"
    },
    "papermill": {
     "duration": 1685.727577,
     "end_time": "2021-06-28T10:01:05.021550",
     "exception": false,
     "start_time": "2021-06-28T09:32:59.293973",
     "status": "completed"
    },
    "tags": []
   },
   "outputs": [
    {
     "name": "stdout",
     "output_type": "stream",
     "text": [
      "\n",
      "*** FOLD  0\n",
      "\n",
      "\n",
      "Epoch 1 [0/71]: Elapsed 0m 2s (remain 2m 58s) Loss: 2.4172 (avg 2.4172) \n",
      "Epoch 1 [50/71]: Elapsed 0m 22s (remain 0m 8s) Loss: 0.6158 (avg 0.9403) \n",
      "Epoch 1 [70/71]: Elapsed 0m 30s (remain 0m 0s) Loss: 0.4107 (avg 0.8286) \n",
      "EVAL - Epoch 1 [0/18]: Loss: 0.2408 (avg 0.2408) \n"
     ]
    },
    {
     "name": "stderr",
     "output_type": "stream",
     "text": [
      "Epoch 1 - avg_train_loss: 0.8286 time: 34s\n",
      "Epoch 1 - avg_eval_loss: 0.4206 - avg_rmse: 0.6485\n"
     ]
    },
    {
     "name": "stdout",
     "output_type": "stream",
     "text": [
      "EVAL - Epoch 1 [17/18]: Loss: 0.6249 (avg 0.4206) \n",
      "  -> save model as distilbert-base-uncased_fold_0_best.pth\n",
      "\n",
      "\n",
      "Epoch 2 [0/71]: Elapsed 0m 1s (remain 1m 22s) Loss: 0.4675 (avg 0.4675) \n",
      "Epoch 2 [50/71]: Elapsed 0m 20s (remain 0m 8s) Loss: 0.3758 (avg 0.2995) \n",
      "Epoch 2 [70/71]: Elapsed 0m 28s (remain 0m 0s) Loss: 0.1657 (avg 0.3071) \n",
      "EVAL - Epoch 2 [0/18]: Loss: 0.5233 (avg 0.5233) \n"
     ]
    },
    {
     "name": "stderr",
     "output_type": "stream",
     "text": [
      "Epoch 2 - avg_train_loss: 0.3071 time: 33s\n",
      "Epoch 2 - avg_eval_loss: 0.4745 - avg_rmse: 0.6888\n"
     ]
    },
    {
     "name": "stdout",
     "output_type": "stream",
     "text": [
      "EVAL - Epoch 2 [17/18]: Loss: 0.5572 (avg 0.4745) \n",
      "\n",
      "\n",
      "Epoch 3 [0/71]: Elapsed 0m 0s (remain 1m 3s) Loss: 0.2257 (avg 0.2257) \n",
      "Epoch 3 [50/71]: Elapsed 0m 20s (remain 0m 8s) Loss: 0.1511 (avg 0.1615) \n",
      "Epoch 3 [70/71]: Elapsed 0m 28s (remain 0m 0s) Loss: 0.1193 (avg 0.1607) \n",
      "EVAL - Epoch 3 [0/18]: Loss: 0.2723 (avg 0.2723) \n"
     ]
    },
    {
     "name": "stderr",
     "output_type": "stream",
     "text": [
      "Epoch 3 - avg_train_loss: 0.1607 time: 32s\n",
      "Epoch 3 - avg_eval_loss: 0.3645 - avg_rmse: 0.6037\n"
     ]
    },
    {
     "name": "stdout",
     "output_type": "stream",
     "text": [
      "EVAL - Epoch 3 [17/18]: Loss: 0.4591 (avg 0.3645) \n",
      "  -> save model as distilbert-base-uncased_fold_0_best.pth\n",
      "\n",
      "\n",
      "Epoch 4 [0/71]: Elapsed 0m 1s (remain 1m 13s) Loss: 0.0662 (avg 0.0662) \n",
      "Epoch 4 [50/71]: Elapsed 0m 20s (remain 0m 8s) Loss: 0.0526 (avg 0.0895) \n",
      "Epoch 4 [70/71]: Elapsed 0m 28s (remain 0m 0s) Loss: 0.0663 (avg 0.0876) \n",
      "EVAL - Epoch 4 [0/18]: Loss: 0.2371 (avg 0.2371) \n"
     ]
    },
    {
     "name": "stderr",
     "output_type": "stream",
     "text": [
      "Epoch 4 - avg_train_loss: 0.0876 time: 32s\n",
      "Epoch 4 - avg_eval_loss: 0.3554 - avg_rmse: 0.5961\n"
     ]
    },
    {
     "name": "stdout",
     "output_type": "stream",
     "text": [
      "EVAL - Epoch 4 [17/18]: Loss: 0.5007 (avg 0.3554) \n",
      "  -> save model as distilbert-base-uncased_fold_0_best.pth\n",
      "\n",
      "\n",
      "Epoch 5 [0/71]: Elapsed 0m 0s (remain 1m 0s) Loss: 0.0472 (avg 0.0472) \n",
      "Epoch 5 [50/71]: Elapsed 0m 20s (remain 0m 8s) Loss: 0.0526 (avg 0.0515) \n",
      "Epoch 5 [70/71]: Elapsed 0m 28s (remain 0m 0s) Loss: 0.0683 (avg 0.0493) \n",
      "EVAL - Epoch 5 [0/18]: Loss: 0.2531 (avg 0.2531) \n"
     ]
    },
    {
     "name": "stderr",
     "output_type": "stream",
     "text": [
      "Epoch 5 - avg_train_loss: 0.0493 time: 32s\n",
      "Epoch 5 - avg_eval_loss: 0.3536 - avg_rmse: 0.5946\n"
     ]
    },
    {
     "name": "stdout",
     "output_type": "stream",
     "text": [
      "EVAL - Epoch 5 [17/18]: Loss: 0.4826 (avg 0.3536) \n",
      "  -> save model as distilbert-base-uncased_fold_0_best.pth\n",
      "\n",
      "\n",
      "Epoch 6 [0/71]: Elapsed 0m 0s (remain 1m 5s) Loss: 0.0309 (avg 0.0309) \n",
      "Epoch 6 [50/71]: Elapsed 0m 20s (remain 0m 8s) Loss: 0.0243 (avg 0.0283) \n",
      "Epoch 6 [70/71]: Elapsed 0m 28s (remain 0m 0s) Loss: 0.0328 (avg 0.0279) \n",
      "EVAL - Epoch 6 [0/18]: Loss: 0.2922 (avg 0.2922) \n"
     ]
    },
    {
     "name": "stderr",
     "output_type": "stream",
     "text": [
      "Epoch 6 - avg_train_loss: 0.0279 time: 32s\n",
      "Epoch 6 - avg_eval_loss: 0.3553 - avg_rmse: 0.5961\n"
     ]
    },
    {
     "name": "stdout",
     "output_type": "stream",
     "text": [
      "EVAL - Epoch 6 [17/18]: Loss: 0.4495 (avg 0.3553) \n",
      "\n",
      "\n",
      "Epoch 7 [0/71]: Elapsed 0m 0s (remain 1m 8s) Loss: 0.0166 (avg 0.0166) \n",
      "Epoch 7 [50/71]: Elapsed 0m 20s (remain 0m 8s) Loss: 0.0143 (avg 0.0187) \n",
      "Epoch 7 [70/71]: Elapsed 0m 28s (remain 0m 0s) Loss: 0.0312 (avg 0.0190) \n",
      "EVAL - Epoch 7 [0/18]: Loss: 0.2537 (avg 0.2537) \n"
     ]
    },
    {
     "name": "stderr",
     "output_type": "stream",
     "text": [
      "Epoch 7 - avg_train_loss: 0.0190 time: 32s\n",
      "Epoch 7 - avg_eval_loss: 0.3424 - avg_rmse: 0.5852\n"
     ]
    },
    {
     "name": "stdout",
     "output_type": "stream",
     "text": [
      "EVAL - Epoch 7 [17/18]: Loss: 0.4527 (avg 0.3424) \n",
      "  -> save model as distilbert-base-uncased_fold_0_best.pth\n",
      "\n",
      "\n",
      "Epoch 8 [0/71]: Elapsed 0m 1s (remain 1m 43s) Loss: 0.0237 (avg 0.0237) \n",
      "Epoch 8 [50/71]: Elapsed 0m 21s (remain 0m 8s) Loss: 0.0134 (avg 0.0133) \n",
      "Epoch 8 [70/71]: Elapsed 0m 29s (remain 0m 0s) Loss: 0.0093 (avg 0.0130) \n",
      "EVAL - Epoch 8 [0/18]: Loss: 0.2519 (avg 0.2519) \n"
     ]
    },
    {
     "name": "stderr",
     "output_type": "stream",
     "text": [
      "Epoch 8 - avg_train_loss: 0.0130 time: 33s\n",
      "Epoch 8 - avg_eval_loss: 0.3501 - avg_rmse: 0.5917\n"
     ]
    },
    {
     "name": "stdout",
     "output_type": "stream",
     "text": [
      "EVAL - Epoch 8 [17/18]: Loss: 0.4718 (avg 0.3501) \n",
      "\n",
      "\n",
      "Epoch 9 [0/71]: Elapsed 0m 1s (remain 1m 16s) Loss: 0.0097 (avg 0.0097) \n",
      "Epoch 9 [50/71]: Elapsed 0m 20s (remain 0m 8s) Loss: 0.0083 (avg 0.0107) \n",
      "Epoch 9 [70/71]: Elapsed 0m 28s (remain 0m 0s) Loss: 0.0142 (avg 0.0110) \n",
      "EVAL - Epoch 9 [0/18]: Loss: 0.2531 (avg 0.2531) \n"
     ]
    },
    {
     "name": "stderr",
     "output_type": "stream",
     "text": [
      "Epoch 9 - avg_train_loss: 0.0110 time: 32s\n",
      "Epoch 9 - avg_eval_loss: 0.3458 - avg_rmse: 0.5881\n"
     ]
    },
    {
     "name": "stdout",
     "output_type": "stream",
     "text": [
      "EVAL - Epoch 9 [17/18]: Loss: 0.4647 (avg 0.3458) \n",
      "\n",
      "\n",
      "Epoch 10 [0/71]: Elapsed 0m 1s (remain 1m 23s) Loss: 0.0073 (avg 0.0073) \n",
      "Epoch 10 [50/71]: Elapsed 0m 21s (remain 0m 8s) Loss: 0.0073 (avg 0.0105) \n",
      "Epoch 10 [70/71]: Elapsed 0m 28s (remain 0m 0s) Loss: 0.0104 (avg 0.0103) \n",
      "EVAL - Epoch 10 [0/18]: Loss: 0.2573 (avg 0.2573) \n"
     ]
    },
    {
     "name": "stderr",
     "output_type": "stream",
     "text": [
      "Epoch 10 - avg_train_loss: 0.0103 time: 33s\n",
      "Epoch 10 - avg_eval_loss: 0.3446 - avg_rmse: 0.5870\n"
     ]
    },
    {
     "name": "stdout",
     "output_type": "stream",
     "text": [
      "EVAL - Epoch 10 [17/18]: Loss: 0.4612 (avg 0.3446) \n",
      "\n",
      "*** FOLD  1\n",
      "\n",
      "\n",
      "Epoch 1 [0/71]: Elapsed 0m 1s (remain 1m 47s) Loss: 2.2180 (avg 2.2180) \n",
      "Epoch 1 [50/71]: Elapsed 0m 21s (remain 0m 8s) Loss: 0.5046 (avg 1.1905) \n",
      "Epoch 1 [70/71]: Elapsed 0m 29s (remain 0m 0s) Loss: 0.7703 (avg 0.9884) \n",
      "EVAL - Epoch 1 [0/18]: Loss: 0.3397 (avg 0.3397) \n"
     ]
    },
    {
     "name": "stderr",
     "output_type": "stream",
     "text": [
      "Epoch 1 - avg_train_loss: 0.9884 time: 33s\n",
      "Epoch 1 - avg_eval_loss: 0.3872 - avg_rmse: 0.6222\n"
     ]
    },
    {
     "name": "stdout",
     "output_type": "stream",
     "text": [
      "EVAL - Epoch 1 [17/18]: Loss: 0.3281 (avg 0.3872) \n",
      "  -> save model as distilbert-base-uncased_fold_1_best.pth\n",
      "\n",
      "\n",
      "Epoch 2 [0/71]: Elapsed 0m 0s (remain 1m 9s) Loss: 0.3102 (avg 0.3102) \n",
      "Epoch 2 [50/71]: Elapsed 0m 21s (remain 0m 8s) Loss: 0.3261 (avg 0.3156) \n",
      "Epoch 2 [70/71]: Elapsed 0m 28s (remain 0m 0s) Loss: 0.2794 (avg 0.3224) \n",
      "EVAL - Epoch 2 [0/18]: Loss: 0.3257 (avg 0.3257) \n"
     ]
    },
    {
     "name": "stderr",
     "output_type": "stream",
     "text": [
      "Epoch 2 - avg_train_loss: 0.3224 time: 33s\n",
      "Epoch 2 - avg_eval_loss: 0.4041 - avg_rmse: 0.6357\n"
     ]
    },
    {
     "name": "stdout",
     "output_type": "stream",
     "text": [
      "EVAL - Epoch 2 [17/18]: Loss: 0.5609 (avg 0.4041) \n",
      "\n",
      "\n",
      "Epoch 3 [0/71]: Elapsed 0m 0s (remain 1m 5s) Loss: 0.1558 (avg 0.1558) \n",
      "Epoch 3 [50/71]: Elapsed 0m 20s (remain 0m 8s) Loss: 0.1003 (avg 0.1639) \n",
      "Epoch 3 [70/71]: Elapsed 0m 28s (remain 0m 0s) Loss: 0.1712 (avg 0.1574) \n",
      "EVAL - Epoch 3 [0/18]: Loss: 0.3747 (avg 0.3747) \n"
     ]
    },
    {
     "name": "stderr",
     "output_type": "stream",
     "text": [
      "Epoch 3 - avg_train_loss: 0.1574 time: 32s\n",
      "Epoch 3 - avg_eval_loss: 0.4579 - avg_rmse: 0.6767\n"
     ]
    },
    {
     "name": "stdout",
     "output_type": "stream",
     "text": [
      "EVAL - Epoch 3 [17/18]: Loss: 0.5770 (avg 0.4579) \n",
      "\n",
      "\n",
      "Epoch 4 [0/71]: Elapsed 0m 1s (remain 1m 10s) Loss: 0.0919 (avg 0.0919) \n",
      "Epoch 4 [50/71]: Elapsed 0m 20s (remain 0m 8s) Loss: 0.1351 (avg 0.1011) \n",
      "Epoch 4 [70/71]: Elapsed 0m 28s (remain 0m 0s) Loss: 0.0802 (avg 0.0953) \n",
      "EVAL - Epoch 4 [0/18]: Loss: 0.3601 (avg 0.3601) \n"
     ]
    },
    {
     "name": "stderr",
     "output_type": "stream",
     "text": [
      "Epoch 4 - avg_train_loss: 0.0953 time: 32s\n",
      "Epoch 4 - avg_eval_loss: 0.3993 - avg_rmse: 0.6319\n"
     ]
    },
    {
     "name": "stdout",
     "output_type": "stream",
     "text": [
      "EVAL - Epoch 4 [17/18]: Loss: 0.4602 (avg 0.3993) \n",
      "\n",
      "\n",
      "Epoch 5 [0/71]: Elapsed 0m 1s (remain 1m 43s) Loss: 0.0451 (avg 0.0451) \n",
      "Epoch 5 [50/71]: Elapsed 0m 21s (remain 0m 8s) Loss: 0.0568 (avg 0.0497) \n",
      "Epoch 5 [70/71]: Elapsed 0m 29s (remain 0m 0s) Loss: 0.0648 (avg 0.0512) \n",
      "EVAL - Epoch 5 [0/18]: Loss: 0.3566 (avg 0.3566) \n"
     ]
    },
    {
     "name": "stderr",
     "output_type": "stream",
     "text": [
      "Epoch 5 - avg_train_loss: 0.0512 time: 33s\n",
      "Epoch 5 - avg_eval_loss: 0.3979 - avg_rmse: 0.6308\n"
     ]
    },
    {
     "name": "stdout",
     "output_type": "stream",
     "text": [
      "EVAL - Epoch 5 [17/18]: Loss: 0.4243 (avg 0.3979) \n",
      "\n",
      "\n",
      "Epoch 6 [0/71]: Elapsed 0m 1s (remain 1m 21s) Loss: 0.0303 (avg 0.0303) \n",
      "Epoch 6 [50/71]: Elapsed 0m 21s (remain 0m 8s) Loss: 0.0246 (avg 0.0300) \n",
      "Epoch 6 [70/71]: Elapsed 0m 28s (remain 0m 0s) Loss: 0.0244 (avg 0.0300) \n",
      "EVAL - Epoch 6 [0/18]: Loss: 0.3442 (avg 0.3442) \n"
     ]
    },
    {
     "name": "stderr",
     "output_type": "stream",
     "text": [
      "Epoch 6 - avg_train_loss: 0.0300 time: 33s\n",
      "Epoch 6 - avg_eval_loss: 0.3932 - avg_rmse: 0.6270\n"
     ]
    },
    {
     "name": "stdout",
     "output_type": "stream",
     "text": [
      "EVAL - Epoch 6 [17/18]: Loss: 0.4468 (avg 0.3932) \n",
      "\n",
      "\n",
      "Epoch 7 [0/71]: Elapsed 0m 1s (remain 1m 18s) Loss: 0.0164 (avg 0.0164) \n",
      "Epoch 7 [50/71]: Elapsed 0m 21s (remain 0m 8s) Loss: 0.0149 (avg 0.0193) \n",
      "Epoch 7 [70/71]: Elapsed 0m 28s (remain 0m 0s) Loss: 0.0269 (avg 0.0195) \n",
      "EVAL - Epoch 7 [0/18]: Loss: 0.3568 (avg 0.3568) \n"
     ]
    },
    {
     "name": "stderr",
     "output_type": "stream",
     "text": [
      "Epoch 7 - avg_train_loss: 0.0195 time: 32s\n",
      "Epoch 7 - avg_eval_loss: 0.3965 - avg_rmse: 0.6297\n"
     ]
    },
    {
     "name": "stdout",
     "output_type": "stream",
     "text": [
      "EVAL - Epoch 7 [17/18]: Loss: 0.4111 (avg 0.3965) \n",
      "\n",
      "\n",
      "Epoch 8 [0/71]: Elapsed 0m 1s (remain 1m 13s) Loss: 0.0125 (avg 0.0125) \n",
      "Epoch 8 [50/71]: Elapsed 0m 20s (remain 0m 8s) Loss: 0.0173 (avg 0.0152) \n",
      "Epoch 8 [70/71]: Elapsed 0m 28s (remain 0m 0s) Loss: 0.0253 (avg 0.0148) \n",
      "EVAL - Epoch 8 [0/18]: Loss: 0.3508 (avg 0.3508) \n"
     ]
    },
    {
     "name": "stderr",
     "output_type": "stream",
     "text": [
      "Epoch 8 - avg_train_loss: 0.0148 time: 32s\n",
      "Epoch 8 - avg_eval_loss: 0.3941 - avg_rmse: 0.6278\n"
     ]
    },
    {
     "name": "stdout",
     "output_type": "stream",
     "text": [
      "EVAL - Epoch 8 [17/18]: Loss: 0.4379 (avg 0.3941) \n",
      "\n",
      "\n",
      "Epoch 9 [0/71]: Elapsed 0m 1s (remain 1m 12s) Loss: 0.0073 (avg 0.0073) \n",
      "Epoch 9 [50/71]: Elapsed 0m 20s (remain 0m 8s) Loss: 0.0124 (avg 0.0121) \n",
      "Epoch 9 [70/71]: Elapsed 0m 28s (remain 0m 0s) Loss: 0.0035 (avg 0.0118) \n",
      "EVAL - Epoch 9 [0/18]: Loss: 0.3501 (avg 0.3501) \n"
     ]
    },
    {
     "name": "stderr",
     "output_type": "stream",
     "text": [
      "Epoch 9 - avg_train_loss: 0.0118 time: 32s\n",
      "Epoch 9 - avg_eval_loss: 0.3940 - avg_rmse: 0.6277\n"
     ]
    },
    {
     "name": "stdout",
     "output_type": "stream",
     "text": [
      "EVAL - Epoch 9 [17/18]: Loss: 0.4399 (avg 0.3940) \n",
      "\n",
      "\n",
      "Epoch 10 [0/71]: Elapsed 0m 0s (remain 1m 7s) Loss: 0.0173 (avg 0.0173) \n",
      "Epoch 10 [50/71]: Elapsed 0m 20s (remain 0m 8s) Loss: 0.0063 (avg 0.0105) \n",
      "Epoch 10 [70/71]: Elapsed 0m 28s (remain 0m 0s) Loss: 0.0151 (avg 0.0104) \n",
      "EVAL - Epoch 10 [0/18]: Loss: 0.3529 (avg 0.3529) \n"
     ]
    },
    {
     "name": "stderr",
     "output_type": "stream",
     "text": [
      "Epoch 10 - avg_train_loss: 0.0104 time: 32s\n",
      "Epoch 10 - avg_eval_loss: 0.3977 - avg_rmse: 0.6307\n"
     ]
    },
    {
     "name": "stdout",
     "output_type": "stream",
     "text": [
      "EVAL - Epoch 10 [17/18]: Loss: 0.4311 (avg 0.3977) \n",
      "\n",
      "*** FOLD  2\n",
      "\n",
      "\n",
      "Epoch 1 [0/71]: Elapsed 0m 1s (remain 1m 23s) Loss: 1.1950 (avg 1.1950) \n",
      "Epoch 1 [50/71]: Elapsed 0m 21s (remain 0m 8s) Loss: 0.4409 (avg 0.8255) \n",
      "Epoch 1 [70/71]: Elapsed 0m 28s (remain 0m 0s) Loss: 0.3972 (avg 0.7418) \n",
      "EVAL - Epoch 1 [0/18]: Loss: 0.5565 (avg 0.5565) \n"
     ]
    },
    {
     "name": "stderr",
     "output_type": "stream",
     "text": [
      "Epoch 1 - avg_train_loss: 0.7418 time: 32s\n",
      "Epoch 1 - avg_eval_loss: 0.5020 - avg_rmse: 0.7085\n"
     ]
    },
    {
     "name": "stdout",
     "output_type": "stream",
     "text": [
      "EVAL - Epoch 1 [17/18]: Loss: 0.5775 (avg 0.5020) \n",
      "  -> save model as distilbert-base-uncased_fold_2_best.pth\n",
      "\n",
      "\n",
      "Epoch 2 [0/71]: Elapsed 0m 1s (remain 1m 37s) Loss: 0.3479 (avg 0.3479) \n",
      "Epoch 2 [50/71]: Elapsed 0m 21s (remain 0m 8s) Loss: 0.2789 (avg 0.3207) \n",
      "Epoch 2 [70/71]: Elapsed 0m 29s (remain 0m 0s) Loss: 0.2465 (avg 0.3185) \n",
      "EVAL - Epoch 2 [0/18]: Loss: 0.4048 (avg 0.4048) \n"
     ]
    },
    {
     "name": "stderr",
     "output_type": "stream",
     "text": [
      "Epoch 2 - avg_train_loss: 0.3185 time: 33s\n",
      "Epoch 2 - avg_eval_loss: 0.3664 - avg_rmse: 0.6053\n"
     ]
    },
    {
     "name": "stdout",
     "output_type": "stream",
     "text": [
      "EVAL - Epoch 2 [17/18]: Loss: 0.3623 (avg 0.3664) \n",
      "  -> save model as distilbert-base-uncased_fold_2_best.pth\n",
      "\n",
      "\n",
      "Epoch 3 [0/71]: Elapsed 0m 1s (remain 1m 20s) Loss: 0.1749 (avg 0.1749) \n",
      "Epoch 3 [50/71]: Elapsed 0m 21s (remain 0m 8s) Loss: 0.2442 (avg 0.2019) \n",
      "Epoch 3 [70/71]: Elapsed 0m 28s (remain 0m 0s) Loss: 0.1709 (avg 0.1888) \n",
      "EVAL - Epoch 3 [0/18]: Loss: 0.5228 (avg 0.5228) \n"
     ]
    },
    {
     "name": "stderr",
     "output_type": "stream",
     "text": [
      "Epoch 3 - avg_train_loss: 0.1888 time: 32s\n",
      "Epoch 3 - avg_eval_loss: 0.3970 - avg_rmse: 0.6301\n"
     ]
    },
    {
     "name": "stdout",
     "output_type": "stream",
     "text": [
      "EVAL - Epoch 3 [17/18]: Loss: 0.3361 (avg 0.3970) \n",
      "\n",
      "\n",
      "Epoch 4 [0/71]: Elapsed 0m 1s (remain 1m 13s) Loss: 0.1235 (avg 0.1235) \n",
      "Epoch 4 [50/71]: Elapsed 0m 20s (remain 0m 8s) Loss: 0.0774 (avg 0.1251) \n",
      "Epoch 4 [70/71]: Elapsed 0m 28s (remain 0m 0s) Loss: 0.1265 (avg 0.1218) \n",
      "EVAL - Epoch 4 [0/18]: Loss: 0.5995 (avg 0.5995) \n"
     ]
    },
    {
     "name": "stderr",
     "output_type": "stream",
     "text": [
      "Epoch 4 - avg_train_loss: 0.1218 time: 32s\n",
      "Epoch 4 - avg_eval_loss: 0.4481 - avg_rmse: 0.6694\n"
     ]
    },
    {
     "name": "stdout",
     "output_type": "stream",
     "text": [
      "EVAL - Epoch 4 [17/18]: Loss: 0.4640 (avg 0.4481) \n",
      "\n",
      "\n",
      "Epoch 5 [0/71]: Elapsed 0m 0s (remain 1m 2s) Loss: 0.1384 (avg 0.1384) \n",
      "Epoch 5 [50/71]: Elapsed 0m 20s (remain 0m 8s) Loss: 0.0538 (avg 0.0764) \n",
      "Epoch 5 [70/71]: Elapsed 0m 28s (remain 0m 0s) Loss: 0.0433 (avg 0.0720) \n",
      "EVAL - Epoch 5 [0/18]: Loss: 0.4453 (avg 0.4453) \n"
     ]
    },
    {
     "name": "stderr",
     "output_type": "stream",
     "text": [
      "Epoch 5 - avg_train_loss: 0.0720 time: 32s\n",
      "Epoch 5 - avg_eval_loss: 0.3672 - avg_rmse: 0.6060\n"
     ]
    },
    {
     "name": "stdout",
     "output_type": "stream",
     "text": [
      "EVAL - Epoch 5 [17/18]: Loss: 0.3286 (avg 0.3672) \n",
      "\n",
      "\n",
      "Epoch 6 [0/71]: Elapsed 0m 1s (remain 1m 27s) Loss: 0.0365 (avg 0.0365) \n",
      "Epoch 6 [50/71]: Elapsed 0m 21s (remain 0m 8s) Loss: 0.0270 (avg 0.0407) \n",
      "Epoch 6 [70/71]: Elapsed 0m 28s (remain 0m 0s) Loss: 0.0596 (avg 0.0410) \n",
      "EVAL - Epoch 6 [0/18]: Loss: 0.4606 (avg 0.4606) \n"
     ]
    },
    {
     "name": "stderr",
     "output_type": "stream",
     "text": [
      "Epoch 6 - avg_train_loss: 0.0410 time: 33s\n",
      "Epoch 6 - avg_eval_loss: 0.3762 - avg_rmse: 0.6134\n"
     ]
    },
    {
     "name": "stdout",
     "output_type": "stream",
     "text": [
      "EVAL - Epoch 6 [17/18]: Loss: 0.3664 (avg 0.3762) \n",
      "\n",
      "\n",
      "Epoch 7 [0/71]: Elapsed 0m 1s (remain 1m 25s) Loss: 0.0219 (avg 0.0219) \n",
      "Epoch 7 [50/71]: Elapsed 0m 21s (remain 0m 8s) Loss: 0.0340 (avg 0.0285) \n",
      "Epoch 7 [70/71]: Elapsed 0m 28s (remain 0m 0s) Loss: 0.0180 (avg 0.0273) \n",
      "EVAL - Epoch 7 [0/18]: Loss: 0.4508 (avg 0.4508) \n"
     ]
    },
    {
     "name": "stderr",
     "output_type": "stream",
     "text": [
      "Epoch 7 - avg_train_loss: 0.0273 time: 32s\n",
      "Epoch 7 - avg_eval_loss: 0.3675 - avg_rmse: 0.6062\n"
     ]
    },
    {
     "name": "stdout",
     "output_type": "stream",
     "text": [
      "EVAL - Epoch 7 [17/18]: Loss: 0.3606 (avg 0.3675) \n",
      "\n",
      "\n",
      "Epoch 8 [0/71]: Elapsed 0m 1s (remain 1m 12s) Loss: 0.0148 (avg 0.0148) \n",
      "Epoch 8 [50/71]: Elapsed 0m 20s (remain 0m 8s) Loss: 0.0165 (avg 0.0179) \n",
      "Epoch 8 [70/71]: Elapsed 0m 28s (remain 0m 0s) Loss: 0.0178 (avg 0.0183) \n",
      "EVAL - Epoch 8 [0/18]: Loss: 0.4214 (avg 0.4214) \n"
     ]
    },
    {
     "name": "stderr",
     "output_type": "stream",
     "text": [
      "Epoch 8 - avg_train_loss: 0.0183 time: 33s\n",
      "Epoch 8 - avg_eval_loss: 0.3592 - avg_rmse: 0.5993\n"
     ]
    },
    {
     "name": "stdout",
     "output_type": "stream",
     "text": [
      "EVAL - Epoch 8 [17/18]: Loss: 0.3364 (avg 0.3592) \n",
      "  -> save model as distilbert-base-uncased_fold_2_best.pth\n",
      "\n",
      "\n",
      "Epoch 9 [0/71]: Elapsed 0m 1s (remain 1m 38s) Loss: 0.0130 (avg 0.0130) \n",
      "Epoch 9 [50/71]: Elapsed 0m 21s (remain 0m 8s) Loss: 0.0132 (avg 0.0144) \n",
      "Epoch 9 [70/71]: Elapsed 0m 29s (remain 0m 0s) Loss: 0.0127 (avg 0.0147) \n",
      "EVAL - Epoch 9 [0/18]: Loss: 0.4229 (avg 0.4229) \n"
     ]
    },
    {
     "name": "stderr",
     "output_type": "stream",
     "text": [
      "Epoch 9 - avg_train_loss: 0.0147 time: 33s\n",
      "Epoch 9 - avg_eval_loss: 0.3607 - avg_rmse: 0.6005\n"
     ]
    },
    {
     "name": "stdout",
     "output_type": "stream",
     "text": [
      "EVAL - Epoch 9 [17/18]: Loss: 0.3503 (avg 0.3607) \n",
      "\n",
      "\n",
      "Epoch 10 [0/71]: Elapsed 0m 1s (remain 1m 13s) Loss: 0.0102 (avg 0.0102) \n",
      "Epoch 10 [50/71]: Elapsed 0m 20s (remain 0m 8s) Loss: 0.0114 (avg 0.0132) \n",
      "Epoch 10 [70/71]: Elapsed 0m 28s (remain 0m 0s) Loss: 0.0290 (avg 0.0133) \n",
      "EVAL - Epoch 10 [0/18]: Loss: 0.4198 (avg 0.4198) \n"
     ]
    },
    {
     "name": "stderr",
     "output_type": "stream",
     "text": [
      "Epoch 10 - avg_train_loss: 0.0133 time: 32s\n",
      "Epoch 10 - avg_eval_loss: 0.3603 - avg_rmse: 0.6003\n"
     ]
    },
    {
     "name": "stdout",
     "output_type": "stream",
     "text": [
      "EVAL - Epoch 10 [17/18]: Loss: 0.3495 (avg 0.3603) \n",
      "\n",
      "*** FOLD  3\n",
      "\n",
      "\n",
      "Epoch 1 [0/71]: Elapsed 0m 1s (remain 1m 10s) Loss: 1.9764 (avg 1.9764) \n",
      "Epoch 1 [50/71]: Elapsed 0m 20s (remain 0m 8s) Loss: 0.5574 (avg 0.9275) \n",
      "Epoch 1 [70/71]: Elapsed 0m 28s (remain 0m 0s) Loss: 0.6207 (avg 0.8370) \n",
      "EVAL - Epoch 1 [0/18]: Loss: 0.3323 (avg 0.3323) \n"
     ]
    },
    {
     "name": "stderr",
     "output_type": "stream",
     "text": [
      "Epoch 1 - avg_train_loss: 0.8370 time: 32s\n",
      "Epoch 1 - avg_eval_loss: 0.4650 - avg_rmse: 0.6819\n"
     ]
    },
    {
     "name": "stdout",
     "output_type": "stream",
     "text": [
      "EVAL - Epoch 1 [17/18]: Loss: 0.4279 (avg 0.4650) \n",
      "  -> save model as distilbert-base-uncased_fold_3_best.pth\n",
      "\n",
      "\n",
      "Epoch 2 [0/71]: Elapsed 0m 1s (remain 1m 13s) Loss: 0.4945 (avg 0.4945) \n",
      "Epoch 2 [50/71]: Elapsed 0m 21s (remain 0m 8s) Loss: 0.2259 (avg 0.3709) \n",
      "Epoch 2 [70/71]: Elapsed 0m 28s (remain 0m 0s) Loss: 0.3691 (avg 0.3612) \n",
      "EVAL - Epoch 2 [0/18]: Loss: 0.2961 (avg 0.2961) \n"
     ]
    },
    {
     "name": "stderr",
     "output_type": "stream",
     "text": [
      "Epoch 2 - avg_train_loss: 0.3612 time: 33s\n",
      "Epoch 2 - avg_eval_loss: 0.3958 - avg_rmse: 0.6291\n"
     ]
    },
    {
     "name": "stdout",
     "output_type": "stream",
     "text": [
      "EVAL - Epoch 2 [17/18]: Loss: 0.2371 (avg 0.3958) \n",
      "  -> save model as distilbert-base-uncased_fold_3_best.pth\n",
      "\n",
      "\n",
      "Epoch 3 [0/71]: Elapsed 0m 1s (remain 1m 26s) Loss: 0.0891 (avg 0.0891) \n",
      "Epoch 3 [50/71]: Elapsed 0m 21s (remain 0m 8s) Loss: 0.0854 (avg 0.1846) \n",
      "Epoch 3 [70/71]: Elapsed 0m 28s (remain 0m 0s) Loss: 0.1206 (avg 0.1814) \n",
      "EVAL - Epoch 3 [0/18]: Loss: 0.2327 (avg 0.2327) \n"
     ]
    },
    {
     "name": "stderr",
     "output_type": "stream",
     "text": [
      "Epoch 3 - avg_train_loss: 0.1814 time: 33s\n",
      "Epoch 3 - avg_eval_loss: 0.4314 - avg_rmse: 0.6568\n"
     ]
    },
    {
     "name": "stdout",
     "output_type": "stream",
     "text": [
      "EVAL - Epoch 3 [17/18]: Loss: 0.2236 (avg 0.4314) \n",
      "\n",
      "\n",
      "Epoch 4 [0/71]: Elapsed 0m 1s (remain 1m 21s) Loss: 0.1060 (avg 0.1060) \n",
      "Epoch 4 [50/71]: Elapsed 0m 20s (remain 0m 8s) Loss: 0.2032 (avg 0.1315) \n",
      "Epoch 4 [70/71]: Elapsed 0m 28s (remain 0m 0s) Loss: 0.1722 (avg 0.1350) \n",
      "EVAL - Epoch 4 [0/18]: Loss: 0.2882 (avg 0.2882) \n"
     ]
    },
    {
     "name": "stderr",
     "output_type": "stream",
     "text": [
      "Epoch 4 - avg_train_loss: 0.1350 time: 32s\n",
      "Epoch 4 - avg_eval_loss: 0.4128 - avg_rmse: 0.6425\n"
     ]
    },
    {
     "name": "stdout",
     "output_type": "stream",
     "text": [
      "EVAL - Epoch 4 [17/18]: Loss: 0.2036 (avg 0.4128) \n",
      "\n",
      "\n",
      "Epoch 5 [0/71]: Elapsed 0m 0s (remain 1m 7s) Loss: 0.0812 (avg 0.0812) \n",
      "Epoch 5 [50/71]: Elapsed 0m 20s (remain 0m 8s) Loss: 0.0642 (avg 0.0976) \n",
      "Epoch 5 [70/71]: Elapsed 0m 28s (remain 0m 0s) Loss: 0.0373 (avg 0.0917) \n",
      "EVAL - Epoch 5 [0/18]: Loss: 0.1904 (avg 0.1904) \n"
     ]
    },
    {
     "name": "stderr",
     "output_type": "stream",
     "text": [
      "Epoch 5 - avg_train_loss: 0.0917 time: 32s\n",
      "Epoch 5 - avg_eval_loss: 0.3832 - avg_rmse: 0.6190\n"
     ]
    },
    {
     "name": "stdout",
     "output_type": "stream",
     "text": [
      "EVAL - Epoch 5 [17/18]: Loss: 0.1744 (avg 0.3832) \n",
      "  -> save model as distilbert-base-uncased_fold_3_best.pth\n",
      "\n",
      "\n",
      "Epoch 6 [0/71]: Elapsed 0m 1s (remain 1m 26s) Loss: 0.0455 (avg 0.0455) \n",
      "Epoch 6 [50/71]: Elapsed 0m 21s (remain 0m 8s) Loss: 0.0650 (avg 0.0543) \n",
      "Epoch 6 [70/71]: Elapsed 0m 28s (remain 0m 0s) Loss: 0.0611 (avg 0.0564) \n",
      "EVAL - Epoch 6 [0/18]: Loss: 0.2060 (avg 0.2060) \n"
     ]
    },
    {
     "name": "stderr",
     "output_type": "stream",
     "text": [
      "Epoch 6 - avg_train_loss: 0.0564 time: 33s\n",
      "Epoch 6 - avg_eval_loss: 0.3715 - avg_rmse: 0.6095\n"
     ]
    },
    {
     "name": "stdout",
     "output_type": "stream",
     "text": [
      "EVAL - Epoch 6 [17/18]: Loss: 0.1729 (avg 0.3715) \n",
      "  -> save model as distilbert-base-uncased_fold_3_best.pth\n",
      "\n",
      "\n",
      "Epoch 7 [0/71]: Elapsed 0m 1s (remain 2m 1s) Loss: 0.0225 (avg 0.0225) \n",
      "Epoch 7 [50/71]: Elapsed 0m 21s (remain 0m 8s) Loss: 0.0360 (avg 0.0357) \n",
      "Epoch 7 [70/71]: Elapsed 0m 29s (remain 0m 0s) Loss: 0.0210 (avg 0.0348) \n",
      "EVAL - Epoch 7 [0/18]: Loss: 0.1898 (avg 0.1898) \n"
     ]
    },
    {
     "name": "stderr",
     "output_type": "stream",
     "text": [
      "Epoch 7 - avg_train_loss: 0.0348 time: 33s\n",
      "Epoch 7 - avg_eval_loss: 0.3778 - avg_rmse: 0.6147\n"
     ]
    },
    {
     "name": "stdout",
     "output_type": "stream",
     "text": [
      "EVAL - Epoch 7 [17/18]: Loss: 0.1588 (avg 0.3778) \n",
      "\n",
      "\n",
      "Epoch 8 [0/71]: Elapsed 0m 1s (remain 2m 3s) Loss: 0.0270 (avg 0.0270) \n",
      "Epoch 8 [50/71]: Elapsed 0m 21s (remain 0m 8s) Loss: 0.0185 (avg 0.0248) \n",
      "Epoch 8 [70/71]: Elapsed 0m 29s (remain 0m 0s) Loss: 0.0177 (avg 0.0239) \n",
      "EVAL - Epoch 8 [0/18]: Loss: 0.1896 (avg 0.1896) \n"
     ]
    },
    {
     "name": "stderr",
     "output_type": "stream",
     "text": [
      "Epoch 8 - avg_train_loss: 0.0239 time: 33s\n",
      "Epoch 8 - avg_eval_loss: 0.3782 - avg_rmse: 0.6150\n"
     ]
    },
    {
     "name": "stdout",
     "output_type": "stream",
     "text": [
      "EVAL - Epoch 8 [17/18]: Loss: 0.1671 (avg 0.3782) \n",
      "\n",
      "\n",
      "Epoch 9 [0/71]: Elapsed 0m 1s (remain 1m 24s) Loss: 0.0150 (avg 0.0150) \n",
      "Epoch 9 [50/71]: Elapsed 0m 21s (remain 0m 8s) Loss: 0.0071 (avg 0.0173) \n",
      "Epoch 9 [70/71]: Elapsed 0m 28s (remain 0m 0s) Loss: 0.0129 (avg 0.0172) \n",
      "EVAL - Epoch 9 [0/18]: Loss: 0.1890 (avg 0.1890) \n"
     ]
    },
    {
     "name": "stderr",
     "output_type": "stream",
     "text": [
      "Epoch 9 - avg_train_loss: 0.0172 time: 32s\n",
      "Epoch 9 - avg_eval_loss: 0.3745 - avg_rmse: 0.6120\n"
     ]
    },
    {
     "name": "stdout",
     "output_type": "stream",
     "text": [
      "EVAL - Epoch 9 [17/18]: Loss: 0.1677 (avg 0.3745) \n",
      "\n",
      "\n",
      "Epoch 10 [0/71]: Elapsed 0m 1s (remain 1m 15s) Loss: 0.0115 (avg 0.0115) \n",
      "Epoch 10 [50/71]: Elapsed 0m 21s (remain 0m 8s) Loss: 0.0110 (avg 0.0148) \n",
      "Epoch 10 [70/71]: Elapsed 0m 28s (remain 0m 0s) Loss: 0.0250 (avg 0.0150) \n",
      "EVAL - Epoch 10 [0/18]: Loss: 0.1917 (avg 0.1917) \n"
     ]
    },
    {
     "name": "stderr",
     "output_type": "stream",
     "text": [
      "Epoch 10 - avg_train_loss: 0.0150 time: 32s\n",
      "Epoch 10 - avg_eval_loss: 0.3751 - avg_rmse: 0.6125\n"
     ]
    },
    {
     "name": "stdout",
     "output_type": "stream",
     "text": [
      "EVAL - Epoch 10 [17/18]: Loss: 0.1686 (avg 0.3751) \n",
      "\n",
      "*** FOLD  4\n",
      "\n",
      "\n",
      "Epoch 1 [0/71]: Elapsed 0m 1s (remain 2m 10s) Loss: 2.9816 (avg 2.9816) \n",
      "Epoch 1 [50/71]: Elapsed 0m 21s (remain 0m 8s) Loss: 0.6984 (avg 0.9078) \n",
      "Epoch 1 [70/71]: Elapsed 0m 29s (remain 0m 0s) Loss: 0.3010 (avg 0.8016) \n",
      "EVAL - Epoch 1 [0/18]: Loss: 0.3948 (avg 0.3948) \n"
     ]
    },
    {
     "name": "stderr",
     "output_type": "stream",
     "text": [
      "Epoch 1 - avg_train_loss: 0.8016 time: 33s\n",
      "Epoch 1 - avg_eval_loss: 0.3727 - avg_rmse: 0.6105\n"
     ]
    },
    {
     "name": "stdout",
     "output_type": "stream",
     "text": [
      "EVAL - Epoch 1 [17/18]: Loss: 0.3838 (avg 0.3727) \n",
      "  -> save model as distilbert-base-uncased_fold_4_best.pth\n",
      "\n",
      "\n",
      "Epoch 2 [0/71]: Elapsed 0m 1s (remain 1m 10s) Loss: 0.3027 (avg 0.3027) \n",
      "Epoch 2 [50/71]: Elapsed 0m 20s (remain 0m 8s) Loss: 0.2091 (avg 0.3892) \n",
      "Epoch 2 [70/71]: Elapsed 0m 28s (remain 0m 0s) Loss: 0.3382 (avg 0.3855) \n",
      "EVAL - Epoch 2 [0/18]: Loss: 0.4056 (avg 0.4056) \n"
     ]
    },
    {
     "name": "stderr",
     "output_type": "stream",
     "text": [
      "Epoch 2 - avg_train_loss: 0.3855 time: 33s\n",
      "Epoch 2 - avg_eval_loss: 0.4703 - avg_rmse: 0.6858\n"
     ]
    },
    {
     "name": "stdout",
     "output_type": "stream",
     "text": [
      "EVAL - Epoch 2 [17/18]: Loss: 0.4468 (avg 0.4703) \n",
      "\n",
      "\n",
      "Epoch 3 [0/71]: Elapsed 0m 0s (remain 1m 7s) Loss: 0.2943 (avg 0.2943) \n",
      "Epoch 3 [50/71]: Elapsed 0m 20s (remain 0m 8s) Loss: 0.2345 (avg 0.2480) \n",
      "Epoch 3 [70/71]: Elapsed 0m 28s (remain 0m 0s) Loss: 0.1705 (avg 0.2472) \n",
      "EVAL - Epoch 3 [0/18]: Loss: 0.3494 (avg 0.3494) \n"
     ]
    },
    {
     "name": "stderr",
     "output_type": "stream",
     "text": [
      "Epoch 3 - avg_train_loss: 0.2472 time: 33s\n",
      "Epoch 3 - avg_eval_loss: 0.4135 - avg_rmse: 0.6430\n"
     ]
    },
    {
     "name": "stdout",
     "output_type": "stream",
     "text": [
      "EVAL - Epoch 3 [17/18]: Loss: 0.3671 (avg 0.4135) \n",
      "\n",
      "\n",
      "Epoch 4 [0/71]: Elapsed 0m 1s (remain 1m 20s) Loss: 0.1249 (avg 0.1249) \n",
      "Epoch 4 [50/71]: Elapsed 0m 20s (remain 0m 8s) Loss: 0.2244 (avg 0.1442) \n",
      "Epoch 4 [70/71]: Elapsed 0m 28s (remain 0m 0s) Loss: 0.1491 (avg 0.1398) \n",
      "EVAL - Epoch 4 [0/18]: Loss: 0.3071 (avg 0.3071) \n"
     ]
    },
    {
     "name": "stderr",
     "output_type": "stream",
     "text": [
      "Epoch 4 - avg_train_loss: 0.1398 time: 33s\n",
      "Epoch 4 - avg_eval_loss: 0.3740 - avg_rmse: 0.6115\n"
     ]
    },
    {
     "name": "stdout",
     "output_type": "stream",
     "text": [
      "EVAL - Epoch 4 [17/18]: Loss: 0.4717 (avg 0.3740) \n",
      "\n",
      "\n",
      "Epoch 5 [0/71]: Elapsed 0m 0s (remain 1m 8s) Loss: 0.0658 (avg 0.0658) \n",
      "Epoch 5 [50/71]: Elapsed 0m 20s (remain 0m 8s) Loss: 0.0863 (avg 0.0798) \n",
      "Epoch 5 [70/71]: Elapsed 0m 28s (remain 0m 0s) Loss: 0.0604 (avg 0.0787) \n",
      "EVAL - Epoch 5 [0/18]: Loss: 0.3004 (avg 0.3004) \n"
     ]
    },
    {
     "name": "stderr",
     "output_type": "stream",
     "text": [
      "Epoch 5 - avg_train_loss: 0.0787 time: 33s\n",
      "Epoch 5 - avg_eval_loss: 0.3784 - avg_rmse: 0.6151\n"
     ]
    },
    {
     "name": "stdout",
     "output_type": "stream",
     "text": [
      "EVAL - Epoch 5 [17/18]: Loss: 0.4673 (avg 0.3784) \n",
      "\n",
      "\n",
      "Epoch 6 [0/71]: Elapsed 0m 1s (remain 1m 20s) Loss: 0.0604 (avg 0.0604) \n",
      "Epoch 6 [50/71]: Elapsed 0m 20s (remain 0m 8s) Loss: 0.0612 (avg 0.0486) \n",
      "Epoch 6 [70/71]: Elapsed 0m 28s (remain 0m 0s) Loss: 0.0400 (avg 0.0465) \n",
      "EVAL - Epoch 6 [0/18]: Loss: 0.3080 (avg 0.3080) \n"
     ]
    },
    {
     "name": "stderr",
     "output_type": "stream",
     "text": [
      "Epoch 6 - avg_train_loss: 0.0465 time: 33s\n",
      "Epoch 6 - avg_eval_loss: 0.3688 - avg_rmse: 0.6073\n"
     ]
    },
    {
     "name": "stdout",
     "output_type": "stream",
     "text": [
      "EVAL - Epoch 6 [17/18]: Loss: 0.4475 (avg 0.3688) \n",
      "  -> save model as distilbert-base-uncased_fold_4_best.pth\n",
      "\n",
      "\n",
      "Epoch 7 [0/71]: Elapsed 0m 1s (remain 1m 14s) Loss: 0.0319 (avg 0.0319) \n",
      "Epoch 7 [50/71]: Elapsed 0m 20s (remain 0m 8s) Loss: 0.0421 (avg 0.0308) \n",
      "Epoch 7 [70/71]: Elapsed 0m 28s (remain 0m 0s) Loss: 0.0213 (avg 0.0302) \n",
      "EVAL - Epoch 7 [0/18]: Loss: 0.2879 (avg 0.2879) \n"
     ]
    },
    {
     "name": "stderr",
     "output_type": "stream",
     "text": [
      "Epoch 7 - avg_train_loss: 0.0302 time: 33s\n",
      "Epoch 7 - avg_eval_loss: 0.3585 - avg_rmse: 0.5987\n"
     ]
    },
    {
     "name": "stdout",
     "output_type": "stream",
     "text": [
      "EVAL - Epoch 7 [17/18]: Loss: 0.4313 (avg 0.3585) \n",
      "  -> save model as distilbert-base-uncased_fold_4_best.pth\n",
      "\n",
      "\n",
      "Epoch 8 [0/71]: Elapsed 0m 1s (remain 1m 21s) Loss: 0.0237 (avg 0.0237) \n",
      "Epoch 8 [50/71]: Elapsed 0m 21s (remain 0m 8s) Loss: 0.0140 (avg 0.0228) \n",
      "Epoch 8 [70/71]: Elapsed 0m 28s (remain 0m 0s) Loss: 0.0152 (avg 0.0226) \n",
      "EVAL - Epoch 8 [0/18]: Loss: 0.2856 (avg 0.2856) \n"
     ]
    },
    {
     "name": "stderr",
     "output_type": "stream",
     "text": [
      "Epoch 8 - avg_train_loss: 0.0226 time: 32s\n",
      "Epoch 8 - avg_eval_loss: 0.3612 - avg_rmse: 0.6010\n"
     ]
    },
    {
     "name": "stdout",
     "output_type": "stream",
     "text": [
      "EVAL - Epoch 8 [17/18]: Loss: 0.4512 (avg 0.3612) \n",
      "\n",
      "\n",
      "Epoch 9 [0/71]: Elapsed 0m 0s (remain 1m 2s) Loss: 0.0182 (avg 0.0182) \n",
      "Epoch 9 [50/71]: Elapsed 0m 20s (remain 0m 8s) Loss: 0.0101 (avg 0.0173) \n",
      "Epoch 9 [70/71]: Elapsed 0m 28s (remain 0m 0s) Loss: 0.0198 (avg 0.0177) \n",
      "EVAL - Epoch 9 [0/18]: Loss: 0.2855 (avg 0.2855) \n"
     ]
    },
    {
     "name": "stderr",
     "output_type": "stream",
     "text": [
      "Epoch 9 - avg_train_loss: 0.0177 time: 32s\n",
      "Epoch 9 - avg_eval_loss: 0.3619 - avg_rmse: 0.6016\n"
     ]
    },
    {
     "name": "stdout",
     "output_type": "stream",
     "text": [
      "EVAL - Epoch 9 [17/18]: Loss: 0.4357 (avg 0.3619) \n",
      "\n",
      "\n",
      "Epoch 10 [0/71]: Elapsed 0m 0s (remain 1m 7s) Loss: 0.0151 (avg 0.0151) \n",
      "Epoch 10 [50/71]: Elapsed 0m 20s (remain 0m 8s) Loss: 0.0085 (avg 0.0139) \n",
      "Epoch 10 [70/71]: Elapsed 0m 28s (remain 0m 0s) Loss: 0.0133 (avg 0.0143) \n",
      "EVAL - Epoch 10 [0/18]: Loss: 0.2874 (avg 0.2874) \n"
     ]
    },
    {
     "name": "stderr",
     "output_type": "stream",
     "text": [
      "Epoch 10 - avg_train_loss: 0.0143 time: 32s\n",
      "Epoch 10 - avg_eval_loss: 0.3617 - avg_rmse: 0.6014\n"
     ]
    },
    {
     "name": "stdout",
     "output_type": "stream",
     "text": [
      "EVAL - Epoch 10 [17/18]: Loss: 0.4347 (avg 0.3617) \n"
     ]
    }
   ],
   "source": [
    "# inits\n",
    "seed_torch(seed=CFG.seed)\n",
    "LOGGER = init_logger()\n",
    "training_evals = pd.DataFrame(columns=['fold', 'epoch', 'train_loss', 'val_loss',\n",
    "                                       'train_rmse', 'val_rmse'])\n",
    "\n",
    "# run training\n",
    "main()"
   ]
  },
  {
   "cell_type": "code",
   "execution_count": 18,
   "id": "incoming-fountain",
   "metadata": {
    "execution": {
     "iopub.execute_input": "2021-06-28T10:01:05.291775Z",
     "iopub.status.busy": "2021-06-28T10:01:05.283556Z",
     "iopub.status.idle": "2021-06-28T10:01:05.731162Z",
     "shell.execute_reply": "2021-06-28T10:01:05.731565Z",
     "shell.execute_reply.started": "2021-06-28T09:29:02.959389Z"
    },
    "papermill": {
     "duration": 0.590532,
     "end_time": "2021-06-28T10:01:05.731717",
     "exception": false,
     "start_time": "2021-06-28T10:01:05.141185",
     "status": "completed"
    },
    "tags": []
   },
   "outputs": [
    {
     "data": {
      "image/png": "[encoded data removed]",
      "text/plain": [
       "<Figure size 576x576 with 1 Axes>"
      ]
     },
     "metadata": {
      "needs_background": "light"
     },
     "output_type": "display_data"
    },
    {
     "data": {
      "image/png": "[encoded data removed]",
      "text/plain": [
       "<Figure size 576x576 with 1 Axes>"
      ]
     },
     "metadata": {
      "needs_background": "light"
     },
     "output_type": "display_data"
    }
   ],
   "source": [
    "epochs = range(1, CFG.n_epochs + 1)\n",
    "colors = ['mediumpurple', 'deepskyblue', 'mediumseagreen', 'gold', 'tomato']\n",
    "\n",
    "# loss curve\n",
    "fig = plt.figure(figsize=(8, 8))\n",
    "max_y = 0\n",
    "for f in range(CFG.n_folds):\n",
    "    loss_train = training_evals.loc[training_evals.fold == f, 'train_loss']\n",
    "    loss_val = training_evals.loc[training_evals.fold == f, 'val_loss']\n",
    "    curmax = max(max(loss_train), max(loss_val))\n",
    "    if curmax > max_y:\n",
    "        max_y=curmax\n",
    "    plt.plot(epochs, loss_train, c=colors[f], label='Training loss fold {}'.format(f))\n",
    "    plt.plot(epochs, loss_val, c=colors[f], linestyle='dashed',\n",
    "             label='validation loss fold {}'.format(f))\n",
    "\n",
    "plt.title('Training and Validation loss')\n",
    "plt.xticks(range(0, CFG.n_epochs + 1))\n",
    "plt.xlim(0.5, CFG.n_epochs + 0.5)\n",
    "plt.ylim(0, max_y)\n",
    "plt.xlabel('Epochs')\n",
    "plt.ylabel('Loss')\n",
    "plt.legend(bbox_to_anchor=(1, 1, 0, 0))\n",
    "plt.show()\n",
    "\n",
    "# RMSE\n",
    "max_y = 0\n",
    "fig = plt.figure(figsize=(8, 8))\n",
    "for f in range(CFG.n_folds):\n",
    "    rmse_train = training_evals.loc[training_evals.fold == f, 'train_rmse']\n",
    "    rmse_val = training_evals.loc[training_evals.fold == f, 'val_rmse']\n",
    "    curmax = max(max(rmse_train), max(rmse_val))\n",
    "    if curmax > max_y:\n",
    "        max_y=curmax\n",
    "    plt.plot(epochs, rmse_train, c=colors[f], label='Training RMSE fold {}'.format(f))\n",
    "    plt.plot(epochs, rmse_val, c=colors[f], linestyle='dashed',\n",
    "             label='validation RMSE fold {}'.format(f))\n",
    "plt.title('Training and Validation RMSE')\n",
    "plt.xticks(range(0, CFG.n_epochs + 1))\n",
    "plt.xlim(0.5, CFG.n_epochs + 0.5)\n",
    "plt.ylim(0, max_y)\n",
    "plt.xlabel('Epochs')\n",
    "plt.ylabel('RMSE')\n",
    "plt.legend(bbox_to_anchor=(1, 1, 0, 0))\n",
    "plt.show()"
   ]
  },
  {
   "cell_type": "markdown",
   "id": "french-knowing",
   "metadata": {
    "papermill": {
     "duration": 0.12375,
     "end_time": "2021-06-28T10:01:05.979030",
     "exception": false,
     "start_time": "2021-06-28T10:01:05.855280",
     "status": "completed"
    },
    "tags": []
   },
   "source": [
    "# Inference"
   ]
  },
  {
   "cell_type": "code",
   "execution_count": 19,
   "id": "available-israel",
   "metadata": {
    "execution": {
     "iopub.execute_input": "2021-06-28T10:01:06.230915Z",
     "iopub.status.busy": "2021-06-28T10:01:06.230313Z",
     "iopub.status.idle": "2021-06-28T10:01:06.234392Z",
     "shell.execute_reply": "2021-06-28T10:01:06.233962Z",
     "shell.execute_reply.started": "2021-06-28T09:29:44.356745Z"
    },
    "papermill": {
     "duration": 0.132533,
     "end_time": "2021-06-28T10:01:06.234507",
     "exception": false,
     "start_time": "2021-06-28T10:01:06.101974",
     "status": "completed"
    },
    "tags": []
   },
   "outputs": [],
   "source": [
    "class CommonLitDataset_test(Dataset):\n",
    "    \n",
    "    def __init__(self, df, tokenizer, max_length):\n",
    "    \n",
    "        self.df = df\n",
    "        self.tokenizer = tokenizer\n",
    "        self.max_length = max_length\n",
    "    \n",
    "    def __len__(self):\n",
    "        return len(self.df)\n",
    "    \n",
    "    def __getitem__(self, idx):\n",
    "        row = self.df.iloc[idx]\n",
    "        \n",
    "        tokenized_input = self.tokenizer(row.excerpt, return_tensors=\"pt\", \n",
    "                                        max_length=self.max_length, \n",
    "                                        padding=\"max_length\", truncation=True)\n",
    "\n",
    "        return {\n",
    "                \"ids\": tokenized_input[\"input_ids\"][0],\n",
    "                \"masks\": tokenized_input[\"attention_mask\"][0]\n",
    "        }"
   ]
  },
  {
   "cell_type": "code",
   "execution_count": 20,
   "id": "federal-woman",
   "metadata": {
    "execution": {
     "iopub.execute_input": "2021-06-28T10:01:06.541267Z",
     "iopub.status.busy": "2021-06-28T10:01:06.540729Z",
     "iopub.status.idle": "2021-06-28T10:01:06.544690Z",
     "shell.execute_reply": "2021-06-28T10:01:06.544244Z",
     "shell.execute_reply.started": "2021-06-28T09:29:44.788282Z"
    },
    "papermill": {
     "duration": 0.134736,
     "end_time": "2021-06-28T10:01:06.544806",
     "exception": false,
     "start_time": "2021-06-28T10:01:06.410070",
     "status": "completed"
    },
    "tags": []
   },
   "outputs": [],
   "source": [
    "def inference(model, states, data_loader, device=device):\n",
    "    \"\"\" runs inference for the test set\n",
    "    takes each state (cf fold) and computes the mean of the results\"\"\"\n",
    "    results = []\n",
    "    n_state = 0\n",
    "    with torch.no_grad():\n",
    "        for state in states:\n",
    "            state_results = []\n",
    "            print('State {}/{}'.format(n_state + 1, len(states)))\n",
    "            model.load_state_dict(state)\n",
    "            model.to(device)\n",
    "            model.eval()\n",
    "            \n",
    "            for step, batch in enumerate(data_loader):\n",
    "                input_ids = batch[\"ids\"].to(device)\n",
    "                attention_masks = batch[\"masks\"].to(device)\n",
    "                output = model(input_ids, attention_masks)\n",
    "                predictions = flatten(output.detach().cpu().numpy())\n",
    "                state_results.extend(predictions)\n",
    "    \n",
    "            results.append(state_results)\n",
    "            n_state += 1\n",
    "    # mean\n",
    "    mean_results = np.mean(results, axis=0)\n",
    "\n",
    "    return results, mean_results"
   ]
  },
  {
   "cell_type": "code",
   "execution_count": 21,
   "id": "paperback-value",
   "metadata": {
    "execution": {
     "iopub.execute_input": "2021-06-28T10:01:06.796531Z",
     "iopub.status.busy": "2021-06-28T10:01:06.795961Z",
     "iopub.status.idle": "2021-06-28T10:01:20.978489Z",
     "shell.execute_reply": "2021-06-28T10:01:20.977863Z",
     "shell.execute_reply.started": "2021-06-28T09:29:45.246541Z"
    },
    "papermill": {
     "duration": 14.310443,
     "end_time": "2021-06-28T10:01:20.978737",
     "exception": false,
     "start_time": "2021-06-28T10:01:06.668294",
     "status": "completed"
    },
    "tags": []
   },
   "outputs": [],
   "source": [
    "# get previous states from k fold\n",
    "states = [torch.load(f\"distilbert-base-uncased_fold_{f}_best.pth\")[\"model\"]\n",
    "          for f in range(CFG.n_folds)]\n",
    "\n",
    "# build model\n",
    "model_inf = TextRegressionModel(CFG.model_name, CFG.dropout_p)"
   ]
  },
  {
   "cell_type": "code",
   "execution_count": 22,
   "id": "improved-demand",
   "metadata": {
    "execution": {
     "iopub.execute_input": "2021-06-28T10:01:21.230161Z",
     "iopub.status.busy": "2021-06-28T10:01:21.229631Z",
     "iopub.status.idle": "2021-06-28T10:01:21.362773Z",
     "shell.execute_reply": "2021-06-28T10:01:21.361890Z",
     "shell.execute_reply.started": "2021-06-28T09:29:53.156759Z"
    },
    "papermill": {
     "duration": 0.260909,
     "end_time": "2021-06-28T10:01:21.362912",
     "exception": false,
     "start_time": "2021-06-28T10:01:21.102003",
     "status": "completed"
    },
    "tags": []
   },
   "outputs": [],
   "source": [
    "# build dataset with no target\n",
    "tokenizer = DistilBertTokenizer.from_pretrained(CFG.model_path)\n",
    "\n",
    "df_train = pd.read_csv(BASE_DATA_PATH / \"train.csv\")\n",
    "test_dataset = CommonLitDataset_test(df_train, tokenizer, CFG.max_length)\n",
    "\n",
    "data_loader_test = DataLoader(test_dataset,\n",
    "                              batch_size=CFG.batch_size, shuffle=False)"
   ]
  },
  {
   "cell_type": "code",
   "execution_count": 23,
   "id": "arctic-hindu",
   "metadata": {
    "execution": {
     "iopub.execute_input": "2021-06-28T10:01:21.613253Z",
     "iopub.status.busy": "2021-06-28T10:01:21.612154Z",
     "iopub.status.idle": "2021-06-28T10:03:34.150542Z",
     "shell.execute_reply": "2021-06-28T10:03:34.150006Z",
     "shell.execute_reply.started": "2021-06-28T09:29:53.233323Z"
    },
    "papermill": {
     "duration": 132.665611,
     "end_time": "2021-06-28T10:03:34.150698",
     "exception": false,
     "start_time": "2021-06-28T10:01:21.485087",
     "status": "completed"
    },
    "tags": []
   },
   "outputs": [
    {
     "name": "stdout",
     "output_type": "stream",
     "text": [
      "State 1/5\n",
      "State 2/5\n",
      "State 3/5\n",
      "State 4/5\n",
      "State 5/5\n"
     ]
    }
   ],
   "source": [
    "# predict outputs\n",
    "res_states, mean_res = inference(model_inf, states, data_loader_test, device)"
   ]
  },
  {
   "cell_type": "code",
   "execution_count": 24,
   "id": "hungry-fitness",
   "metadata": {
    "execution": {
     "iopub.execute_input": "2021-06-28T10:03:34.444950Z",
     "iopub.status.busy": "2021-06-28T10:03:34.443973Z",
     "iopub.status.idle": "2021-06-28T10:03:34.846671Z",
     "shell.execute_reply": "2021-06-28T10:03:34.847726Z",
     "shell.execute_reply.started": "2021-06-28T09:32:08.663468Z"
    },
    "papermill": {
     "duration": 0.563538,
     "end_time": "2021-06-28T10:03:34.847941",
     "exception": false,
     "start_time": "2021-06-28T10:03:34.284403",
     "status": "completed"
    },
    "tags": []
   },
   "outputs": [
    {
     "name": "stdout",
     "output_type": "stream",
     "text": [
      "RMSE on train dataset : 0.2066\n"
     ]
    },
    {
     "data": {
      "image/png": "[encoded data removed]",
      "text/plain": [
       "<Figure size 864x432 with 2 Axes>"
      ]
     },
     "metadata": {
      "needs_background": "light"
     },
     "output_type": "display_data"
    }
   ],
   "source": [
    "y_pred = mean_res\n",
    "y_true = df_train.target\n",
    "\n",
    "# compute RMSE on training set\n",
    "rmse = np.sqrt(metrics.mean_squared_error(y_true, y_pred))\n",
    "print('RMSE on train dataset :', round(rmse, 4))\n",
    "\n",
    "# plot results\n",
    "fig, axes = plt.subplots(figsize=(12, 6), nrows=1, ncols=2)\n",
    "xmin = np.min(y_true)-1\n",
    "xmax = np.max(y_true)+1\n",
    "axes[0].scatter(y_true, y_pred, color='yellowgreen', s=1)\n",
    "axes[0].plot([xmin, xmax], [xmin, xmax],\n",
    "             color='darkolivegreen',linewidth=1)\n",
    "axes[0].set_xlabel('True target')\n",
    "axes[0].set_ylabel('Predicted target')\n",
    "axes[0].set_title('Predicted vs true targets')\n",
    "\n",
    "residuals = y_true - y_pred\n",
    "moy_residuals = np.mean(residuals)\n",
    "lab = 'Mean residuals({})'.format(np.round(moy_residuals, decimals=2))\n",
    "\n",
    "xmin = np.min(y_pred) - 1\n",
    "xmax = np.max(y_pred) + 1\n",
    "axes[1].scatter(y_pred, residuals, color='burlywood', s=1.5)\n",
    "axes[1].plot([xmin, xmax], [0, 0], color='grey', alpha=0.5, linewidth=0.5)\n",
    "axes[1].plot([xmin, xmax], [moy_residuals, moy_residuals],\n",
    "             color='saddlebrown', linewidth=1, label=lab)\n",
    "axes[1].set_xlabel('Predicted target')\n",
    "axes[1].set_ylabel('Residuals')\n",
    "axes[1].legend()\n",
    "axes[1].set_title('Residuals')\n",
    "\n",
    "plt.show()"
   ]
  },
  {
   "cell_type": "markdown",
   "id": "corporate-municipality",
   "metadata": {
    "papermill": {
     "duration": 0.187133,
     "end_time": "2021-06-28T10:03:35.246467",
     "exception": false,
     "start_time": "2021-06-28T10:03:35.059334",
     "status": "completed"
    },
    "tags": []
   },
   "source": [
    "# Test set (7 entries)"
   ]
  },
  {
   "cell_type": "code",
   "execution_count": 25,
   "id": "powerful-uncle",
   "metadata": {
    "execution": {
     "iopub.execute_input": "2021-06-28T10:03:35.503979Z",
     "iopub.status.busy": "2021-06-28T10:03:35.503410Z",
     "iopub.status.idle": "2021-06-28T10:03:35.912585Z",
     "shell.execute_reply": "2021-06-28T10:03:35.912121Z",
     "shell.execute_reply.started": "2021-06-28T09:32:09.015653Z"
    },
    "papermill": {
     "duration": 0.53868,
     "end_time": "2021-06-28T10:03:35.912702",
     "exception": false,
     "start_time": "2021-06-28T10:03:35.374022",
     "status": "completed"
    },
    "tags": []
   },
   "outputs": [
    {
     "name": "stdout",
     "output_type": "stream",
     "text": [
      "State 1/5\n",
      "State 2/5\n",
      "State 3/5\n",
      "State 4/5\n",
      "State 5/5\n"
     ]
    }
   ],
   "source": [
    "# build test dataset\n",
    "tokenizer = DistilBertTokenizer.from_pretrained(CFG.model_path)\n",
    "\n",
    "df_test = pd.read_csv(BASE_DATA_PATH / \"test.csv\")\n",
    "test_dataset = CommonLitDataset_test(df_test, tokenizer, CFG.max_length)\n",
    "\n",
    "data_loader_test = DataLoader(test_dataset,\n",
    "                              batch_size=CFG.batch_size, shuffle=False)\n",
    "\n",
    "# get outputs\n",
    "out_states, out_mean = inference(model_inf, states, data_loader_test, device)"
   ]
  },
  {
   "cell_type": "code",
   "execution_count": 26,
   "id": "speaking-eating",
   "metadata": {
    "execution": {
     "iopub.execute_input": "2021-06-28T10:03:36.173573Z",
     "iopub.status.busy": "2021-06-28T10:03:36.173042Z",
     "iopub.status.idle": "2021-06-28T10:03:36.353850Z",
     "shell.execute_reply": "2021-06-28T10:03:36.353423Z",
     "shell.execute_reply.started": "2021-06-28T09:32:09.425450Z"
    },
    "papermill": {
     "duration": 0.313712,
     "end_time": "2021-06-28T10:03:36.353968",
     "exception": false,
     "start_time": "2021-06-28T10:03:36.040256",
     "status": "completed"
    },
    "tags": []
   },
   "outputs": [
    {
     "data": {
      "text/html": [
       "<div>\n",
       "<style scoped>\n",
       "    .dataframe tbody tr th:only-of-type {\n",
       "        vertical-align: middle;\n",
       "    }\n",
       "\n",
       "    .dataframe tbody tr th {\n",
       "        vertical-align: top;\n",
       "    }\n",
       "\n",
       "    .dataframe thead th {\n",
       "        text-align: right;\n",
       "    }\n",
       "</style>\n",
       "<table border=\"1\" class=\"dataframe\">\n",
       "  <thead>\n",
       "    <tr style=\"text-align: right;\">\n",
       "      <th></th>\n",
       "      <th>id</th>\n",
       "      <th>target</th>\n",
       "    </tr>\n",
       "  </thead>\n",
       "  <tbody>\n",
       "    <tr>\n",
       "      <th>0</th>\n",
       "      <td>c0f722661</td>\n",
       "      <td>-0.624186</td>\n",
       "    </tr>\n",
       "    <tr>\n",
       "      <th>1</th>\n",
       "      <td>f0953f0a5</td>\n",
       "      <td>-0.635926</td>\n",
       "    </tr>\n",
       "    <tr>\n",
       "      <th>2</th>\n",
       "      <td>0df072751</td>\n",
       "      <td>-0.400671</td>\n",
       "    </tr>\n",
       "    <tr>\n",
       "      <th>3</th>\n",
       "      <td>04caf4e0c</td>\n",
       "      <td>-2.235944</td>\n",
       "    </tr>\n",
       "    <tr>\n",
       "      <th>4</th>\n",
       "      <td>0e63f8bea</td>\n",
       "      <td>-2.163043</td>\n",
       "    </tr>\n",
       "    <tr>\n",
       "      <th>5</th>\n",
       "      <td>12537fe78</td>\n",
       "      <td>-0.569525</td>\n",
       "    </tr>\n",
       "    <tr>\n",
       "      <th>6</th>\n",
       "      <td>965e592c0</td>\n",
       "      <td>0.118903</td>\n",
       "    </tr>\n",
       "  </tbody>\n",
       "</table>\n",
       "</div>"
      ],
      "text/plain": [
       "          id    target\n",
       "0  c0f722661 -0.624186\n",
       "1  f0953f0a5 -0.635926\n",
       "2  0df072751 -0.400671\n",
       "3  04caf4e0c -2.235944\n",
       "4  0e63f8bea -2.163043\n",
       "5  12537fe78 -0.569525\n",
       "6  965e592c0  0.118903"
      ]
     },
     "execution_count": 26,
     "metadata": {},
     "output_type": "execute_result"
    }
   ],
   "source": [
    "# build submission file\n",
    "df_sub = pd.read_csv(\"../input/commonlitreadabilityprize/sample_submission.csv\")\n",
    "df_sub[\"target\"] = out_mean\n",
    "df_sub.to_csv(\"submission.csv\",index=False)\n",
    "df_sub"
   ]
  },
  {
   "cell_type": "code",
   "execution_count": null,
   "id": "rural-branch",
   "metadata": {
    "papermill": {
     "duration": 0.125682,
     "end_time": "2021-06-28T10:03:36.606719",
     "exception": false,
     "start_time": "2021-06-28T10:03:36.481037",
     "status": "completed"
    },
    "tags": []
   },
   "outputs": [],
   "source": []
  }
 ],
 "metadata": {
  "kernelspec": {
   "display_name": "Python 3",
   "language": "python",
   "name": "python3"
  },
  "language_info": {
   "codemirror_mode": {
    "name": "ipython",
    "version": 3
   },
   "file_extension": ".py",
   "mimetype": "text/x-python",
   "name": "python",
   "nbconvert_exporter": "python",
   "pygments_lexer": "ipython3",
   "version": "3.7.10"
  },
  "papermill": {
   "default_parameters": {},
   "duration": 1852.375534,
   "end_time": "2021-06-28T10:03:39.027197",
   "environment_variables": {},
   "exception": null,
   "input_path": "__notebook__.ipynb",
   "output_path": "__notebook__.ipynb",
   "parameters": {},
   "start_time": "2021-06-28T09:32:46.651663",
   "version": "2.3.3"
  }
 },
 "nbformat": 4,
 "nbformat_minor": 5
}
