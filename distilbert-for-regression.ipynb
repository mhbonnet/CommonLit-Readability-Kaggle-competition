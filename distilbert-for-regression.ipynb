{
 "cells": [
  {
   "cell_type": "markdown",
   "id": "harmful-uzbekistan",
   "metadata": {
    "papermill": {
     "duration": 0.015462,
     "end_time": "2021-07-01T10:00:31.945283",
     "exception": false,
     "start_time": "2021-07-01T10:00:31.929821",
     "status": "completed"
    },
    "tags": []
   },
   "source": [
    "This notebook presents a first baseline for CommonLit Readability Competition, using a pretrained DistilBert as feature extractor and a standard regression model for prediciton.\n",
    "It can be used on original train text or preprocessed text (stopwords, ponctuation removed).\n",
    "Some special features have been added to try to catch the text complexity and add it as an input for regression in case the prepocessed text is used. It should be a way to keep the knowledge of the text structure."
   ]
  },
  {
   "cell_type": "markdown",
   "id": "challenging-newton",
   "metadata": {
    "papermill": {
     "duration": 0.014002,
     "end_time": "2021-07-01T10:00:31.973831",
     "exception": false,
     "start_time": "2021-07-01T10:00:31.959829",
     "status": "completed"
    },
    "tags": []
   },
   "source": [
    "# kaggle8\n",
    "  \n",
    "This repository contains different notebooks created for the kaggle competition : 'CommonLit readability'.   \n",
    "  \n",
    "* In **'Full compare Projet 8'** notebook, you'll find a comparison between different regression models applied on the same features, extracted from text using pretrained DistilBert model.   \n",
    "* The **'distilbert-for-regression'** notebook contains the first code submitted for the competition : features extracted with the DistilBert pretrained model and a ridge regression with a polynomial kernel.   "
   ]
  },
  {
   "cell_type": "code",
   "execution_count": 1,
   "id": "simplified-termination",
   "metadata": {
    "execution": {
     "iopub.execute_input": "2021-07-01T10:00:32.009061Z",
     "iopub.status.busy": "2021-07-01T10:00:32.008555Z",
     "iopub.status.idle": "2021-07-01T10:00:34.965983Z",
     "shell.execute_reply": "2021-07-01T10:00:34.965002Z",
     "shell.execute_reply.started": "2021-07-01T09:11:14.949098Z"
    },
    "papermill": {
     "duration": 2.978191,
     "end_time": "2021-07-01T10:00:34.966174",
     "exception": false,
     "start_time": "2021-07-01T10:00:31.987983",
     "status": "completed"
    },
    "tags": []
   },
   "outputs": [],
   "source": [
    "import pandas as pd\n",
    "import numpy as np\n",
    "import time\n",
    "import matplotlib.pyplot as plt\n",
    "import seaborn as sns\n",
    "import re\n",
    "from nltk.corpus import stopwords\n",
    "import torch\n",
    "import transformers as ppb # pytorch transformers\n",
    "\n",
    "from sklearn import metrics\n",
    "from sklearn import kernel_ridge\n",
    "from sklearn.model_selection import train_test_split\n",
    "from sklearn.model_selection import GridSearchCV\n",
    "from sklearn.linear_model import LinearRegression\n",
    "\n",
    "import warnings\n",
    "warnings.filterwarnings(\"ignore\")"
   ]
  },
  {
   "cell_type": "code",
   "execution_count": 2,
   "id": "extended-workplace",
   "metadata": {
    "execution": {
     "iopub.execute_input": "2021-07-01T10:00:35.007229Z",
     "iopub.status.busy": "2021-07-01T10:00:35.006660Z",
     "iopub.status.idle": "2021-07-01T10:00:35.112328Z",
     "shell.execute_reply": "2021-07-01T10:00:35.112815Z",
     "shell.execute_reply.started": "2021-07-01T09:11:22.810837Z"
    },
    "papermill": {
     "duration": 0.130843,
     "end_time": "2021-07-01T10:00:35.112980",
     "exception": false,
     "start_time": "2021-07-01T10:00:34.982137",
     "status": "completed"
    },
    "tags": []
   },
   "outputs": [
    {
     "data": {
      "text/html": [
       "<div>\n",
       "<style scoped>\n",
       "    .dataframe tbody tr th:only-of-type {\n",
       "        vertical-align: middle;\n",
       "    }\n",
       "\n",
       "    .dataframe tbody tr th {\n",
       "        vertical-align: top;\n",
       "    }\n",
       "\n",
       "    .dataframe thead th {\n",
       "        text-align: right;\n",
       "    }\n",
       "</style>\n",
       "<table border=\"1\" class=\"dataframe\">\n",
       "  <thead>\n",
       "    <tr style=\"text-align: right;\">\n",
       "      <th></th>\n",
       "      <th>id</th>\n",
       "      <th>url_legal</th>\n",
       "      <th>license</th>\n",
       "      <th>excerpt</th>\n",
       "      <th>target</th>\n",
       "      <th>standard_error</th>\n",
       "    </tr>\n",
       "  </thead>\n",
       "  <tbody>\n",
       "    <tr>\n",
       "      <th>0</th>\n",
       "      <td>c12129c31</td>\n",
       "      <td>NaN</td>\n",
       "      <td>NaN</td>\n",
       "      <td>When the young people returned to the ballroom...</td>\n",
       "      <td>-0.340259</td>\n",
       "      <td>0.464009</td>\n",
       "    </tr>\n",
       "    <tr>\n",
       "      <th>1</th>\n",
       "      <td>85aa80a4c</td>\n",
       "      <td>NaN</td>\n",
       "      <td>NaN</td>\n",
       "      <td>All through dinner time, Mrs. Fayre was somewh...</td>\n",
       "      <td>-0.315372</td>\n",
       "      <td>0.480805</td>\n",
       "    </tr>\n",
       "    <tr>\n",
       "      <th>2</th>\n",
       "      <td>b69ac6792</td>\n",
       "      <td>NaN</td>\n",
       "      <td>NaN</td>\n",
       "      <td>As Roger had predicted, the snow departed as q...</td>\n",
       "      <td>-0.580118</td>\n",
       "      <td>0.476676</td>\n",
       "    </tr>\n",
       "    <tr>\n",
       "      <th>3</th>\n",
       "      <td>dd1000b26</td>\n",
       "      <td>NaN</td>\n",
       "      <td>NaN</td>\n",
       "      <td>And outside before the palace a great garden w...</td>\n",
       "      <td>-1.054013</td>\n",
       "      <td>0.450007</td>\n",
       "    </tr>\n",
       "    <tr>\n",
       "      <th>4</th>\n",
       "      <td>37c1b32fb</td>\n",
       "      <td>NaN</td>\n",
       "      <td>NaN</td>\n",
       "      <td>Once upon a time there were Three Bears who li...</td>\n",
       "      <td>0.247197</td>\n",
       "      <td>0.510845</td>\n",
       "    </tr>\n",
       "    <tr>\n",
       "      <th>...</th>\n",
       "      <td>...</td>\n",
       "      <td>...</td>\n",
       "      <td>...</td>\n",
       "      <td>...</td>\n",
       "      <td>...</td>\n",
       "      <td>...</td>\n",
       "    </tr>\n",
       "    <tr>\n",
       "      <th>2829</th>\n",
       "      <td>25ca8f498</td>\n",
       "      <td>https://sites.ehe.osu.edu/beyondpenguins/files...</td>\n",
       "      <td>CC BY-SA 3.0</td>\n",
       "      <td>When you think of dinosaurs and where they liv...</td>\n",
       "      <td>1.711390</td>\n",
       "      <td>0.646900</td>\n",
       "    </tr>\n",
       "    <tr>\n",
       "      <th>2830</th>\n",
       "      <td>2c26db523</td>\n",
       "      <td>https://en.wikibooks.org/wiki/Wikijunior:The_E...</td>\n",
       "      <td>CC BY-SA 3.0</td>\n",
       "      <td>So what is a solid? Solids are usually hard be...</td>\n",
       "      <td>0.189476</td>\n",
       "      <td>0.535648</td>\n",
       "    </tr>\n",
       "    <tr>\n",
       "      <th>2831</th>\n",
       "      <td>cd19e2350</td>\n",
       "      <td>https://en.wikibooks.org/wiki/Wikijunior:The_E...</td>\n",
       "      <td>CC BY-SA 3.0</td>\n",
       "      <td>The second state of matter we will discuss is ...</td>\n",
       "      <td>0.255209</td>\n",
       "      <td>0.483866</td>\n",
       "    </tr>\n",
       "    <tr>\n",
       "      <th>2832</th>\n",
       "      <td>15e2e9e7a</td>\n",
       "      <td>https://en.wikibooks.org/wiki/Geometry_for_Ele...</td>\n",
       "      <td>CC BY-SA 3.0</td>\n",
       "      <td>Solids are shapes that you can actually touch....</td>\n",
       "      <td>-0.215279</td>\n",
       "      <td>0.514128</td>\n",
       "    </tr>\n",
       "    <tr>\n",
       "      <th>2833</th>\n",
       "      <td>5b990ba77</td>\n",
       "      <td>https://en.wikibooks.org/wiki/Wikijunior:Biolo...</td>\n",
       "      <td>CC BY-SA 3.0</td>\n",
       "      <td>Animals are made of many cells. They eat thing...</td>\n",
       "      <td>0.300779</td>\n",
       "      <td>0.512379</td>\n",
       "    </tr>\n",
       "  </tbody>\n",
       "</table>\n",
       "<p>2834 rows × 6 columns</p>\n",
       "</div>"
      ],
      "text/plain": [
       "             id                                          url_legal  \\\n",
       "0     c12129c31                                                NaN   \n",
       "1     85aa80a4c                                                NaN   \n",
       "2     b69ac6792                                                NaN   \n",
       "3     dd1000b26                                                NaN   \n",
       "4     37c1b32fb                                                NaN   \n",
       "...         ...                                                ...   \n",
       "2829  25ca8f498  https://sites.ehe.osu.edu/beyondpenguins/files...   \n",
       "2830  2c26db523  https://en.wikibooks.org/wiki/Wikijunior:The_E...   \n",
       "2831  cd19e2350  https://en.wikibooks.org/wiki/Wikijunior:The_E...   \n",
       "2832  15e2e9e7a  https://en.wikibooks.org/wiki/Geometry_for_Ele...   \n",
       "2833  5b990ba77  https://en.wikibooks.org/wiki/Wikijunior:Biolo...   \n",
       "\n",
       "           license                                            excerpt  \\\n",
       "0              NaN  When the young people returned to the ballroom...   \n",
       "1              NaN  All through dinner time, Mrs. Fayre was somewh...   \n",
       "2              NaN  As Roger had predicted, the snow departed as q...   \n",
       "3              NaN  And outside before the palace a great garden w...   \n",
       "4              NaN  Once upon a time there were Three Bears who li...   \n",
       "...            ...                                                ...   \n",
       "2829  CC BY-SA 3.0  When you think of dinosaurs and where they liv...   \n",
       "2830  CC BY-SA 3.0  So what is a solid? Solids are usually hard be...   \n",
       "2831  CC BY-SA 3.0  The second state of matter we will discuss is ...   \n",
       "2832  CC BY-SA 3.0  Solids are shapes that you can actually touch....   \n",
       "2833  CC BY-SA 3.0  Animals are made of many cells. They eat thing...   \n",
       "\n",
       "        target  standard_error  \n",
       "0    -0.340259        0.464009  \n",
       "1    -0.315372        0.480805  \n",
       "2    -0.580118        0.476676  \n",
       "3    -1.054013        0.450007  \n",
       "4     0.247197        0.510845  \n",
       "...        ...             ...  \n",
       "2829  1.711390        0.646900  \n",
       "2830  0.189476        0.535648  \n",
       "2831  0.255209        0.483866  \n",
       "2832 -0.215279        0.514128  \n",
       "2833  0.300779        0.512379  \n",
       "\n",
       "[2834 rows x 6 columns]"
      ]
     },
     "execution_count": 2,
     "metadata": {},
     "output_type": "execute_result"
    }
   ],
   "source": [
    "# get train data\n",
    "train_file = '../input/commonlitreadabilityprize/train.csv'\n",
    "data_train =  pd.read_csv(train_file)\n",
    "data_train"
   ]
  },
  {
   "cell_type": "code",
   "execution_count": 3,
   "id": "attractive-method",
   "metadata": {
    "execution": {
     "iopub.execute_input": "2021-07-01T10:00:35.163029Z",
     "iopub.status.busy": "2021-07-01T10:00:35.162174Z",
     "iopub.status.idle": "2021-07-01T10:00:36.909819Z",
     "shell.execute_reply": "2021-07-01T10:00:36.909325Z",
     "shell.execute_reply.started": "2021-07-01T09:11:42.409048Z"
    },
    "papermill": {
     "duration": 1.779621,
     "end_time": "2021-07-01T10:00:36.909949",
     "exception": false,
     "start_time": "2021-07-01T10:00:35.130328",
     "status": "completed"
    },
    "tags": []
   },
   "outputs": [
    {
     "data": {
      "image/png": "[encoded data removed]",
      "text/plain": [
       "<Figure size 1080x360 with 3 Axes>"
      ]
     },
     "metadata": {
      "needs_background": "light"
     },
     "output_type": "display_data"
    }
   ],
   "source": [
    "# explore excerpt\n",
    "data_train['nb_words'] = data_train.excerpt.apply(lambda x: len(x.split()))\n",
    "data_train['nb_chars'] = data_train.excerpt.apply(lambda x: len(x))\n",
    "\n",
    "# process text : remove ponctuation and stopwords\n",
    "list_sw = stopwords.words(\"english\")\n",
    "sw = set(list_sw)\n",
    "\n",
    "def remove_stopwords(text):\n",
    "    \"\"\"removes ponctuation and stop words\"\"\"\n",
    "    text = re.sub(\"[^a-zA-Z0-9]\",   \" \",  text)  \n",
    "    words = text.split()\n",
    "    interest_words = [w for w in words if not w in sw]\n",
    "    return ' '.join(interest_words).lower()\n",
    "\n",
    "data_train['interest_words'] = data_train.excerpt.apply(remove_stopwords)\n",
    "data_train['nb_int_words'] = data_train.interest_words.apply(lambda x: len(x))\n",
    "\n",
    "# plot histograms\n",
    "fix, ax = plt.subplots(1, 3, figsize=(15, 5))\n",
    "sns.histplot(data=data_train, x=\"nb_chars\", bins=100, ax=ax[0],\n",
    "             color='pink', edgecolor=None, stat='density')\n",
    "sns.kdeplot(data=data_train, x=\"nb_chars\", color='hotpink', ax=ax[0])\n",
    "ax[0].axvline(np.median(data_train.nb_chars), 0, np.max(data_train.nb_chars))\n",
    "ax[0].set_title('Text length', fontsize=10)\n",
    "\n",
    "sns.histplot(data=data_train, x=\"nb_words\", bins=100, ax=ax[1],\n",
    "             color='lightgreen', edgecolor=None, stat='density')\n",
    "sns.kdeplot(data=data_train, x=\"nb_words\", color='green', ax=ax[1])\n",
    "ax[1].axvline(np.median(data_train.nb_words), 0, np.max(data_train.nb_words))\n",
    "ax[1].set_title('Number of words', fontsize=10)\n",
    "\n",
    "sns.histplot(data=data_train, x=\"nb_int_words\", bins=100, ax=ax[2],\n",
    "             color='aquamarine', edgecolor=None, stat='density')\n",
    "sns.kdeplot(data=data_train, x=\"nb_int_words\",\n",
    "            color='mediumseagreen', ax=ax[2])\n",
    "ax[2].axvline(np.median(data_train.nb_int_words), 0,\n",
    "              np.max(data_train.nb_int_words))\n",
    "ax[2].set_title('Number of interesting words', fontsize=10)\n",
    "\n",
    "plt.show()"
   ]
  },
  {
   "cell_type": "code",
   "execution_count": 4,
   "id": "reflected-question",
   "metadata": {
    "execution": {
     "iopub.execute_input": "2021-07-01T10:00:36.977389Z",
     "iopub.status.busy": "2021-07-01T10:00:36.946328Z",
     "iopub.status.idle": "2021-07-01T10:00:39.354475Z",
     "shell.execute_reply": "2021-07-01T10:00:39.354934Z",
     "shell.execute_reply.started": "2021-07-01T09:11:56.116862Z"
    },
    "papermill": {
     "duration": 2.427451,
     "end_time": "2021-07-01T10:00:39.355078",
     "exception": false,
     "start_time": "2021-07-01T10:00:36.927627",
     "status": "completed"
    },
    "tags": []
   },
   "outputs": [
    {
     "data": {
      "image/png": "[encoded data removed]",
      "text/plain": [
       "<Figure size 1440x360 with 4 Axes>"
      ]
     },
     "metadata": {
      "needs_background": "light"
     },
     "output_type": "display_data"
    },
    {
     "data": {
      "image/png": "[encoded data removed]",
      "text/plain": [
       "<Figure size 864x360 with 2 Axes>"
      ]
     },
     "metadata": {
      "needs_background": "light"
     },
     "output_type": "display_data"
    }
   ],
   "source": [
    "# text complexity analysis\n",
    "\n",
    "def get_parts(text, level='sentence'):\n",
    "    \"\"\"return parts of a text \n",
    "    if level is sentence, returns list of sentences\n",
    "    if level is details, uses all signs of ponctuation\"\"\"\n",
    "\n",
    "    if level == 'sentence':\n",
    "        list_replace=['.', '!', '?', '...']\n",
    "        sep = '.'  \n",
    "    elif level == 'details':\n",
    "        list_replace=['.', '!', '?', '...', ';', ':']\n",
    "        sep = ','\n",
    "    else:\n",
    "        return []\n",
    "\n",
    "    for char in list_replace:\n",
    "        text = text.replace(char, sep)\n",
    "\n",
    "    parts = text.split(sep)\n",
    "    parts = [x for x in parts if x]  # cleans empty substrings\n",
    "    return parts\n",
    "\n",
    "def count_parts(text, level='sentence'):\n",
    "    \"\"\"returns the number of substrings from text\n",
    "    if the level is 'sentence' (default), counts the number of sentences\n",
    "    if the level is 'details', uses every sign of ponctuation\"\"\"\n",
    "    parts = get_parts(text, level)\n",
    "    return len(parts)\n",
    "\n",
    "def length_parts(text, level='sentence', how='mean'):\n",
    "    \"\"\"returns the mean or max length of the substrings in a text\n",
    "    default level is the sentence analysis\"\"\"\n",
    "    parts = get_parts(text, level)\n",
    "    len_parts = []\n",
    "    for s in parts:\n",
    "        len_parts.append(len(s.split()))\n",
    "\n",
    "    if how == 'mean':\n",
    "        return np.mean(len_parts)\n",
    "    if how == 'max':\n",
    "        return np.max(len_parts)\n",
    "\n",
    "def count_parts_in_part(text):\n",
    "    \"\"\"for each sentence of the text, find additional ponctuation signs\n",
    "    and compute the mean number of 'parts' in the sentences\"\"\"\n",
    "    sentences = get_parts(text, level='sentence')\n",
    "    nb_parts_by_sentence = []\n",
    "    for s in sentences:\n",
    "        nb = count_parts(s, level='details')\n",
    "        nb_parts_by_sentence.append(nb)\n",
    "    return np.mean(nb_parts_by_sentence)\n",
    "\n",
    "def types_sentences(text):\n",
    "    \"\"\"returns the number of different sentences types in the text\n",
    "    from 0 to 4\"\"\"\n",
    "    list_sep = ['.', '!', '?', '...']\n",
    "    found = []\n",
    "    for sep in list_sep:\n",
    "        if sep in text:\n",
    "            found.append(sep)\n",
    "\n",
    "    return len(np.unique(found))\n",
    "\n",
    "# sentences level analysis\n",
    "data_train['nb_sentences'] = data_train.excerpt.apply(count_parts)\n",
    "data_train['mean_len_sentences'] = data_train.excerpt.apply(length_parts)\n",
    "data_train['max_len_sentences'] = data_train.excerpt.apply(length_parts,\n",
    "                                                           how='max')\n",
    "data_train['types_sentences'] = data_train.excerpt.apply(types_sentences)\n",
    "\n",
    "fix, ax = plt.subplots(1, 4, figsize=(20, 5))\n",
    "sns.histplot(data=data_train, x=\"nb_sentences\", bins=100, ax=ax[0],\n",
    "             color='peachpuff', edgecolor=None, stat='density')\n",
    "sns.kdeplot(data=data_train, x=\"nb_sentences\", color='lightsalmon', ax=ax[0])\n",
    "ax[0].axvline(np.median(data_train.nb_sentences), 0,\n",
    "              np.max(data_train.nb_sentences))\n",
    "ax[0].set_title('Number of sentences in a text', fontsize=10)\n",
    "\n",
    "data_types = data_train['types_sentences'].value_counts()\n",
    "data_types.plot(kind='pie', colormap='Set2', autopct=\"%.1f%%\", ax=ax[1])\n",
    "ax[1].set_title('Number of different types of sentences in a text',\n",
    "                fontsize=10)\n",
    "\n",
    "sns.histplot(data=data_train, x=\"mean_len_sentences\", bins=100, ax=ax[2],\n",
    "             color='paleturquoise', edgecolor=None, stat='density')\n",
    "sns.kdeplot(data=data_train, x=\"mean_len_sentences\", color='turquoise',\n",
    "            ax=ax[2])\n",
    "ax[2].axvline(np.median(data_train.mean_len_sentences), 0,\n",
    "              np.max(data_train.mean_len_sentences))\n",
    "ax[2].set_title('Mean number of words per sentence', fontsize=10)\n",
    "\n",
    "sns.histplot(data=data_train, x=\"max_len_sentences\", bins=100, ax=ax[3],\n",
    "             color='turquoise', edgecolor=None, stat='density')\n",
    "sns.kdeplot(data=data_train, x=\"max_len_sentences\", color='darkturquoise',\n",
    "            ax=ax[3])\n",
    "ax[3].axvline(np.median(data_train.max_len_sentences), 0,\n",
    "              np.max(data_train.max_len_sentences))\n",
    "ax[3].set_title('Max number of words per sentence', fontsize=10)\n",
    "\n",
    "plt.show()\n",
    "\n",
    "# sub-sentences (details) level analysis\n",
    "data_train['nb_parts'] = data_train.excerpt.apply(count_parts, level='details')\n",
    "data_train['mean_parts_by_sent'] = data_train.excerpt.apply(count_parts_in_part)\n",
    "\n",
    "fix, ax = plt.subplots(1, 2, figsize=(12, 5))\n",
    "sns.histplot(data=data_train, x=\"nb_parts\", bins=100, ax=ax[0],\n",
    "             color='wheat', edgecolor=None, stat='density')\n",
    "sns.kdeplot(data=data_train, x=\"nb_parts\", color='darkkhaki', ax=ax[0])\n",
    "ax[0].axvline(np.median(data_train.nb_parts), 0, np.max(data_train.nb_parts))\n",
    "ax[0].set_title('Number of sub-parts in a text', fontsize=10)\n",
    "\n",
    "sns.histplot(data=data_train, x=\"mean_parts_by_sent\", bins=100, ax=ax[1],\n",
    "             color='lightcoral', edgecolor=None, stat='density')\n",
    "sns.kdeplot(data=data_train, x=\"mean_parts_by_sent\", color='brown', ax=ax[1])\n",
    "ax[1].axvline(np.median(data_train.mean_parts_by_sent), 0,\n",
    "              np.max(data_train.mean_parts_by_sent))\n",
    "ax[1].set_title('Mean number of sub-parts per sentence', fontsize=10)\n",
    "\n",
    "plt.show()"
   ]
  },
  {
   "cell_type": "code",
   "execution_count": 5,
   "id": "exotic-consent",
   "metadata": {
    "execution": {
     "iopub.execute_input": "2021-07-01T10:00:39.442117Z",
     "iopub.status.busy": "2021-07-01T10:00:39.419645Z",
     "iopub.status.idle": "2021-07-01T10:00:39.842765Z",
     "shell.execute_reply": "2021-07-01T10:00:39.842349Z",
     "shell.execute_reply.started": "2021-07-01T09:12:01.810210Z"
    },
    "papermill": {
     "duration": 0.468781,
     "end_time": "2021-07-01T10:00:39.842884",
     "exception": false,
     "start_time": "2021-07-01T10:00:39.374103",
     "status": "completed"
    },
    "tags": []
   },
   "outputs": [
    {
     "data": {
      "image/png": "[encoded data removed]",
      "text/plain": [
       "<Figure size 864x360 with 2 Axes>"
      ]
     },
     "metadata": {
      "needs_background": "light"
     },
     "output_type": "display_data"
    }
   ],
   "source": [
    "# target labels\n",
    "labels = data_train['target']\n",
    "\n",
    "fix, ax = plt.subplots(1, 2, figsize=(12, 5))\n",
    "sns.histplot(data=data_train, x=\"target\", bins=100, ax=ax[0],\n",
    "             color='orange', edgecolor=None, stat='density')\n",
    "sns.kdeplot(data=data_train, x=\"target\", ax=ax[0], color='red')\n",
    "ax[0].axvline(np.median(data_train.target), 0, np.max(data_train.target))\n",
    "ax[0].set_title('Targets histogram', fontsize=10)\n",
    "\n",
    "sns.boxplot(x=data_train[\"target\"], ax=ax[1], color='orange')\n",
    "ax[1].set_title('Targets boxplot', fontsize=10)\n",
    "plt.show()"
   ]
  },
  {
   "cell_type": "code",
   "execution_count": 6,
   "id": "sunrise-america",
   "metadata": {
    "execution": {
     "iopub.execute_input": "2021-07-01T10:00:39.888672Z",
     "iopub.status.busy": "2021-07-01T10:00:39.887880Z",
     "iopub.status.idle": "2021-07-01T10:00:40.363997Z",
     "shell.execute_reply": "2021-07-01T10:00:40.363239Z",
     "shell.execute_reply.started": "2021-07-01T09:12:10.747216Z"
    },
    "papermill": {
     "duration": 0.501397,
     "end_time": "2021-07-01T10:00:40.364208",
     "exception": false,
     "start_time": "2021-07-01T10:00:39.862811",
     "status": "completed"
    },
    "tags": []
   },
   "outputs": [
    {
     "data": {
      "image/png": "[encoded data removed]",
      "text/plain": [
       "<Figure size 720x576 with 2 Axes>"
      ]
     },
     "metadata": {
      "needs_background": "light"
     },
     "output_type": "display_data"
    }
   ],
   "source": [
    "# Correlation between target and text complexity features\n",
    "\n",
    "data_mat = data_train[['target', 'nb_words', 'nb_int_words',\n",
    "                       'nb_sentences', 'max_len_sentences', 'types_sentences',\n",
    "                       'mean_parts_by_sent']]\n",
    "fig, axes = plt.subplots(figsize= (10,8))\n",
    "sns.heatmap(data_mat.corr(), annot=True, cmap='PRGn')\n",
    "plt.xticks(rotation=30, ha='right')\n",
    "plt.title(\"Matrice de corrélation\")\n",
    "plt.show()"
   ]
  },
  {
   "cell_type": "markdown",
   "id": "exciting-parliament",
   "metadata": {
    "papermill": {
     "duration": 0.020887,
     "end_time": "2021-07-01T10:00:40.406790",
     "exception": false,
     "start_time": "2021-07-01T10:00:40.385903",
     "status": "completed"
    },
    "tags": []
   },
   "source": [
    "# Distilbert"
   ]
  },
  {
   "cell_type": "code",
   "execution_count": 7,
   "id": "basic-pension",
   "metadata": {
    "execution": {
     "iopub.execute_input": "2021-07-01T10:00:40.453420Z",
     "iopub.status.busy": "2021-07-01T10:00:40.452765Z",
     "iopub.status.idle": "2021-07-01T10:00:46.414544Z",
     "shell.execute_reply": "2021-07-01T10:00:46.414004Z",
     "shell.execute_reply.started": "2021-07-01T09:40:18.652764Z"
    },
    "papermill": {
     "duration": 5.986824,
     "end_time": "2021-07-01T10:00:46.414680",
     "exception": false,
     "start_time": "2021-07-01T10:00:40.427856",
     "status": "completed"
    },
    "tags": []
   },
   "outputs": [],
   "source": [
    "# Load pretrained model/tokenizer Distilbert\n",
    "model_class = ppb.DistilBertModel\n",
    "tokenizer_class = ppb.DistilBertTokenizer\n",
    "pretrained_weights = \"../input/distilbertbaseuncased/\"\n",
    "\n",
    "tokenizer = tokenizer_class.from_pretrained(pretrained_weights,\n",
    "                                            do_lower_case=True)\n",
    "model = model_class.from_pretrained(pretrained_weights)"
   ]
  },
  {
   "cell_type": "code",
   "execution_count": 8,
   "id": "significant-scheme",
   "metadata": {
    "execution": {
     "iopub.execute_input": "2021-07-01T10:00:46.499795Z",
     "iopub.status.busy": "2021-07-01T10:00:46.499008Z",
     "iopub.status.idle": "2021-07-01T10:01:01.639452Z",
     "shell.execute_reply": "2021-07-01T10:01:01.638993Z",
     "shell.execute_reply.started": "2021-07-01T09:12:18.873155Z"
    },
    "papermill": {
     "duration": 15.202234,
     "end_time": "2021-07-01T10:01:01.639589",
     "exception": false,
     "start_time": "2021-07-01T10:00:46.437355",
     "status": "completed"
    },
    "tags": []
   },
   "outputs": [
    {
     "data": {
      "text/plain": [
       "(2834,)"
      ]
     },
     "execution_count": 8,
     "metadata": {},
     "output_type": "execute_result"
    }
   ],
   "source": [
    "# choose here if you want to use :\n",
    "# - full original text (-> excerpt)\n",
    "# - or preprocessed text (-> interest_words)\n",
    "use_text = data_train.excerpt\n",
    "tokenized = use_text.apply((lambda x: tokenizer.encode(x, add_special_tokens=True)))\n",
    "tokenized.shape"
   ]
  },
  {
   "cell_type": "code",
   "execution_count": 9,
   "id": "weekly-lucas",
   "metadata": {
    "execution": {
     "iopub.execute_input": "2021-07-01T10:01:01.860629Z",
     "iopub.status.busy": "2021-07-01T10:01:01.859617Z",
     "iopub.status.idle": "2021-07-01T10:01:01.866568Z",
     "shell.execute_reply": "2021-07-01T10:01:01.866972Z",
     "shell.execute_reply.started": "2021-07-01T09:12:34.837883Z"
    },
    "papermill": {
     "duration": 0.205553,
     "end_time": "2021-07-01T10:01:01.867187",
     "exception": false,
     "start_time": "2021-07-01T10:01:01.661634",
     "status": "completed"
    },
    "tags": []
   },
   "outputs": [
    {
     "name": "stdout",
     "output_type": "stream",
     "text": [
      "length of texts : 158 -> 314\n",
      "texts shape : (2834, 314)\n"
     ]
    }
   ],
   "source": [
    "# padding : add zeros to build same shapes texts\n",
    "max_len = 0\n",
    "min_len = 100000\n",
    "for i in tokenized.values:\n",
    "    if len(i) > max_len:\n",
    "        max_len = len(i)\n",
    "    if len(i) < min_len:\n",
    "        min_len = len(i)\n",
    "print('length of texts : {} -> {}'.format(min_len, max_len))\n",
    "\n",
    "padded = np.array([i + [0]*(max_len-len(i)) for i in tokenized.values])\n",
    "print('texts shape :', padded.shape)\n",
    "\n",
    "# build attention_mask to focus on real tokens (cf padding)\n",
    "attention_mask = np.where(padded != 0, 1, 0)"
   ]
  },
  {
   "cell_type": "code",
   "execution_count": 10,
   "id": "informal-industry",
   "metadata": {
    "execution": {
     "iopub.execute_input": "2021-07-01T10:01:01.917704Z",
     "iopub.status.busy": "2021-07-01T10:01:01.916778Z",
     "iopub.status.idle": "2021-07-01T10:16:41.819401Z",
     "shell.execute_reply": "2021-07-01T10:16:41.819786Z",
     "shell.execute_reply.started": "2021-07-01T09:12:35.055528Z"
    },
    "papermill": {
     "duration": 939.93071,
     "end_time": "2021-07-01T10:16:41.819947",
     "exception": false,
     "start_time": "2021-07-01T10:01:01.889237",
     "status": "completed"
    },
    "tags": []
   },
   "outputs": [
    {
     "name": "stdout",
     "output_type": "stream",
     "text": [
      "0 / 2834\n",
      "200 / 2834\n",
      "400 / 2834\n",
      "600 / 2834\n",
      "800 / 2834\n",
      "1000 / 2834\n",
      "1200 / 2834\n",
      "1400 / 2834\n",
      "1600 / 2834\n",
      "1800 / 2834\n",
      "2000 / 2834\n",
      "2200 / 2834\n",
      "2400 / 2834\n",
      "2600 / 2834\n",
      "2800 / 2834\n",
      "elapsed time :  939.8903949260712\n",
      "hidden states :  2834\n"
     ]
    }
   ],
   "source": [
    "# apply pretrained distilbert model to extract features\n",
    "input_ids = torch.tensor(padded)\n",
    "attention_mask = torch.tensor(attention_mask)\n",
    "\n",
    "last_hidden_states = []\n",
    "batch_size = 200\n",
    "\n",
    "start = time.time()\n",
    "with torch.no_grad():\n",
    "    for i in range(0, len(input_ids), batch_size):\n",
    "        print('{} / {}'.format(i, len(input_ids)))\n",
    "        ins = input_ids[i: i + batch_size]\n",
    "        atts = attention_mask[i: i + batch_size]\n",
    "        h = model(ins, attention_mask=atts)\n",
    "        last_hidden_states.extend(h[0])\n",
    "\n",
    "print('elapsed time : ', time.time() - start)\n",
    "print('hidden states : ', len(last_hidden_states))"
   ]
  },
  {
   "cell_type": "markdown",
   "id": "according-bolivia",
   "metadata": {
    "papermill": {
     "duration": 0.025421,
     "end_time": "2021-07-01T10:16:41.871333",
     "exception": false,
     "start_time": "2021-07-01T10:16:41.845912",
     "status": "completed"
    },
    "tags": []
   },
   "source": [
    "# Regression"
   ]
  },
  {
   "cell_type": "code",
   "execution_count": 11,
   "id": "younger-recovery",
   "metadata": {
    "execution": {
     "iopub.execute_input": "2021-07-01T10:16:41.932120Z",
     "iopub.status.busy": "2021-07-01T10:16:41.931430Z",
     "iopub.status.idle": "2021-07-01T10:16:41.934220Z",
     "shell.execute_reply": "2021-07-01T10:16:41.933816Z",
     "shell.execute_reply.started": "2021-07-01T09:27:42.011871Z"
    },
    "papermill": {
     "duration": 0.037532,
     "end_time": "2021-07-01T10:16:41.934342",
     "exception": false,
     "start_time": "2021-07-01T10:16:41.896810",
     "status": "completed"
    },
    "tags": []
   },
   "outputs": [],
   "source": [
    "def show_res(yTest, yPred):\n",
    "    \"\"\"plots result curves\"\"\"\n",
    "    fig, axes = plt.subplots(figsize=(12, 6), nrows=1, ncols=2)\n",
    "    xmin = np.min(yTest) - 1\n",
    "    xmax = np.max(yTest) + 1\n",
    "    axes[0].scatter(yTest, yPred, color='coral', s=1.5)\n",
    "    axes[0].plot([xmin, xmax], [xmin, xmax])\n",
    "    axes[0].set_xlabel('Y expected')\n",
    "    axes[0].set_ylabel('Y prediction')\n",
    "    axes[0].set_title('Prediction / true values')\n",
    "\n",
    "    residuals = yTest - yPred\n",
    "    moy_residuals = np.mean(residuals)\n",
    "    lab = 'Mean residuals(' + str(np.round(moy_residuals, decimals=2)) + ')'\n",
    "\n",
    "    xmin = np.min(yPred) - 1\n",
    "    xmax = np.max(yPred) + 1\n",
    "    axes[1].scatter(yPred,residuals, color='red', s=1.5)\n",
    "    axes[1].plot([xmin, xmax], [0, 0], color='grey', alpha=0.5, linewidth=0.5)\n",
    "    axes[1].plot([xmin, xmax], [moy_residuals, moy_residuals],\n",
    "                 color='green',linewidth=0.5, label=lab)\n",
    "    axes[1].set_xlabel('Y prediction')\n",
    "    axes[1].set_ylabel('Residuals')\n",
    "    axes[1].legend()\n",
    "    axes[1].set_title('Residuals')\n",
    "    \n",
    "    plt.show()"
   ]
  },
  {
   "cell_type": "code",
   "execution_count": 12,
   "id": "detected-jungle",
   "metadata": {
    "execution": {
     "iopub.execute_input": "2021-07-01T10:16:42.004287Z",
     "iopub.status.busy": "2021-07-01T10:16:42.003397Z",
     "iopub.status.idle": "2021-07-01T10:16:42.015118Z",
     "shell.execute_reply": "2021-07-01T10:16:42.015769Z",
     "shell.execute_reply.started": "2021-07-01T09:27:43.076834Z"
    },
    "papermill": {
     "duration": 0.055919,
     "end_time": "2021-07-01T10:16:42.015941",
     "exception": false,
     "start_time": "2021-07-01T10:16:41.960022",
     "status": "completed"
    },
    "tags": []
   },
   "outputs": [
    {
     "name": "stdout",
     "output_type": "stream",
     "text": [
      "Number of observations : 2834\n",
      "Number of features : 768\n"
     ]
    }
   ],
   "source": [
    "# get distilbert features (on CLS token)\n",
    "features = []\n",
    "for i in range(len(last_hidden_states)):\n",
    "    sent = last_hidden_states[i]\n",
    "    first_hidden = sent[0]\n",
    "    features.append(first_hidden.numpy())\n",
    "features = np.array(features)\n",
    "\n",
    "X = []\n",
    "add_complexity = False\n",
    "# add complexity features (cf first analysis) if needed\n",
    "if add_complexity:\n",
    "    complexity_features = data_train[['nb_sentences',\n",
    "                                      'types_sentences',\n",
    "                                      'mean_nb_parts_by_sentence']]\n",
    "    for i in range(len(data_train)):\n",
    "        cur_X = features[i]\n",
    "        cur_complexity = complexity_features.iloc[i].to_numpy()\n",
    "        cur_X = np.append(cur_X, cur_complexity)\n",
    "        X.append(cur_X)\n",
    "else:\n",
    "    X = features.copy()\n",
    "\n",
    "print('Number of observations :', len(X))\n",
    "print('Number of features :', len(X[0]))\n",
    "\n",
    "# split into train and validation set for evaluation purpose\n",
    "# X_train, X_test, y_train, y_test = train_test_split(X, labels, test_size=0.2)\n",
    "# do not split for competition\n",
    "X_train = X\n",
    "y_train = labels"
   ]
  },
  {
   "cell_type": "code",
   "execution_count": 13,
   "id": "victorian-bandwidth",
   "metadata": {
    "execution": {
     "iopub.execute_input": "2021-07-01T10:16:42.076966Z",
     "iopub.status.busy": "2021-07-01T10:16:42.075943Z",
     "iopub.status.idle": "2021-07-01T10:36:19.397345Z",
     "shell.execute_reply": "2021-07-01T10:36:19.398030Z",
     "shell.execute_reply.started": "2021-07-01T09:27:46.194154Z"
    },
    "papermill": {
     "duration": 1177.355861,
     "end_time": "2021-07-01T10:36:19.398245",
     "exception": false,
     "start_time": "2021-07-01T10:16:42.042384",
     "status": "completed"
    },
    "tags": []
   },
   "outputs": [
    {
     "name": "stdout",
     "output_type": "stream",
     "text": [
      "time (sec) : 1177.27\n",
      "Best model parameters:  {'alpha': 1.0, 'gamma': 0.01, 'kernel': 'polynomial'}\n"
     ]
    }
   ],
   "source": [
    "# Ridge polynomial kernel + gridsearch\n",
    "\n",
    "# parameters\n",
    "alpha_range = np.logspace(-2, 2, 5)  # regularization\n",
    "gamma_range = np.logspace(-2, 2, 5)  # kernel parameter\n",
    "kernel_types = ('polynomial', 'linear', 'rbf', 'laplacian', 'sigmoid', 'cosine')\n",
    "param_grid = {'alpha': alpha_range, 'gamma': gamma_range, 'kernel': kernel_types}\n",
    "\n",
    "score = 'neg_mean_squared_error'\n",
    "model_reg = kernel_ridge.KernelRidge()\n",
    "\n",
    "kr_model = GridSearchCV(\n",
    "    model_reg,\n",
    "    param_grid,\n",
    "    cv=5,\n",
    "    scoring=score,\n",
    "    return_train_score=True)\n",
    "                                    \n",
    "# training\n",
    "start_time = time.time()\n",
    "kr_model.fit(X_train, y_train)\n",
    "elapsed = time.time() - start_time\n",
    "\n",
    "print('time (sec) :', round(elapsed, 2))\n",
    "print('Best model parameters: ', kr_model.best_params_)\n",
    "      \n",
    "# prediction for evaluation purpose (comment section for competition)\n",
    "# y_pred = kr_model.predict(X_test)\n",
    "# rmse = np.sqrt(metrics.mean_squared_error(y_test, y_pred))\n",
    "# results\n",
    "# print('rmse :', round(rmse, 3))\n",
    "# show_res(y_test, y_pred)"
   ]
  },
  {
   "cell_type": "markdown",
   "id": "interim-ambassador",
   "metadata": {
    "papermill": {
     "duration": 0.026303,
     "end_time": "2021-07-01T10:36:19.459506",
     "exception": false,
     "start_time": "2021-07-01T10:36:19.433203",
     "status": "completed"
    },
    "tags": []
   },
   "source": [
    "# Test set (7 entries)"
   ]
  },
  {
   "cell_type": "markdown",
   "id": "existing-richardson",
   "metadata": {
    "papermill": {
     "duration": 0.026368,
     "end_time": "2021-07-01T10:36:19.512389",
     "exception": false,
     "start_time": "2021-07-01T10:36:19.486021",
     "status": "completed"
    },
    "tags": []
   },
   "source": [
    "Apply the same transformations to test set as the training set (no preprocessing, no complexity features added)"
   ]
  },
  {
   "cell_type": "code",
   "execution_count": 14,
   "id": "cultural-details",
   "metadata": {
    "execution": {
     "iopub.execute_input": "2021-07-01T10:36:19.577675Z",
     "iopub.status.busy": "2021-07-01T10:36:19.577118Z",
     "iopub.status.idle": "2021-07-01T10:36:20.775122Z",
     "shell.execute_reply": "2021-07-01T10:36:20.774654Z",
     "shell.execute_reply.started": "2021-07-01T09:40:25.230159Z"
    },
    "papermill": {
     "duration": 1.236413,
     "end_time": "2021-07-01T10:36:20.775247",
     "exception": false,
     "start_time": "2021-07-01T10:36:19.538834",
     "status": "completed"
    },
    "tags": []
   },
   "outputs": [
    {
     "name": "stdout",
     "output_type": "stream",
     "text": [
      "0 / 7\n",
      "elapsed time :  1.1512911319732666\n",
      "hidden states :  7\n"
     ]
    }
   ],
   "source": [
    "test_file = '../input/commonlitreadabilityprize/test.csv'\n",
    "data_test =  pd.read_csv(test_file)\n",
    "\n",
    "# tokenisation on full text\n",
    "tokenized_test = data_test.excerpt.str.lower().apply(\n",
    "    (lambda x: tokenizer.encode(x, add_special_tokens=True)))\n",
    "\n",
    "# padding and attention mask\n",
    "max_len = 0\n",
    "for i in tokenized_test.values:\n",
    "    if len(i) > max_len:\n",
    "        max_len = len(i)\n",
    "padded_test = np.array([i + [0]*(max_len-len(i)) for i in tokenized_test.values])\n",
    "attention_mask_test = np.where(padded_test != 0, 1, 0)\n",
    "\n",
    "# compute features\n",
    "input_ids = torch.tensor(padded_test)  \n",
    "attention_mask = torch.tensor(attention_mask_test)\n",
    "\n",
    "last_hidden_states_test = []\n",
    "batch_size = 200\n",
    "\n",
    "start = time.time()\n",
    "with torch.no_grad():\n",
    "    for i in range(0, len(input_ids), batch_size):\n",
    "        print('{} / {}'.format(i, len(input_ids)))\n",
    "        ins = input_ids[i:i+batch_size]\n",
    "        atts = attention_mask[i:i+batch_size]\n",
    "        h = model(ins, attention_mask=atts)\n",
    "        last_hidden_states_test.extend(h[0])\n",
    "          \n",
    "print('elapsed time : ', time.time() - start)\n",
    "print('hidden states : ', len(last_hidden_states_test))"
   ]
  },
  {
   "cell_type": "code",
   "execution_count": 15,
   "id": "special-jordan",
   "metadata": {
    "execution": {
     "iopub.execute_input": "2021-07-01T10:36:20.835997Z",
     "iopub.status.busy": "2021-07-01T10:36:20.835082Z",
     "iopub.status.idle": "2021-07-01T10:36:21.180063Z",
     "shell.execute_reply": "2021-07-01T10:36:21.179458Z",
     "shell.execute_reply.started": "2021-07-01T09:40:29.402019Z"
    },
    "papermill": {
     "duration": 0.377707,
     "end_time": "2021-07-01T10:36:21.180229",
     "exception": false,
     "start_time": "2021-07-01T10:36:20.802522",
     "status": "completed"
    },
    "tags": []
   },
   "outputs": [
    {
     "data": {
      "text/html": [
       "<div>\n",
       "<style scoped>\n",
       "    .dataframe tbody tr th:only-of-type {\n",
       "        vertical-align: middle;\n",
       "    }\n",
       "\n",
       "    .dataframe tbody tr th {\n",
       "        vertical-align: top;\n",
       "    }\n",
       "\n",
       "    .dataframe thead th {\n",
       "        text-align: right;\n",
       "    }\n",
       "</style>\n",
       "<table border=\"1\" class=\"dataframe\">\n",
       "  <thead>\n",
       "    <tr style=\"text-align: right;\">\n",
       "      <th></th>\n",
       "      <th>id</th>\n",
       "      <th>target</th>\n",
       "    </tr>\n",
       "  </thead>\n",
       "  <tbody>\n",
       "    <tr>\n",
       "      <th>0</th>\n",
       "      <td>c0f722661</td>\n",
       "      <td>-0.585737</td>\n",
       "    </tr>\n",
       "    <tr>\n",
       "      <th>1</th>\n",
       "      <td>f0953f0a5</td>\n",
       "      <td>-0.183422</td>\n",
       "    </tr>\n",
       "    <tr>\n",
       "      <th>2</th>\n",
       "      <td>0df072751</td>\n",
       "      <td>-0.297376</td>\n",
       "    </tr>\n",
       "    <tr>\n",
       "      <th>3</th>\n",
       "      <td>04caf4e0c</td>\n",
       "      <td>-2.815977</td>\n",
       "    </tr>\n",
       "    <tr>\n",
       "      <th>4</th>\n",
       "      <td>0e63f8bea</td>\n",
       "      <td>-1.789692</td>\n",
       "    </tr>\n",
       "    <tr>\n",
       "      <th>5</th>\n",
       "      <td>12537fe78</td>\n",
       "      <td>-1.154212</td>\n",
       "    </tr>\n",
       "    <tr>\n",
       "      <th>6</th>\n",
       "      <td>965e592c0</td>\n",
       "      <td>-0.300077</td>\n",
       "    </tr>\n",
       "  </tbody>\n",
       "</table>\n",
       "</div>"
      ],
      "text/plain": [
       "          id    target\n",
       "0  c0f722661 -0.585737\n",
       "1  f0953f0a5 -0.183422\n",
       "2  0df072751 -0.297376\n",
       "3  04caf4e0c -2.815977\n",
       "4  0e63f8bea -1.789692\n",
       "5  12537fe78 -1.154212\n",
       "6  965e592c0 -0.300077"
      ]
     },
     "execution_count": 15,
     "metadata": {},
     "output_type": "execute_result"
    }
   ],
   "source": [
    "# get test features\n",
    "X_test = []\n",
    "for i in range(len(last_hidden_states_test)):\n",
    "    sent = last_hidden_states_test[i]\n",
    "    first_hidden = sent[0]\n",
    "    X_test.append(first_hidden.numpy())\n",
    "X_test = np.array(X_test)\n",
    "\n",
    "# prediction\n",
    "y_test = kr_model.predict(X_test)\n",
    "\n",
    "# submission file\n",
    "submission_df = pd.DataFrame({'id': data_test.id, 'target': 0})\n",
    "submission_df.target = y_test\n",
    "\n",
    "submission_file = 'submission.csv'\n",
    "submission_df.to_csv(submission_file, index=False)\n",
    "\n",
    "submission_df"
   ]
  },
  {
   "cell_type": "code",
   "execution_count": null,
   "id": "supposed-clark",
   "metadata": {
    "papermill": {
     "duration": 0.049846,
     "end_time": "2021-07-01T10:36:21.281615",
     "exception": false,
     "start_time": "2021-07-01T10:36:21.231769",
     "status": "completed"
    },
    "tags": []
   },
   "outputs": [],
   "source": []
  }
 ],
 "metadata": {
  "kernelspec": {
   "display_name": "Python 3",
   "language": "python",
   "name": "python3"
  },
  "language_info": {
   "codemirror_mode": {
    "name": "ipython",
    "version": 3
   },
   "file_extension": ".py",
   "mimetype": "text/x-python",
   "name": "python",
   "nbconvert_exporter": "python",
   "pygments_lexer": "ipython3",
   "version": "3.7.9"
  },
  "papermill": {
   "default_parameters": {},
   "duration": 2155.747282,
   "end_time": "2021-07-01T10:36:22.345185",
   "environment_variables": {},
   "exception": null,
   "input_path": "__notebook__.ipynb",
   "output_path": "__notebook__.ipynb",
   "parameters": {},
   "start_time": "2021-07-01T10:00:26.597903",
   "version": "2.3.2"
  }
 },
 "nbformat": 4,
 "nbformat_minor": 5
}
