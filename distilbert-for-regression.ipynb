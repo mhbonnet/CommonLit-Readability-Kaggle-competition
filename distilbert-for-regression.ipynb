{
 "cells": [
  {
   "cell_type": "code",
   "execution_count": 1,
   "id": "false-buffalo",
   "metadata": {
    "execution": {
     "iopub.execute_input": "2021-06-21T09:26:38.419659Z",
     "iopub.status.busy": "2021-06-21T09:26:38.418229Z",
     "iopub.status.idle": "2021-06-21T09:26:41.558527Z",
     "shell.execute_reply": "2021-06-21T09:26:41.559074Z",
     "shell.execute_reply.started": "2021-06-21T09:10:54.445803Z"
    },
    "papermill": {
     "duration": 3.15711,
     "end_time": "2021-06-21T09:26:41.559406",
     "exception": false,
     "start_time": "2021-06-21T09:26:38.402296",
     "status": "completed"
    },
    "tags": []
   },
   "outputs": [],
   "source": [
    "#! pip install transformers\n",
    "import pandas as pd\n",
    "import numpy as np\n",
    "import time\n",
    "import matplotlib.pyplot as plt\n",
    "import seaborn as sns\n",
    "\n",
    "import torch\n",
    "import transformers as ppb # pytorch transformers\n",
    "\n",
    "from sklearn import metrics\n",
    "from sklearn import kernel_ridge\n",
    "from sklearn.model_selection import train_test_split\n",
    "from sklearn.model_selection import GridSearchCV\n",
    "from sklearn.linear_model import LinearRegression\n",
    "\n",
    "import warnings\n",
    "warnings.filterwarnings(\"ignore\")"
   ]
  },
  {
   "cell_type": "code",
   "execution_count": 2,
   "id": "constant-elements",
   "metadata": {
    "execution": {
     "iopub.execute_input": "2021-06-21T09:26:41.611603Z",
     "iopub.status.busy": "2021-06-21T09:26:41.610898Z",
     "iopub.status.idle": "2021-06-21T09:26:41.729242Z",
     "shell.execute_reply": "2021-06-21T09:26:41.730337Z",
     "shell.execute_reply.started": "2021-06-21T08:49:00.867268Z"
    },
    "papermill": {
     "duration": 0.150713,
     "end_time": "2021-06-21T09:26:41.730536",
     "exception": false,
     "start_time": "2021-06-21T09:26:41.579823",
     "status": "completed"
    },
    "tags": []
   },
   "outputs": [
    {
     "data": {
      "text/html": [
       "<div>\n",
       "<style scoped>\n",
       "    .dataframe tbody tr th:only-of-type {\n",
       "        vertical-align: middle;\n",
       "    }\n",
       "\n",
       "    .dataframe tbody tr th {\n",
       "        vertical-align: top;\n",
       "    }\n",
       "\n",
       "    .dataframe thead th {\n",
       "        text-align: right;\n",
       "    }\n",
       "</style>\n",
       "<table border=\"1\" class=\"dataframe\">\n",
       "  <thead>\n",
       "    <tr style=\"text-align: right;\">\n",
       "      <th></th>\n",
       "      <th>excerpt</th>\n",
       "      <th>target</th>\n",
       "    </tr>\n",
       "  </thead>\n",
       "  <tbody>\n",
       "    <tr>\n",
       "      <th>0</th>\n",
       "      <td>When the young people returned to the ballroom...</td>\n",
       "      <td>-0.340259</td>\n",
       "    </tr>\n",
       "    <tr>\n",
       "      <th>1</th>\n",
       "      <td>All through dinner time, Mrs. Fayre was somewh...</td>\n",
       "      <td>-0.315372</td>\n",
       "    </tr>\n",
       "    <tr>\n",
       "      <th>2</th>\n",
       "      <td>As Roger had predicted, the snow departed as q...</td>\n",
       "      <td>-0.580118</td>\n",
       "    </tr>\n",
       "    <tr>\n",
       "      <th>3</th>\n",
       "      <td>And outside before the palace a great garden w...</td>\n",
       "      <td>-1.054013</td>\n",
       "    </tr>\n",
       "    <tr>\n",
       "      <th>4</th>\n",
       "      <td>Once upon a time there were Three Bears who li...</td>\n",
       "      <td>0.247197</td>\n",
       "    </tr>\n",
       "    <tr>\n",
       "      <th>...</th>\n",
       "      <td>...</td>\n",
       "      <td>...</td>\n",
       "    </tr>\n",
       "    <tr>\n",
       "      <th>2829</th>\n",
       "      <td>When you think of dinosaurs and where they liv...</td>\n",
       "      <td>1.711390</td>\n",
       "    </tr>\n",
       "    <tr>\n",
       "      <th>2830</th>\n",
       "      <td>So what is a solid? Solids are usually hard be...</td>\n",
       "      <td>0.189476</td>\n",
       "    </tr>\n",
       "    <tr>\n",
       "      <th>2831</th>\n",
       "      <td>The second state of matter we will discuss is ...</td>\n",
       "      <td>0.255209</td>\n",
       "    </tr>\n",
       "    <tr>\n",
       "      <th>2832</th>\n",
       "      <td>Solids are shapes that you can actually touch....</td>\n",
       "      <td>-0.215279</td>\n",
       "    </tr>\n",
       "    <tr>\n",
       "      <th>2833</th>\n",
       "      <td>Animals are made of many cells. They eat thing...</td>\n",
       "      <td>0.300779</td>\n",
       "    </tr>\n",
       "  </tbody>\n",
       "</table>\n",
       "<p>2834 rows × 2 columns</p>\n",
       "</div>"
      ],
      "text/plain": [
       "                                                excerpt    target\n",
       "0     When the young people returned to the ballroom... -0.340259\n",
       "1     All through dinner time, Mrs. Fayre was somewh... -0.315372\n",
       "2     As Roger had predicted, the snow departed as q... -0.580118\n",
       "3     And outside before the palace a great garden w... -1.054013\n",
       "4     Once upon a time there were Three Bears who li...  0.247197\n",
       "...                                                 ...       ...\n",
       "2829  When you think of dinosaurs and where they liv...  1.711390\n",
       "2830  So what is a solid? Solids are usually hard be...  0.189476\n",
       "2831  The second state of matter we will discuss is ...  0.255209\n",
       "2832  Solids are shapes that you can actually touch.... -0.215279\n",
       "2833  Animals are made of many cells. They eat thing...  0.300779\n",
       "\n",
       "[2834 rows x 2 columns]"
      ]
     },
     "execution_count": 2,
     "metadata": {},
     "output_type": "execute_result"
    }
   ],
   "source": [
    "train_file = '../input/commonlitreadabilityprize/train.csv'\n",
    "data_train =  pd.read_csv(train_file)\n",
    "data_train = data_train[['excerpt', 'target']]\n",
    "data_train"
   ]
  },
  {
   "cell_type": "code",
   "execution_count": 3,
   "id": "liquid-settle",
   "metadata": {
    "execution": {
     "iopub.execute_input": "2021-06-21T09:26:41.776781Z",
     "iopub.status.busy": "2021-06-21T09:26:41.775908Z",
     "iopub.status.idle": "2021-06-21T09:26:46.817284Z",
     "shell.execute_reply": "2021-06-21T09:26:46.816339Z",
     "shell.execute_reply.started": "2021-06-21T08:49:09.807404Z"
    },
    "papermill": {
     "duration": 5.065244,
     "end_time": "2021-06-21T09:26:46.817420",
     "exception": false,
     "start_time": "2021-06-21T09:26:41.752176",
     "status": "completed"
    },
    "tags": []
   },
   "outputs": [],
   "source": [
    "# Load pretrained model/tokenizer Distilbert\n",
    "model_class = ppb.DistilBertModel\n",
    "tokenizer_class = ppb.DistilBertTokenizer\n",
    "pretrained_weights = \"../input/distilbertbaseuncased/\"\n",
    "\n",
    "tokenizer = tokenizer_class.from_pretrained(pretrained_weights,\n",
    "                                            do_lower_case=True)\n",
    "model = model_class.from_pretrained(pretrained_weights)"
   ]
  },
  {
   "cell_type": "code",
   "execution_count": 4,
   "id": "owned-motion",
   "metadata": {
    "execution": {
     "iopub.execute_input": "2021-06-21T09:26:46.851863Z",
     "iopub.status.busy": "2021-06-21T09:26:46.851094Z",
     "iopub.status.idle": "2021-06-21T09:27:01.500813Z",
     "shell.execute_reply": "2021-06-21T09:27:01.501201Z",
     "shell.execute_reply.started": "2021-06-21T08:49:16.445117Z"
    },
    "papermill": {
     "duration": 14.671169,
     "end_time": "2021-06-21T09:27:01.501357",
     "exception": false,
     "start_time": "2021-06-21T09:26:46.830188",
     "status": "completed"
    },
    "tags": []
   },
   "outputs": [
    {
     "data": {
      "text/plain": [
       "(2834,)"
      ]
     },
     "execution_count": 4,
     "metadata": {},
     "output_type": "execute_result"
    }
   ],
   "source": [
    "tokenized = data_train.excerpt.apply(\n",
    "    (lambda x: tokenizer.encode(x, add_special_tokens=True)))\n",
    "tokenized.shape"
   ]
  },
  {
   "cell_type": "code",
   "execution_count": 5,
   "id": "charitable-suggestion",
   "metadata": {
    "execution": {
     "iopub.execute_input": "2021-06-21T09:27:01.706378Z",
     "iopub.status.busy": "2021-06-21T09:27:01.705278Z",
     "iopub.status.idle": "2021-06-21T09:27:01.708730Z",
     "shell.execute_reply": "2021-06-21T09:27:01.708287Z",
     "shell.execute_reply.started": "2021-06-21T08:49:51.626424Z"
    },
    "papermill": {
     "duration": 0.195337,
     "end_time": "2021-06-21T09:27:01.708841",
     "exception": false,
     "start_time": "2021-06-21T09:27:01.513504",
     "status": "completed"
    },
    "tags": []
   },
   "outputs": [
    {
     "name": "stdout",
     "output_type": "stream",
     "text": [
      "length of texts : 158 -> 314\n",
      "texts shape : (2834, 314)\n"
     ]
    }
   ],
   "source": [
    "max_len = 0\n",
    "min_len = 1000\n",
    "for i in tokenized.values:\n",
    "    if len(i) > max_len:\n",
    "        max_len = len(i)\n",
    "    if len(i) < min_len:\n",
    "        min_len = len(i)\n",
    "\n",
    "print('length of texts : {} -> {}'.format(min_len, max_len))\n",
    "\n",
    "# padding : add 0 to reach max number of tokens for all sentences\n",
    "padded = np.array([i + [0]*(max_len-len(i)) for i in tokenized.values])\n",
    "\n",
    "print('texts shape :', padded.shape)"
   ]
  },
  {
   "cell_type": "code",
   "execution_count": 6,
   "id": "massive-leonard",
   "metadata": {
    "execution": {
     "iopub.execute_input": "2021-06-21T09:27:01.737011Z",
     "iopub.status.busy": "2021-06-21T09:27:01.736222Z",
     "iopub.status.idle": "2021-06-21T09:27:01.744589Z",
     "shell.execute_reply": "2021-06-21T09:27:01.744116Z",
     "shell.execute_reply.started": "2021-06-21T08:49:58.770635Z"
    },
    "papermill": {
     "duration": 0.023908,
     "end_time": "2021-06-21T09:27:01.744710",
     "exception": false,
     "start_time": "2021-06-21T09:27:01.720802",
     "status": "completed"
    },
    "tags": []
   },
   "outputs": [
    {
     "data": {
      "text/plain": [
       "(2834, 314)"
      ]
     },
     "execution_count": 6,
     "metadata": {},
     "output_type": "execute_result"
    }
   ],
   "source": [
    "# needed if padding has been done\n",
    "attention_mask = np.where(padded != 0, 1, 0)\n",
    "attention_mask.shape"
   ]
  },
  {
   "cell_type": "code",
   "execution_count": 7,
   "id": "exempt-paragraph",
   "metadata": {
    "execution": {
     "iopub.execute_input": "2021-06-21T09:27:01.777099Z",
     "iopub.status.busy": "2021-06-21T09:27:01.776201Z",
     "iopub.status.idle": "2021-06-21T09:44:04.241850Z",
     "shell.execute_reply": "2021-06-21T09:44:04.240770Z",
     "shell.execute_reply.started": "2021-06-21T08:50:13.274745Z"
    },
    "papermill": {
     "duration": 1022.483715,
     "end_time": "2021-06-21T09:44:04.242121",
     "exception": false,
     "start_time": "2021-06-21T09:27:01.758406",
     "status": "completed"
    },
    "tags": []
   },
   "outputs": [
    {
     "name": "stdout",
     "output_type": "stream",
     "text": [
      "0 / 2834\n",
      "200 / 2834\n",
      "400 / 2834\n",
      "600 / 2834\n",
      "800 / 2834\n",
      "1000 / 2834\n",
      "1200 / 2834\n",
      "1400 / 2834\n",
      "1600 / 2834\n",
      "1800 / 2834\n",
      "2000 / 2834\n",
      "2200 / 2834\n",
      "2400 / 2834\n",
      "2600 / 2834\n",
      "2800 / 2834\n",
      "elapsed time :  1022.4512009620667\n",
      "hidden states :  2834\n"
     ]
    }
   ],
   "source": [
    "# distilbert\n",
    "input_ids = torch.tensor(padded)  \n",
    "attention_mask = torch.tensor(attention_mask)\n",
    "\n",
    "last_hidden_states = []\n",
    "batch_size = 200\n",
    "\n",
    "start = time.time()\n",
    "with torch.no_grad():\n",
    "    for i in range(0, len(input_ids), batch_size):\n",
    "          print('{} / {}'.format(i, len(input_ids)))\n",
    "          ins = input_ids[i:i+batch_size]\n",
    "          atts = attention_mask[i:i+batch_size]\n",
    "          h = model(ins, attention_mask=atts)\n",
    "          last_hidden_states.extend(h[0])\n",
    "          \n",
    "print('elapsed time : ', time.time() - start)\n",
    "print('hidden states : ', len(last_hidden_states))"
   ]
  },
  {
   "cell_type": "markdown",
   "id": "compact-indianapolis",
   "metadata": {
    "papermill": {
     "duration": 0.015943,
     "end_time": "2021-06-21T09:44:04.275252",
     "exception": false,
     "start_time": "2021-06-21T09:44:04.259309",
     "status": "completed"
    },
    "tags": []
   },
   "source": [
    "# Regression"
   ]
  },
  {
   "cell_type": "code",
   "execution_count": 8,
   "id": "familiar-sterling",
   "metadata": {
    "execution": {
     "iopub.execute_input": "2021-06-21T09:44:04.318874Z",
     "iopub.status.busy": "2021-06-21T09:44:04.318229Z",
     "iopub.status.idle": "2021-06-21T09:44:04.321249Z",
     "shell.execute_reply": "2021-06-21T09:44:04.320829Z",
     "shell.execute_reply.started": "2021-06-21T09:08:46.925146Z"
    },
    "papermill": {
     "duration": 0.028569,
     "end_time": "2021-06-21T09:44:04.321366",
     "exception": false,
     "start_time": "2021-06-21T09:44:04.292797",
     "status": "completed"
    },
    "tags": []
   },
   "outputs": [],
   "source": [
    "def show_res(yTest, yPred):\n",
    "    \"\"\"plots result curves\"\"\"\n",
    "    fig, axes = plt.subplots(figsize=(12, 6), nrows=1, ncols=2)\n",
    "    xmin = np.min(yTest)-1\n",
    "    xmax = np.max(yTest)+1\n",
    "    axes[0].scatter(yTest, yPred, color='coral', s=1.5)\n",
    "    axes[0].plot([xmin, xmax], [xmin, xmax])\n",
    "    axes[0].set_xlabel('Y expected')\n",
    "    axes[0].set_ylabel('Y prediction')\n",
    "    axes[0].set_title('Prediction / observation')\n",
    "  \n",
    "    residuals = yTest - yPred\n",
    "    moy_residuals = np.mean(residuals)\n",
    "    lab = 'Mean residuals(' + str(np.round(moy_residuals, decimals=2)) + ')'\n",
    "\n",
    "    xmin = np.min(yPred) - 1\n",
    "    xmax = np.max(yPred) + 1\n",
    "    axes[1].scatter(yPred,residuals, color='red', s=1.5)\n",
    "    axes[1].plot([xmin, xmax], [0, 0], color='grey', alpha=0.5, linewidth=0.5)\n",
    "    axes[1].plot([xmin, xmax], [moy_residuals, moy_residuals],\n",
    "                 color='green',linewidth=0.5, label=lab)\n",
    "    axes[1].set_xlabel('Y prediction')\n",
    "    axes[1].set_ylabel('Residuals')\n",
    "    axes[1].legend()\n",
    "    axes[1].set_title('Residuals')\n",
    "    \n",
    "    plt.show()"
   ]
  },
  {
   "cell_type": "code",
   "execution_count": 9,
   "id": "statewide-buddy",
   "metadata": {
    "execution": {
     "iopub.execute_input": "2021-06-21T09:44:04.362347Z",
     "iopub.status.busy": "2021-06-21T09:44:04.361575Z",
     "iopub.status.idle": "2021-06-21T09:44:04.858242Z",
     "shell.execute_reply": "2021-06-21T09:44:04.857775Z",
     "shell.execute_reply.started": "2021-06-21T09:08:59.470904Z"
    },
    "papermill": {
     "duration": 0.520346,
     "end_time": "2021-06-21T09:44:04.858376",
     "exception": false,
     "start_time": "2021-06-21T09:44:04.338030",
     "status": "completed"
    },
    "tags": []
   },
   "outputs": [
    {
     "data": {
      "image/png": "[encoded data removed]",
      "text/plain": [
       "<Figure size 432x288 with 1 Axes>"
      ]
     },
     "metadata": {
      "needs_background": "light"
     },
     "output_type": "display_data"
    }
   ],
   "source": [
    "# get target labels\n",
    "labels = data_train['target']\n",
    "\n",
    "sns.histplot(data=data_train, x=\"target\", bins=100, color='orange',\n",
    "            edgecolor=None, stat='density',)\n",
    "sns.kdeplot(data=data_train, x=\"target\", color='red')\n",
    "plt.title('Targets histogramm', fontsize=10)\n",
    "plt.show()\n",
    "\n",
    "# get features (cfs CLS token)\n",
    "features = []\n",
    "for i in range(len(last_hidden_states)):\n",
    "    sent = last_hidden_states[i]\n",
    "    first_hidden = sent[0]\n",
    "    features.append(first_hidden.numpy())\n",
    "features = np.array(features)\n",
    "\n",
    "# split into train and validation set\n",
    "X_train, X_test, y_train, y_test = train_test_split(features, labels, test_size=0.2)"
   ]
  },
  {
   "cell_type": "code",
   "execution_count": 10,
   "id": "internal-locking",
   "metadata": {
    "execution": {
     "iopub.execute_input": "2021-06-21T09:44:04.898864Z",
     "iopub.status.busy": "2021-06-21T09:44:04.898049Z",
     "iopub.status.idle": "2021-06-21T09:44:05.503812Z",
     "shell.execute_reply": "2021-06-21T09:44:05.502945Z",
     "shell.execute_reply.started": "2021-06-21T09:17:14.477130Z"
    },
    "papermill": {
     "duration": 0.628195,
     "end_time": "2021-06-21T09:44:05.503960",
     "exception": false,
     "start_time": "2021-06-21T09:44:04.875765",
     "status": "completed"
    },
    "tags": []
   },
   "outputs": [
    {
     "name": "stdout",
     "output_type": "stream",
     "text": [
      "time (sec) : 0.24\n",
      "rmse : 0.656\n"
     ]
    },
    {
     "data": {
      "image/png": "[encoded data removed]",
      "text/plain": [
       "<Figure size 864x432 with 2 Axes>"
      ]
     },
     "metadata": {
      "needs_background": "light"
     },
     "output_type": "display_data"
    }
   ],
   "source": [
    "# Linear Regression\n",
    "\n",
    "# training\n",
    "start_time = time.time()\n",
    "regr = LinearRegression().fit(X_train, y_train)\n",
    "elapsed = time.time() - start_time\n",
    "\n",
    "# prediction\n",
    "y_pred = regr.predict(X_test)\n",
    "rmse = np.sqrt(metrics.mean_squared_error(y_test, y_pred))\n",
    "\n",
    "# results\n",
    "print('time (sec) :', round(elapsed, 2))\n",
    "print('rmse :', round(rmse, 3))\n",
    "show_res(y_test, y_pred)"
   ]
  },
  {
   "cell_type": "code",
   "execution_count": 11,
   "id": "forced-hollywood",
   "metadata": {
    "execution": {
     "iopub.execute_input": "2021-06-21T09:44:05.550385Z",
     "iopub.status.busy": "2021-06-21T09:44:05.549238Z",
     "iopub.status.idle": "2021-06-21T09:44:39.301587Z",
     "shell.execute_reply": "2021-06-21T09:44:39.302010Z",
     "shell.execute_reply.started": "2021-06-21T09:23:00.955290Z"
    },
    "papermill": {
     "duration": 33.778878,
     "end_time": "2021-06-21T09:44:39.302162",
     "exception": false,
     "start_time": "2021-06-21T09:44:05.523284",
     "status": "completed"
    },
    "tags": []
   },
   "outputs": [
    {
     "name": "stdout",
     "output_type": "stream",
     "text": [
      "time (sec) : 33.33\n",
      "rmse : 0.565\n"
     ]
    },
    {
     "data": {
      "image/png": "[encoded data removed]",
      "text/plain": [
       "<Figure size 864x432 with 2 Axes>"
      ]
     },
     "metadata": {
      "needs_background": "light"
     },
     "output_type": "display_data"
    }
   ],
   "source": [
    "# Ridge polynomial kernel + gridsearch\n",
    "\n",
    "# parameters C, gamma\n",
    "alpha_range = np.logspace(-2, 2, 5)\n",
    "gamma_range = np.logspace(-2, 1, 4)\n",
    "param_grid = {'alpha': alpha_range, 'gamma': gamma_range}\n",
    "\n",
    "score = 'neg_mean_squared_error'\n",
    "\n",
    "kr_model = GridSearchCV(\n",
    "        kernel_ridge.KernelRidge(kernel='polynomial'),\n",
    "        param_grid,\n",
    "        cv=5,\n",
    "        scoring=score)\n",
    "                                    \n",
    "# training\n",
    "start_time = time.time()\n",
    "kr_model.fit(X_train, y_train)\n",
    "elapsed = time.time() - start_time\n",
    "\n",
    "# prediction\n",
    "y_pred = kr_model.predict(X_test)\n",
    "rmse_pol = np.sqrt(metrics.mean_squared_error(y_test, y_pred))\n",
    "\n",
    "# results\n",
    "print('time (sec) :', round(elapsed, 2))\n",
    "print('rmse :', round(rmse_pol, 3))\n",
    "show_res(y_test, y_pred)"
   ]
  },
  {
   "cell_type": "markdown",
   "id": "intensive-broad",
   "metadata": {
    "papermill": {
     "duration": 0.021882,
     "end_time": "2021-06-21T09:44:39.348298",
     "exception": false,
     "start_time": "2021-06-21T09:44:39.326416",
     "status": "completed"
    },
    "tags": []
   },
   "source": [
    "# Test set (7 entries)"
   ]
  },
  {
   "cell_type": "code",
   "execution_count": 12,
   "id": "ordinary-crystal",
   "metadata": {
    "execution": {
     "iopub.execute_input": "2021-06-21T09:44:39.399492Z",
     "iopub.status.busy": "2021-06-21T09:44:39.398977Z",
     "iopub.status.idle": "2021-06-21T09:44:40.925291Z",
     "shell.execute_reply": "2021-06-21T09:44:40.924806Z",
     "shell.execute_reply.started": "2021-06-21T09:23:39.562993Z"
    },
    "papermill": {
     "duration": 1.556893,
     "end_time": "2021-06-21T09:44:40.925421",
     "exception": false,
     "start_time": "2021-06-21T09:44:39.368528",
     "status": "completed"
    },
    "tags": []
   },
   "outputs": [
    {
     "name": "stdout",
     "output_type": "stream",
     "text": [
      "0 / 7\n",
      "elapsed time :  1.4784636497497559\n",
      "hidden states :  7\n"
     ]
    }
   ],
   "source": [
    "test_file = '../input/commonlitreadabilityprize/test.csv'\n",
    "data_test =  pd.read_csv(test_file)\n",
    "\n",
    "# tokenisation\n",
    "tokenized_test = data_test.excerpt.str.lower().apply(\n",
    "    (lambda x: tokenizer.encode(x, add_special_tokens=True)))\n",
    "\n",
    "# padding\n",
    "max_len = 0\n",
    "for i in tokenized_test.values:\n",
    "    if len(i) > max_len:\n",
    "        max_len = len(i)\n",
    "\n",
    "# padding : add 0 to reach max number of tokens for all sentences\n",
    "padded_test = np.array([i + [0]*(max_len-len(i)) for i in tokenized_test.values])\n",
    "attention_mask_test = np.where(padded_test != 0, 1, 0)\n",
    "\n",
    "# compute features\n",
    "input_ids = torch.tensor(padded_test)  \n",
    "attention_mask = torch.tensor(attention_mask_test)\n",
    "\n",
    "last_hidden_states_test = []\n",
    "batch_size = 200\n",
    "\n",
    "start = time.time()\n",
    "with torch.no_grad():\n",
    "    for i in range(0, len(input_ids), batch_size):\n",
    "          print('{} / {}'.format(i, len(input_ids)))\n",
    "          ins = input_ids[i:i+batch_size]\n",
    "          atts = attention_mask[i:i+batch_size]\n",
    "          h = model(ins, attention_mask=atts)\n",
    "          last_hidden_states_test.extend(h[0])\n",
    "          \n",
    "print('elapsed time : ', time.time() - start)\n",
    "print('hidden states : ', len(last_hidden_states_test))"
   ]
  },
  {
   "cell_type": "code",
   "execution_count": 13,
   "id": "superb-visibility",
   "metadata": {
    "execution": {
     "iopub.execute_input": "2021-06-21T09:44:40.973648Z",
     "iopub.status.busy": "2021-06-21T09:44:40.972841Z",
     "iopub.status.idle": "2021-06-21T09:44:41.182354Z",
     "shell.execute_reply": "2021-06-21T09:44:41.181681Z",
     "shell.execute_reply.started": "2021-06-21T09:25:47.908576Z"
    },
    "papermill": {
     "duration": 0.236054,
     "end_time": "2021-06-21T09:44:41.182481",
     "exception": false,
     "start_time": "2021-06-21T09:44:40.946427",
     "status": "completed"
    },
    "tags": []
   },
   "outputs": [
    {
     "data": {
      "text/html": [
       "<div>\n",
       "<style scoped>\n",
       "    .dataframe tbody tr th:only-of-type {\n",
       "        vertical-align: middle;\n",
       "    }\n",
       "\n",
       "    .dataframe tbody tr th {\n",
       "        vertical-align: top;\n",
       "    }\n",
       "\n",
       "    .dataframe thead th {\n",
       "        text-align: right;\n",
       "    }\n",
       "</style>\n",
       "<table border=\"1\" class=\"dataframe\">\n",
       "  <thead>\n",
       "    <tr style=\"text-align: right;\">\n",
       "      <th></th>\n",
       "      <th>id</th>\n",
       "      <th>target</th>\n",
       "    </tr>\n",
       "  </thead>\n",
       "  <tbody>\n",
       "    <tr>\n",
       "      <th>0</th>\n",
       "      <td>c0f722661</td>\n",
       "      <td>-0.541981</td>\n",
       "    </tr>\n",
       "    <tr>\n",
       "      <th>1</th>\n",
       "      <td>f0953f0a5</td>\n",
       "      <td>-0.138987</td>\n",
       "    </tr>\n",
       "    <tr>\n",
       "      <th>2</th>\n",
       "      <td>0df072751</td>\n",
       "      <td>-0.295582</td>\n",
       "    </tr>\n",
       "    <tr>\n",
       "      <th>3</th>\n",
       "      <td>04caf4e0c</td>\n",
       "      <td>-2.707238</td>\n",
       "    </tr>\n",
       "    <tr>\n",
       "      <th>4</th>\n",
       "      <td>0e63f8bea</td>\n",
       "      <td>-1.772194</td>\n",
       "    </tr>\n",
       "    <tr>\n",
       "      <th>5</th>\n",
       "      <td>12537fe78</td>\n",
       "      <td>-1.036480</td>\n",
       "    </tr>\n",
       "    <tr>\n",
       "      <th>6</th>\n",
       "      <td>965e592c0</td>\n",
       "      <td>-0.370308</td>\n",
       "    </tr>\n",
       "  </tbody>\n",
       "</table>\n",
       "</div>"
      ],
      "text/plain": [
       "          id    target\n",
       "0  c0f722661 -0.541981\n",
       "1  f0953f0a5 -0.138987\n",
       "2  0df072751 -0.295582\n",
       "3  04caf4e0c -2.707238\n",
       "4  0e63f8bea -1.772194\n",
       "5  12537fe78 -1.036480\n",
       "6  965e592c0 -0.370308"
      ]
     },
     "execution_count": 13,
     "metadata": {},
     "output_type": "execute_result"
    }
   ],
   "source": [
    "# test features\n",
    "X_test = []\n",
    "for i in range(len(last_hidden_states_test)):\n",
    "    sent = last_hidden_states_test[i]\n",
    "    first_hidden = sent[0]\n",
    "    X_test.append(first_hidden.numpy())\n",
    "X_test = np.array(X_test)\n",
    "\n",
    "# prediction\n",
    "y_test = kr_model.predict(X_test)\n",
    "\n",
    "# submission file\n",
    "submission_df = pd.DataFrame({'id': data_test.id, 'target': 0})\n",
    "submission_df.target = y_test\n",
    "\n",
    "submission_file = 'submission.csv'\n",
    "submission_df.to_csv(submission_file, index=False)\n",
    "\n",
    "submission_df"
   ]
  },
  {
   "cell_type": "code",
   "execution_count": null,
   "id": "included-water",
   "metadata": {
    "papermill": {
     "duration": 0.021146,
     "end_time": "2021-06-21T09:44:41.225395",
     "exception": false,
     "start_time": "2021-06-21T09:44:41.204249",
     "status": "completed"
    },
    "tags": []
   },
   "outputs": [],
   "source": []
  }
 ],
 "metadata": {
  "kernelspec": {
   "display_name": "Python 3",
   "language": "python",
   "name": "python3"
  },
  "language_info": {
   "codemirror_mode": {
    "name": "ipython",
    "version": 3
   },
   "file_extension": ".py",
   "mimetype": "text/x-python",
   "name": "python",
   "nbconvert_exporter": "python",
   "pygments_lexer": "ipython3",
   "version": "3.7.9"
  },
  "papermill": {
   "default_parameters": {},
   "duration": 1089.33956,
   "end_time": "2021-06-21T09:44:42.256217",
   "environment_variables": {},
   "exception": null,
   "input_path": "__notebook__.ipynb",
   "output_path": "__notebook__.ipynb",
   "parameters": {},
   "start_time": "2021-06-21T09:26:32.916657",
   "version": "2.3.2"
  }
 },
 "nbformat": 4,
 "nbformat_minor": 5
}
