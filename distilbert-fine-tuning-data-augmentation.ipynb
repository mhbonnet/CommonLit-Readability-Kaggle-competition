{
 "cells": [
  {
   "cell_type": "markdown",
   "id": "commercial-overview",
   "metadata": {
    "papermill": {
     "duration": 0.025346,
     "end_time": "2021-06-30T10:12:12.220847",
     "exception": false,
     "start_time": "2021-06-30T10:12:12.195501",
     "status": "completed"
    },
    "tags": []
   },
   "source": [
    "# CommonLit Readability - DistilBERT fine tuning and data augmentation\n",
    "This notebook is using DistilBert fine tuning for the CommonLit readability competition, with kfold validation.\n",
    "\n",
    "Most of the code comes from S Canisir's notebooks : https://www.kaggle.com/snnclsr/commonlit-pytorch-distilbert-training  \n",
    "With the help of V Baskaran's work as well : https://www.kaggle.com/vigneshbaskaran/commonlit-easy-transformer-finetuner  \n",
    "\n",
    "My first attempts concentrated on using DistilBERT with some linear and dropout layers, not freezing any parameter. The global model was then built with around 66 millions parameters to update. With the small number of data available, it turned out to overfit a lot, even with the dropout layer : loss curve decreasing a lot on training set but not on validation set.   \n",
    "  \n",
    "I tried to freeze the 66 million parameters of the DistilBERT model (see Model class), to make it possible to train the model with the amount of data provided.    \n",
    "  \n",
    "I also tried to generate data augmentation on the texts (see parameter in CFG class).   \n",
    "Be aware that it takes a long time to generate the augmented data, that's why I only augmented 10% of the data at each epoch.   \n",
    "Note : to use NLPaug library offline, one should import it as a dataset.\n"
   ]
  },
  {
   "cell_type": "markdown",
   "id": "wrapped-species",
   "metadata": {
    "papermill": {
     "duration": 0.023773,
     "end_time": "2021-06-30T10:12:12.269062",
     "exception": false,
     "start_time": "2021-06-30T10:12:12.245289",
     "status": "completed"
    },
    "tags": []
   },
   "source": [
    "# Imports"
   ]
  },
  {
   "cell_type": "code",
   "execution_count": 1,
   "id": "addressed-rebecca",
   "metadata": {
    "execution": {
     "iopub.execute_input": "2021-06-30T10:12:12.322675Z",
     "iopub.status.busy": "2021-06-30T10:12:12.321092Z",
     "iopub.status.idle": "2021-06-30T10:12:28.638730Z",
     "shell.execute_reply": "2021-06-30T10:12:28.638098Z",
     "shell.execute_reply.started": "2021-06-30T10:06:05.806820Z"
    },
    "papermill": {
     "duration": 16.345589,
     "end_time": "2021-06-30T10:12:28.638890",
     "exception": false,
     "start_time": "2021-06-30T10:12:12.293301",
     "status": "completed"
    },
    "tags": []
   },
   "outputs": [
    {
     "name": "stdout",
     "output_type": "stream",
     "text": [
      "Looking in links: /kaggle/working/\r\n",
      "Processing ./nlpaug-1.1.4-py3-none-any.whl\r\n",
      "Installing collected packages: nlpaug\r\n",
      "Successfully installed nlpaug-1.1.4\r\n"
     ]
    }
   ],
   "source": [
    "import os\n",
    "import time\n",
    "import math\n",
    "import gc\n",
    "import random\n",
    "import numpy as np\n",
    "import pandas as pd\n",
    "import matplotlib.pyplot as plt\n",
    "import seaborn as sns\n",
    "\n",
    "import torch\n",
    "import torch.nn as nn\n",
    "import torch.optim as optim\n",
    "import torch.nn.functional as F\n",
    "from torch.utils.data import Dataset\n",
    "from torch.utils.data import DataLoader\n",
    "\n",
    "from sklearn.model_selection import KFold\n",
    "from sklearn import metrics\n",
    "\n",
    "from transformers import DistilBertTokenizer\n",
    "from transformers import DistilBertModel\n",
    "\n",
    "from logging import getLogger\n",
    "from logging import INFO\n",
    "from logging import FileHandler\n",
    "from logging import Formatter\n",
    "from logging import StreamHandler\n",
    "from pathlib import Path\n",
    "\n",
    "# text augmentation library\n",
    "!cp ../input/nlpaug-114/nlpaug-1.1.4-py3-none-any.whl /kaggle/working/\n",
    "!pip install --no-index --find-links /kaggle/working/ nlpaug\n",
    "import nlpaug.augmenter.word as naw\n",
    "import nlpaug.augmenter.sentence as nas"
   ]
  },
  {
   "cell_type": "code",
   "execution_count": 2,
   "id": "disciplinary-ending",
   "metadata": {
    "execution": {
     "iopub.execute_input": "2021-06-30T10:12:28.882317Z",
     "iopub.status.busy": "2021-06-30T10:12:28.881619Z",
     "iopub.status.idle": "2021-06-30T10:12:28.884753Z",
     "shell.execute_reply": "2021-06-30T10:12:28.884341Z",
     "shell.execute_reply.started": "2021-06-30T10:06:24.817265Z"
    },
    "papermill": {
     "duration": 0.220418,
     "end_time": "2021-06-30T10:12:28.884870",
     "exception": false,
     "start_time": "2021-06-30T10:12:28.664452",
     "status": "completed"
    },
    "tags": []
   },
   "outputs": [],
   "source": [
    "# clean memory\n",
    "gc.collect()\n",
    "torch.cuda.empty_cache()"
   ]
  },
  {
   "cell_type": "code",
   "execution_count": 3,
   "id": "threatened-elite",
   "metadata": {
    "execution": {
     "iopub.execute_input": "2021-06-30T10:12:28.989231Z",
     "iopub.status.busy": "2021-06-30T10:12:28.988390Z",
     "iopub.status.idle": "2021-06-30T10:12:28.992291Z",
     "shell.execute_reply": "2021-06-30T10:12:28.992654Z",
     "shell.execute_reply.started": "2021-06-30T10:06:25.083882Z"
    },
    "papermill": {
     "duration": 0.082716,
     "end_time": "2021-06-30T10:12:28.992793",
     "exception": false,
     "start_time": "2021-06-30T10:12:28.910077",
     "status": "completed"
    },
    "tags": []
   },
   "outputs": [
    {
     "data": {
      "text/plain": [
       "device(type='cuda')"
      ]
     },
     "execution_count": 3,
     "metadata": {},
     "output_type": "execute_result"
    }
   ],
   "source": [
    "device = torch.device(\"cuda\" if torch.cuda.is_available() else \"cpu\")\n",
    "device"
   ]
  },
  {
   "cell_type": "markdown",
   "id": "structural-kernel",
   "metadata": {
    "papermill": {
     "duration": 0.025176,
     "end_time": "2021-06-30T10:12:29.043403",
     "exception": false,
     "start_time": "2021-06-30T10:12:29.018227",
     "status": "completed"
    },
    "tags": []
   },
   "source": [
    "# Data Loading"
   ]
  },
  {
   "cell_type": "code",
   "execution_count": 4,
   "id": "nonprofit-competition",
   "metadata": {
    "execution": {
     "iopub.execute_input": "2021-06-30T10:12:29.105807Z",
     "iopub.status.busy": "2021-06-30T10:12:29.098498Z",
     "iopub.status.idle": "2021-06-30T10:12:29.740069Z",
     "shell.execute_reply": "2021-06-30T10:12:29.739555Z",
     "shell.execute_reply.started": "2021-06-30T10:06:27.338084Z"
    },
    "papermill": {
     "duration": 0.671537,
     "end_time": "2021-06-30T10:12:29.740222",
     "exception": false,
     "start_time": "2021-06-30T10:12:29.068685",
     "status": "completed"
    },
    "tags": []
   },
   "outputs": [
    {
     "name": "stdout",
     "output_type": "stream",
     "text": [
      "sample_submission.csv  test.csv  train.csv\r\n"
     ]
    }
   ],
   "source": [
    "OUTPUT_DIR = \"./\"\n",
    "BASE_DATA_PATH = Path(\"../input/commonlitreadabilityprize/\")\n",
    "\n",
    "!ls {BASE_DATA_PATH}"
   ]
  },
  {
   "cell_type": "code",
   "execution_count": 5,
   "id": "valuable-setting",
   "metadata": {
    "execution": {
     "iopub.execute_input": "2021-06-30T10:12:29.805161Z",
     "iopub.status.busy": "2021-06-30T10:12:29.804623Z",
     "iopub.status.idle": "2021-06-30T10:12:30.742416Z",
     "shell.execute_reply": "2021-06-30T10:12:30.742807Z",
     "shell.execute_reply.started": "2021-06-30T10:06:28.146514Z"
    },
    "papermill": {
     "duration": 0.975812,
     "end_time": "2021-06-30T10:12:30.742967",
     "exception": false,
     "start_time": "2021-06-30T10:12:29.767155",
     "status": "completed"
    },
    "tags": []
   },
   "outputs": [
    {
     "data": {
      "text/html": [
       "<div>\n",
       "<style scoped>\n",
       "    .dataframe tbody tr th:only-of-type {\n",
       "        vertical-align: middle;\n",
       "    }\n",
       "\n",
       "    .dataframe tbody tr th {\n",
       "        vertical-align: top;\n",
       "    }\n",
       "\n",
       "    .dataframe thead th {\n",
       "        text-align: right;\n",
       "    }\n",
       "</style>\n",
       "<table border=\"1\" class=\"dataframe\">\n",
       "  <thead>\n",
       "    <tr style=\"text-align: right;\">\n",
       "      <th></th>\n",
       "      <th>id</th>\n",
       "      <th>url_legal</th>\n",
       "      <th>license</th>\n",
       "      <th>excerpt</th>\n",
       "      <th>target</th>\n",
       "      <th>standard_error</th>\n",
       "    </tr>\n",
       "  </thead>\n",
       "  <tbody>\n",
       "    <tr>\n",
       "      <th>0</th>\n",
       "      <td>c12129c31</td>\n",
       "      <td>NaN</td>\n",
       "      <td>NaN</td>\n",
       "      <td>When the young people returned to the ballroom...</td>\n",
       "      <td>-0.340259</td>\n",
       "      <td>0.464009</td>\n",
       "    </tr>\n",
       "    <tr>\n",
       "      <th>1</th>\n",
       "      <td>85aa80a4c</td>\n",
       "      <td>NaN</td>\n",
       "      <td>NaN</td>\n",
       "      <td>All through dinner time, Mrs. Fayre was somewh...</td>\n",
       "      <td>-0.315372</td>\n",
       "      <td>0.480805</td>\n",
       "    </tr>\n",
       "    <tr>\n",
       "      <th>2</th>\n",
       "      <td>b69ac6792</td>\n",
       "      <td>NaN</td>\n",
       "      <td>NaN</td>\n",
       "      <td>As Roger had predicted, the snow departed as q...</td>\n",
       "      <td>-0.580118</td>\n",
       "      <td>0.476676</td>\n",
       "    </tr>\n",
       "  </tbody>\n",
       "</table>\n",
       "</div>"
      ],
      "text/plain": [
       "          id url_legal license  \\\n",
       "0  c12129c31       NaN     NaN   \n",
       "1  85aa80a4c       NaN     NaN   \n",
       "2  b69ac6792       NaN     NaN   \n",
       "\n",
       "                                             excerpt    target  standard_error  \n",
       "0  When the young people returned to the ballroom... -0.340259        0.464009  \n",
       "1  All through dinner time, Mrs. Fayre was somewh... -0.315372        0.480805  \n",
       "2  As Roger had predicted, the snow departed as q... -0.580118        0.476676  "
      ]
     },
     "metadata": {},
     "output_type": "display_data"
    },
    {
     "data": {
      "image/png": "[encoded data removed]",
      "text/plain": [
       "<Figure size 1080x360 with 2 Axes>"
      ]
     },
     "metadata": {
      "needs_background": "light"
     },
     "output_type": "display_data"
    }
   ],
   "source": [
    "df_train = pd.read_csv(BASE_DATA_PATH / \"train.csv\")\n",
    "display(df_train.head(3))\n",
    "\n",
    "# explore excerpt\n",
    "df_train['nb_words'] = df_train.excerpt.apply(lambda x: len(x.split()))\n",
    "df_train['nb_chars'] = df_train.excerpt.apply(lambda x: len(x))\n",
    "\n",
    "# plot histograms\n",
    "fix, ax = plt.subplots(1, 2, figsize=(15, 5))\n",
    "sns.histplot(data=df_train, x=\"nb_chars\", bins=100, ax=ax[0],\n",
    "             color='orange', edgecolor=None, stat='density')\n",
    "sns.kdeplot(data=df_train, x=\"nb_chars\", color='red', ax=ax[0])\n",
    "ax[0].axvline(np.median(df_train.nb_chars), 0, np.max(df_train.nb_chars))\n",
    "ax[0].set_title('Text length', fontsize=10)\n",
    "\n",
    "sns.histplot(data=df_train, x=\"nb_words\", bins=100, ax=ax[1],\n",
    "             color='salmon', edgecolor=None, stat='density')\n",
    "sns.kdeplot(data=df_train, x=\"nb_words\", color='red', ax=ax[1])\n",
    "ax[1].axvline(np.median(df_train.nb_words), 0, np.max(df_train.nb_words))\n",
    "ax[1].set_title('Number of words', fontsize=10)\n",
    "\n",
    "plt.show()"
   ]
  },
  {
   "cell_type": "code",
   "execution_count": 6,
   "id": "shaped-neighbor",
   "metadata": {
    "execution": {
     "iopub.execute_input": "2021-06-30T10:12:30.850057Z",
     "iopub.status.busy": "2021-06-30T10:12:30.845704Z",
     "iopub.status.idle": "2021-06-30T10:12:31.246483Z",
     "shell.execute_reply": "2021-06-30T10:12:31.246032Z",
     "shell.execute_reply.started": "2021-06-30T10:06:29.255892Z"
    },
    "papermill": {
     "duration": 0.47556,
     "end_time": "2021-06-30T10:12:31.246611",
     "exception": false,
     "start_time": "2021-06-30T10:12:30.771051",
     "status": "completed"
    },
    "tags": []
   },
   "outputs": [
    {
     "name": "stdout",
     "output_type": "stream",
     "text": [
      "Values of the target : -3.676267773 -> 1.7113898269999999\n"
     ]
    },
    {
     "data": {
      "image/png": "[encoded data removed]",
      "text/plain": [
       "<Figure size 864x360 with 2 Axes>"
      ]
     },
     "metadata": {
      "needs_background": "light"
     },
     "output_type": "display_data"
    }
   ],
   "source": [
    "# target labels\n",
    "labels = df_train['target']\n",
    "print(\"Values of the target : {} -> {}\".format(labels.min(), labels.max()))\n",
    "\n",
    "fig, ax = plt.subplots(1, 2, figsize=(12, 5))\n",
    "sns.histplot(data=df_train, x=\"target\", bins=100, ax=ax[0],\n",
    "             color='lightgreen', edgecolor=None, stat='density')\n",
    "sns.kdeplot(data=df_train, x=\"target\", ax=ax[0], color='forestgreen')\n",
    "ax[0].axvline(np.median(df_train.target), 0, np.max(df_train.target))\n",
    "ax[0].set_title('Targets histogram', fontsize=10)\n",
    "\n",
    "sns.boxplot(x=df_train[\"target\"], ax=ax[1], color='lightgreen')\n",
    "ax[1].set_title('Targets boxplot', fontsize=10)\n",
    "plt.show()"
   ]
  },
  {
   "cell_type": "markdown",
   "id": "inner-composite",
   "metadata": {
    "papermill": {
     "duration": 0.028998,
     "end_time": "2021-06-30T10:12:31.304258",
     "exception": false,
     "start_time": "2021-06-30T10:12:31.275260",
     "status": "completed"
    },
    "tags": []
   },
   "source": [
    "# Utils"
   ]
  },
  {
   "cell_type": "code",
   "execution_count": 7,
   "id": "binary-municipality",
   "metadata": {
    "execution": {
     "iopub.execute_input": "2021-06-30T10:12:31.381103Z",
     "iopub.status.busy": "2021-06-30T10:12:31.375709Z",
     "iopub.status.idle": "2021-06-30T10:12:31.383574Z",
     "shell.execute_reply": "2021-06-30T10:12:31.383120Z",
     "shell.execute_reply.started": "2021-06-30T10:06:30.143921Z"
    },
    "papermill": {
     "duration": 0.050723,
     "end_time": "2021-06-30T10:12:31.383686",
     "exception": false,
     "start_time": "2021-06-30T10:12:31.332963",
     "status": "completed"
    },
    "tags": []
   },
   "outputs": [],
   "source": [
    "class AverageMeter(object):\n",
    "    \"\"\"Computes and stores the average and current value\n",
    "    of a given object:\n",
    "    val is the current value\n",
    "    sum is the total sum of all increments\n",
    "    count is the number of increments\n",
    "    avg is the mean increment\"\"\"\n",
    "\n",
    "    def __init__(self):\n",
    "        self.reset()\n",
    "\n",
    "    def reset(self):\n",
    "        self.cur_val = 0\n",
    "        self.avg = 0\n",
    "        self.sum = 0\n",
    "        self.count = 0\n",
    "\n",
    "    def update(self, val, n=1):\n",
    "        self.cur_val = val\n",
    "        self.sum += val * n\n",
    "        self.count += n\n",
    "        self.avg = self.sum / self.count\n",
    "\n",
    "\n",
    "class Metric:\n",
    "    \"\"\"sums the squared residuals (target - excepted) for a period (epoch)\n",
    "    and returns the rmse for the whole epoch data\"\"\"\n",
    "\n",
    "    def __init__(self):\n",
    "        self.sse = 0\n",
    "        self.num_samples = 0\n",
    "\n",
    "    def update(self, targets, predictions):\n",
    "        predictions = flatten(predictions)\n",
    "        self.sse += np.sum(np.square(targets - predictions))\n",
    "        self.num_samples += len(targets)\n",
    "\n",
    "    def get_rmse(self):\n",
    "        rmse = np.sqrt(self.sse / self.num_samples)\n",
    "        return rmse\n",
    "\n",
    "\n",
    "def flatten(array):\n",
    "    \"\"\"takes an output array and flatten it\n",
    "    returns a list\"\"\"\n",
    "\n",
    "    my_list = []\n",
    "    for i in range(len(array)):\n",
    "        my_list.append(array[i][0])\n",
    "    return np.array(my_list)\n",
    "\n",
    "\n",
    "def asMinutes(s):\n",
    "    \"\"\"converts seconds to minutes\"\"\"\n",
    "\n",
    "    m = math.floor(s / 60)\n",
    "    s -= m * 60\n",
    "    return '%dm %ds' % (m, s)\n",
    "\n",
    "\n",
    "def timeSince(since, percent):\n",
    "    \"\"\"returns the time elapsed from the 'since' point\n",
    "    and an estimation of the remaining time\n",
    "    percent : current % of progress compared to total length\"\"\"\n",
    "\n",
    "    now = time.time()\n",
    "    elapsed = now - since\n",
    "    estimated = elapsed / (percent)\n",
    "    remaining = estimated - elapsed\n",
    "    return '%s (remain %s)' % (asMinutes(elapsed), asMinutes(remaining))\n",
    "\n",
    "\n",
    "def init_logger(log_file=OUTPUT_DIR+'train.log'):\n",
    "    \"\"\"initiate logger\"\"\"\n",
    "    logger = getLogger(__name__)\n",
    "    logger.setLevel(INFO)\n",
    "\n",
    "    handler1 = StreamHandler()\n",
    "    handler1.setFormatter(Formatter(\"%(message)s\"))\n",
    "    handler2 = FileHandler(filename=log_file)\n",
    "    handler2.setFormatter(Formatter(\"%(message)s\"))\n",
    "\n",
    "    logger.handlers.clear()\n",
    "    logger.addHandler(handler1)\n",
    "    logger.addHandler(handler2)\n",
    "\n",
    "    return logger\n",
    "\n",
    "\n",
    "def seed_torch(seed=42):\n",
    "    random.seed(seed)\n",
    "    os.environ['PYTHONHASHSEED'] = str(seed)\n",
    "    np.random.seed(seed)\n",
    "    torch.manual_seed(seed)\n",
    "    torch.cuda.manual_seed(seed)\n",
    "    torch.backends.cudnn.deterministic = True\n",
    "\n",
    "\n",
    "def get_scheduler(optimizer):\n",
    "    \"\"\"instanciate a scheduler to update learning rate\"\"\"\n",
    "    if CFG.scheduler == 'CosineAnnealingLR':\n",
    "        scheduler = optim.lr_scheduler.CosineAnnealingLR(optimizer,\n",
    "                                                         T_max=CFG.T_max,\n",
    "                                                         eta_min=CFG.min_lr,\n",
    "                                                         last_epoch=-1)\n",
    "    if CFG.scheduler == 'StepLR':\n",
    "        scheduler = optim.lr_scheduler.StepLR(optimizer,\n",
    "                                              step_size=30,\n",
    "                                              gamma=0.1)\n",
    "    return scheduler\n",
    "\n",
    "\n",
    "def get_optimizer(model):\n",
    "    \"\"\"instanciate an optimizer\n",
    "    weight_decay is for L2 regularization\"\"\"\n",
    "    if CFG.optimizer == 'Adam':\n",
    "        optimizer = optim.Adam(model.parameters(), lr=CFG.lr,\n",
    "                               weight_decay=CFG.weight_decay)\n",
    "    if CFG.optimizer == 'RMSprop':\n",
    "        optimizer = optim.RMSprop(model.parameters(), lr=CFG.lr,\n",
    "                                  weight_decay=CFG.weight_decay)\n",
    "    if CFG.optimizer == 'SGD':\n",
    "        optimizer = optim.SGD(model.parameters(), lr=CFG.lr,\n",
    "                              weight_decay=CFG.weight_decay)\n",
    "    return optimizer"
   ]
  },
  {
   "cell_type": "markdown",
   "id": "plain-comparison",
   "metadata": {
    "papermill": {
     "duration": 0.028395,
     "end_time": "2021-06-30T10:12:31.440637",
     "exception": false,
     "start_time": "2021-06-30T10:12:31.412242",
     "status": "completed"
    },
    "tags": []
   },
   "source": [
    "# Configuration"
   ]
  },
  {
   "cell_type": "code",
   "execution_count": 8,
   "id": "advance-supervision",
   "metadata": {
    "execution": {
     "iopub.execute_input": "2021-06-30T10:12:31.504605Z",
     "iopub.status.busy": "2021-06-30T10:12:31.503318Z",
     "iopub.status.idle": "2021-06-30T10:12:31.505715Z",
     "shell.execute_reply": "2021-06-30T10:12:31.506127Z",
     "shell.execute_reply.started": "2021-06-30T10:06:31.303303Z"
    },
    "papermill": {
     "duration": 0.036505,
     "end_time": "2021-06-30T10:12:31.506273",
     "exception": false,
     "start_time": "2021-06-30T10:12:31.469768",
     "status": "completed"
    },
    "tags": []
   },
   "outputs": [],
   "source": [
    "class CFG:\n",
    "    model_name = \"distilbert-base-uncased\"\n",
    "    model_path = \"../input/distilbertbaseuncased\"\n",
    "    max_length = 256\n",
    "    dropout_p = 0.4\n",
    "    batch_size = 32\n",
    "    n_epochs = 10\n",
    "    weight_decay = 1e-6\n",
    "    lr = 3e-4\n",
    "    min_lr = 1e-6\n",
    "    scheduler = \"CosineAnnealingLR\"\n",
    "    optimizer = \"Adam\"\n",
    "    T_max = 10\n",
    "    seed = 28\n",
    "    n_folds = 5\n",
    "    print_freq = 50\n",
    "    num_workers = 4\n",
    "    augment_text = False\n",
    "    augment_ratio = 0.1"
   ]
  },
  {
   "cell_type": "markdown",
   "id": "parliamentary-maine",
   "metadata": {
    "papermill": {
     "duration": 0.0281,
     "end_time": "2021-06-30T10:12:31.562808",
     "exception": false,
     "start_time": "2021-06-30T10:12:31.534708",
     "status": "completed"
    },
    "tags": []
   },
   "source": [
    "\n",
    "# Dataset"
   ]
  },
  {
   "cell_type": "code",
   "execution_count": 9,
   "id": "ahead-agriculture",
   "metadata": {
    "execution": {
     "iopub.execute_input": "2021-06-30T10:12:31.632054Z",
     "iopub.status.busy": "2021-06-30T10:12:31.631414Z",
     "iopub.status.idle": "2021-06-30T10:12:31.634629Z",
     "shell.execute_reply": "2021-06-30T10:12:31.634213Z",
     "shell.execute_reply.started": "2021-06-30T10:06:32.305588Z"
    },
    "papermill": {
     "duration": 0.043359,
     "end_time": "2021-06-30T10:12:31.634740",
     "exception": false,
     "start_time": "2021-06-30T10:12:31.591381",
     "status": "completed"
    },
    "tags": []
   },
   "outputs": [],
   "source": [
    "def augment_sentences(text, action='switch'):\n",
    "    \"\"\"switches or deletes randomly sentences in the text\n",
    "    warning : looses the different ponctuations (only dots)\"\"\"\n",
    "    list_replace = ['.', '!', '?', '...']\n",
    "    sep = '.'\n",
    "    for char in list_replace:\n",
    "        text = text.replace(char, sep)\n",
    "    sentences = text.split(sep)\n",
    "    sentences = [x for x in sentences if x]  # cleans empty sentences\n",
    "    nb_sentences = len(sentences)\n",
    "\n",
    "    if (action == 'switch') & (nb_sentences > 1):\n",
    "        sents = random.sample(range(nb_sentences), 2)\n",
    "        s0 = sentences[sents[0]]\n",
    "        s1 = sentences[sents[1]]\n",
    "        sentences[sents[0]] = s1\n",
    "        sentences[sents[1]] = s0\n",
    "        augmented_text = '. '.join(sentences)\n",
    "        del(s0, s1)\n",
    "        return augmented_text + '.'\n",
    "    elif (action == 'delete') & (nb_sentences > 0):\n",
    "        sents = random.sample(range(nb_sentences), 1)\n",
    "        del sentences[sents[0]]\n",
    "        augmented_text = '. '.join(sentences)\n",
    "        return augmented_text + '.'\n",
    "    else:\n",
    "        return text\n",
    "\n",
    "\n",
    "def augment_words(text, action='delete'):\n",
    "    \"\"\"words random augmentations\n",
    "    uses NLPAug library:\n",
    "    with ‘swap’, ‘delete’ or ‘crop’ actions\n",
    "    insertion with distilbert model \"\"\"\n",
    "    augmented_text = ''\n",
    "    if action in ['delete', 'crop', 'swap']:\n",
    "        aug = naw.RandomWordAug(action=action, aug_p=0.3,\n",
    "                                aug_min=5, aug_max=50)\n",
    "    elif action in ['insert']:\n",
    "        aug = naw.ContextualWordEmbsAug(model_path=CFG.model_path,\n",
    "                                        action=action)\n",
    "\n",
    "    augmented_text = aug.augment(text)\n",
    "    return augmented_text\n",
    "\n",
    "\n",
    "def apply_augment(text):\n",
    "    \"\"\"randomly applies 1 augmentation on sentence level\n",
    "    and 1 augmentation on word level\"\"\"\n",
    "\n",
    "    list_aug_sentence = ['switch', 'delete']\n",
    "    list_aug_word = ['delete', 'crop', 'swap', 'insert']\n",
    "\n",
    "    # pick randomly 2 transformations\n",
    "    trans_s = random.sample(range(len(list_aug_sentence)), 1)[0]\n",
    "    trans_w = random.sample(range(len(list_aug_word)), 1)[0]\n",
    "\n",
    "    aug_text = augment_sentences(text, action=list_aug_sentence[trans_s])\n",
    "    aug_text = augment_words(aug_text, action=list_aug_word[trans_w])\n",
    "    return aug_text"
   ]
  },
  {
   "cell_type": "code",
   "execution_count": 10,
   "id": "expected-staff",
   "metadata": {
    "execution": {
     "iopub.execute_input": "2021-06-30T10:12:31.697513Z",
     "iopub.status.busy": "2021-06-30T10:12:31.696829Z",
     "iopub.status.idle": "2021-06-30T10:12:31.700502Z",
     "shell.execute_reply": "2021-06-30T10:12:31.700054Z",
     "shell.execute_reply.started": "2021-06-30T10:06:32.840149Z"
    },
    "papermill": {
     "duration": 0.037779,
     "end_time": "2021-06-30T10:12:31.700609",
     "exception": false,
     "start_time": "2021-06-30T10:12:31.662830",
     "status": "completed"
    },
    "tags": []
   },
   "outputs": [],
   "source": [
    "class CommonLitDataset(Dataset):\n",
    "\n",
    "    def __init__(self, df, tokenizer, max_length):\n",
    "        self.df = df\n",
    "        self.tokenizer = tokenizer\n",
    "        self.max_length = max_length\n",
    "\n",
    "    def __len__(self):\n",
    "        return len(self.df)\n",
    "\n",
    "    def __getitem__(self, idx):\n",
    "        row = self.df.iloc[idx]\n",
    "        tokenized_input = self.tokenizer(row.excerpt, return_tensors=\"pt\",\n",
    "                                         max_length=self.max_length,\n",
    "                                         padding=\"max_length\", truncation=True)\n",
    "\n",
    "        return {\n",
    "                \"ids\": tokenized_input[\"input_ids\"][0],\n",
    "                \"masks\": tokenized_input[\"attention_mask\"][0],\n",
    "                \"targets\": torch.tensor(row.target).float()\n",
    "        }"
   ]
  },
  {
   "cell_type": "markdown",
   "id": "stable-moment",
   "metadata": {
    "papermill": {
     "duration": 0.02845,
     "end_time": "2021-06-30T10:12:31.757068",
     "exception": false,
     "start_time": "2021-06-30T10:12:31.728618",
     "status": "completed"
    },
    "tags": []
   },
   "source": [
    "# Model"
   ]
  },
  {
   "cell_type": "code",
   "execution_count": 11,
   "id": "metropolitan-henry",
   "metadata": {
    "execution": {
     "iopub.execute_input": "2021-06-30T10:12:31.826246Z",
     "iopub.status.busy": "2021-06-30T10:12:31.824704Z",
     "iopub.status.idle": "2021-06-30T10:12:31.826970Z",
     "shell.execute_reply": "2021-06-30T10:12:31.827480Z",
     "shell.execute_reply.started": "2021-06-30T10:06:33.848952Z"
    },
    "papermill": {
     "duration": 0.042438,
     "end_time": "2021-06-30T10:12:31.827606",
     "exception": false,
     "start_time": "2021-06-30T10:12:31.785168",
     "status": "completed"
    },
    "tags": []
   },
   "outputs": [],
   "source": [
    "class TextRegressionModel(nn.Module):\n",
    "\n",
    "    def __init__(self, model_name, dropout_p=0.3):\n",
    "        super(TextRegressionModel, self).__init__()\n",
    "\n",
    "        # load DistilBERT model\n",
    "        self.model = DistilBertModel.from_pretrained(CFG.model_path)\n",
    "        # and freeze its parameters if wanted\n",
    "        # for param in self.model.parameters():\n",
    "        # param.requires_grad = False\n",
    "\n",
    "        # define other layers\n",
    "        self.features = nn.Linear(768, 200)\n",
    "        self.dropout = nn.Dropout(dropout_p)\n",
    "        self.regressor = nn.Linear(200, 1)\n",
    "        self.list_layers = [self.model, self.features,\n",
    "                            self.dropout, self.regressor]\n",
    "        self.list_layers_names = ['DistilBERT', 'Features',\n",
    "                                  'Dropout', 'Regressor']\n",
    "\n",
    "    def forward(self, input_ids, attention_mask):\n",
    "        output = self.model(input_ids=input_ids,\n",
    "                            attention_mask=attention_mask)\n",
    "        output = output.last_hidden_state[:, 0]\n",
    "        output = F.relu(self.features(output))\n",
    "        output = self.dropout(output)\n",
    "        output = self.regressor(output)\n",
    "        return output\n",
    "\n",
    "    def count_parameters(self):\n",
    "        \"\"\"counts number of trainable parameters\"\"\"\n",
    "        total = 0\n",
    "        for layer in self.list_layers:\n",
    "            total += sum(p.numel() for p in layer.parameters()\n",
    "                         if p.requires_grad)\n",
    "        return total\n",
    "\n",
    "    def details_parameters(self):\n",
    "        \"\"\"details the number of trainable parameters by layer\"\"\"\n",
    "\n",
    "        for i in range(len(self.list_layers)):\n",
    "            layer = self.list_layers[i]\n",
    "            table = pd.DataFrame(columns=['module', 'parameters'])\n",
    "            for name, parameter in layer.named_parameters():\n",
    "                if not parameter.requires_grad:\n",
    "                    continue\n",
    "                param = parameter.numel()\n",
    "                new_line = {'module': name, 'parameters': param}\n",
    "                table.loc[len(table)] = new_line\n",
    "            print(self.list_layers_names[i], 'layer :')\n",
    "            display(table)"
   ]
  },
  {
   "cell_type": "markdown",
   "id": "under-calendar",
   "metadata": {
    "papermill": {
     "duration": 0.028013,
     "end_time": "2021-06-30T10:12:31.883736",
     "exception": false,
     "start_time": "2021-06-30T10:12:31.855723",
     "status": "completed"
    },
    "tags": []
   },
   "source": [
    "# Train and eval Functions"
   ]
  },
  {
   "cell_type": "code",
   "execution_count": 12,
   "id": "incident-caribbean",
   "metadata": {
    "execution": {
     "iopub.execute_input": "2021-06-30T10:12:31.957463Z",
     "iopub.status.busy": "2021-06-30T10:12:31.956534Z",
     "iopub.status.idle": "2021-06-30T10:12:31.959117Z",
     "shell.execute_reply": "2021-06-30T10:12:31.958601Z",
     "shell.execute_reply.started": "2021-06-30T10:06:34.824969Z"
    },
    "papermill": {
     "duration": 0.047163,
     "end_time": "2021-06-30T10:12:31.959245",
     "exception": false,
     "start_time": "2021-06-30T10:12:31.912082",
     "status": "completed"
    },
    "tags": []
   },
   "outputs": [],
   "source": [
    "def train_step(model, criterion, optimizer, data_loader, epoch, device=device):\n",
    "\n",
    "    batch_time = AverageMeter()\n",
    "    data_time = AverageMeter()\n",
    "    train_loss = AverageMeter()\n",
    "    metric = Metric()\n",
    "    model.train()\n",
    "\n",
    "    start = end = time.time()\n",
    "\n",
    "    for step, batch in enumerate(data_loader):\n",
    "        # update data loading time\n",
    "        data_time.update(time.time() - end)\n",
    "\n",
    "        # get data for the current batch\n",
    "        input_ids = batch[\"ids\"].to(device)\n",
    "        attention_masks = batch[\"masks\"].to(device)\n",
    "        targets = batch[\"targets\"].to(device)\n",
    "        bs = input_ids.size(0)\n",
    "\n",
    "        # compute output and loss\n",
    "        output = model(input_ids, attention_masks)\n",
    "        loss = criterion(output.squeeze(1), targets)\n",
    "        train_loss.update(loss.item(), bs)\n",
    "        # loss.item() is the avg of mse over the batch\n",
    "        loss.backward()\n",
    "\n",
    "        m_targets = targets.detach().cpu().numpy()\n",
    "        m_predictions = output.detach().cpu().numpy()\n",
    "        metric.update(targets=m_targets, predictions=m_predictions)\n",
    "\n",
    "        # step optimizer\n",
    "        optimizer.step()\n",
    "        optimizer.zero_grad()\n",
    "\n",
    "        # update batch time\n",
    "        batch_time.update(time.time() - end)\n",
    "        end = time.time()\n",
    "\n",
    "        # if current step is a multiple of the printing param (or end)\n",
    "        if step % CFG.print_freq == 0 or step == (len(data_loader) - 1):\n",
    "            print('Epoch {0} [{1}/{2}]: '\n",
    "                  'Elapsed {remain:s} '\n",
    "                  'Loss: {loss.cur_val:.4f} (avg {loss.avg:.4f}) '\n",
    "                  .format(\n",
    "                      epoch+1, step, len(data_loader),\n",
    "                      loss=train_loss,\n",
    "                      remain=timeSince(start,\n",
    "                                       float(step + 1) / len(data_loader))))\n",
    "\n",
    "    rmse = metric.get_rmse()\n",
    "    return train_loss.avg, rmse\n",
    "\n",
    "\n",
    "def eval_step(model, criterion, data_loader, epoch, device=device):\n",
    "\n",
    "    batch_time = AverageMeter()\n",
    "    data_time = AverageMeter()\n",
    "    eval_loss = AverageMeter()\n",
    "    metric = Metric()\n",
    "    model.eval()\n",
    "\n",
    "    start = end = time.time()\n",
    "\n",
    "    for step, batch in enumerate(data_loader):\n",
    "        data_time.update(time.time() - end)\n",
    "\n",
    "        input_ids = batch[\"ids\"].to(device)\n",
    "        attention_masks = batch[\"masks\"].to(device)\n",
    "        targets = batch[\"targets\"].to(device)\n",
    "        bs = input_ids.size(0)\n",
    "        with torch.no_grad():\n",
    "            output = model(input_ids, attention_masks)\n",
    "        loss = criterion(output.squeeze(1), targets)\n",
    "        eval_loss.update(loss.item(), bs)\n",
    "        batch_time.update(time.time() - end)\n",
    "        end = time.time()\n",
    "\n",
    "        m_targets = targets.detach().cpu().numpy()\n",
    "        m_predictions = output.detach().cpu().numpy()\n",
    "        metric.update(targets=m_targets, predictions=m_predictions)\n",
    "\n",
    "        if step % CFG.print_freq == 0 or step == (len(data_loader) - 1):\n",
    "            print('EVAL - Epoch {0} [{1}/{2}]: '\n",
    "                  'Loss: {loss.cur_val:.4f} (avg {loss.avg:.4f}) '\n",
    "                  .format(epoch+1, step, len(data_loader),\n",
    "                          loss=eval_loss))\n",
    "    rmse = metric.get_rmse()\n",
    "    return eval_loss.avg, rmse"
   ]
  },
  {
   "cell_type": "code",
   "execution_count": 13,
   "id": "acoustic-effects",
   "metadata": {
    "execution": {
     "iopub.execute_input": "2021-06-30T10:12:32.033367Z",
     "iopub.status.busy": "2021-06-30T10:12:32.032583Z",
     "iopub.status.idle": "2021-06-30T10:12:32.035375Z",
     "shell.execute_reply": "2021-06-30T10:12:32.034892Z",
     "shell.execute_reply.started": "2021-06-30T10:06:35.421433Z"
    },
    "papermill": {
     "duration": 0.045371,
     "end_time": "2021-06-30T10:12:32.035494",
     "exception": false,
     "start_time": "2021-06-30T10:12:31.990123",
     "status": "completed"
    },
    "tags": []
   },
   "outputs": [],
   "source": [
    "def train_loop(folds, fold):\n",
    "    print('\\n*** FOLD ', fold)\n",
    "\n",
    "    # get indexes tagged for the current fold\n",
    "    train_index = folds[folds[\"fold\"] != fold].index\n",
    "    valid_index = folds[folds[\"fold\"] == fold].index\n",
    "\n",
    "    # get data\n",
    "    train_folds = folds.loc[train_index].reset_index(drop=True)\n",
    "    valid_folds = folds.loc[valid_index].reset_index(drop=True)\n",
    "\n",
    "    # create tokenizer and create dataset\n",
    "    tokenizer = DistilBertTokenizer.from_pretrained(CFG.model_path)\n",
    "    tokenizer.save_pretrained(f\"{CFG.model_name}_tokenizer\")\n",
    "\n",
    "    # create validation data loader\n",
    "    valid_dataset = CommonLitDataset(df=valid_folds, tokenizer=tokenizer,\n",
    "                                     max_length=CFG.max_length)\n",
    "    valid_data_loader = DataLoader(valid_dataset,\n",
    "                                   batch_size=CFG.batch_size,\n",
    "                                   shuffle=False,\n",
    "                                   num_workers=CFG.num_workers,\n",
    "                                   pin_memory=True)\n",
    "\n",
    "    # define scheduler, model, optimizer, loss\n",
    "    model = TextRegressionModel(model_name=CFG.model_name,\n",
    "                                dropout_p=CFG.dropout_p)\n",
    "    model.to(device)\n",
    "    if fold == 0:\n",
    "        print('Model instanciated. Number of trainable parameters : {}\\n'\n",
    "              .format(model.count_parameters()))\n",
    "        model.details_parameters()\n",
    "\n",
    "    optimizer = get_optimizer(model)\n",
    "    scheduler = get_scheduler(optimizer)\n",
    "\n",
    "    criterion = nn.MSELoss().to(device)\n",
    "    best_loss = np.inf  # initiate with positive infinity\n",
    "\n",
    "    # iterate through epochs\n",
    "    for epoch in range(CFG.n_epochs):\n",
    "\n",
    "        # augment part of the data except for the first epoch\n",
    "        if CFG.augment_text & (epoch != 0):\n",
    "            print(\"Epoch {} - Augmenting data...\".format(epoch + 1))\n",
    "            start = time.time()\n",
    "            ratio = CFG.augment_ratio\n",
    "            idx_aug = random.sample(range(len(train_folds)),\n",
    "                                    int(len(train_folds) * ratio))\n",
    "            for idx in idx_aug:\n",
    "                cur_excerpt = train_folds.loc[idx, 'excerpt']\n",
    "                train_folds.loc[idx, 'excerpt'] = apply_augment(cur_excerpt)\n",
    "            print(\"... done ({} sec)\".format(round(time.time() - start)))\n",
    "\n",
    "        # build train data loader\n",
    "        train_dataset = CommonLitDataset(df=train_folds, tokenizer=tokenizer,\n",
    "                                         max_length=CFG.max_length)\n",
    "        train_data_loader = DataLoader(train_dataset,\n",
    "                                       batch_size=CFG.batch_size,\n",
    "                                       shuffle=True,\n",
    "                                       num_workers=CFG.num_workers,\n",
    "                                       pin_memory=True)\n",
    "\n",
    "        # train and evaluate\n",
    "        start_time = time.time()\n",
    "        train_loss, train_rmse = train_step(model, criterion, optimizer,\n",
    "                                            train_data_loader, epoch)\n",
    "        eval_loss, eval_rmse = eval_step(model, criterion,\n",
    "                                         valid_data_loader, epoch)\n",
    "        scheduler.step()\n",
    "        elapsed = time.time() - start_time\n",
    "\n",
    "        LOGGER.info(f'Epoch {epoch+1} - avg_train_loss: {train_loss:.4f}'\n",
    "                    ' time: {elapsed:.0f}s')\n",
    "        LOGGER.info(f'Epoch {epoch+1} - avg_eval_loss: {eval_loss:.4f} '\n",
    "                    '- avg_rmse: {eval_rmse:.4f}')\n",
    "        save_training(fold, epoch, train_loss, eval_loss,\n",
    "                      train_rmse, eval_rmse)\n",
    "\n",
    "        # save best loss and model\n",
    "        if eval_loss < best_loss:\n",
    "            best_loss = eval_loss\n",
    "            file_name = f\"{CFG.model_name}_fold_{fold}_best.pth\"\n",
    "            print('  -> save model as', file_name)\n",
    "            torch.save({\n",
    "                \"model\": model.state_dict(),\n",
    "                \"optimizer\": optimizer.state_dict(),\n",
    "                \"scheduler\": scheduler.state_dict()\n",
    "            }, file_name)"
   ]
  },
  {
   "cell_type": "code",
   "execution_count": 14,
   "id": "helpful-spoke",
   "metadata": {
    "execution": {
     "iopub.execute_input": "2021-06-30T10:12:32.097492Z",
     "iopub.status.busy": "2021-06-30T10:12:32.096639Z",
     "iopub.status.idle": "2021-06-30T10:12:32.099241Z",
     "shell.execute_reply": "2021-06-30T10:12:32.098715Z",
     "shell.execute_reply.started": "2021-06-30T10:06:35.974168Z"
    },
    "papermill": {
     "duration": 0.03556,
     "end_time": "2021-06-30T10:12:32.099351",
     "exception": false,
     "start_time": "2021-06-30T10:12:32.063791",
     "status": "completed"
    },
    "tags": []
   },
   "outputs": [],
   "source": [
    "def save_training(fold, epoch, train_loss, val_loss, train_rmse, val_rmse):\n",
    "    \"\"\"stores the values of loss and rmse during training\"\"\"\n",
    "    new_line = {'fold': fold, 'epoch': epoch,\n",
    "                'train_loss': train_loss, 'val_loss': val_loss,\n",
    "                'train_rmse': train_rmse, 'val_rmse': val_rmse}\n",
    "    training_evals.loc[len(training_evals)] = new_line\n",
    "    return training_evals"
   ]
  },
  {
   "cell_type": "markdown",
   "id": "british-proceeding",
   "metadata": {
    "papermill": {
     "duration": 0.028334,
     "end_time": "2021-06-30T10:12:32.155760",
     "exception": false,
     "start_time": "2021-06-30T10:12:32.127426",
     "status": "completed"
    },
    "tags": []
   },
   "source": [
    "# Main"
   ]
  },
  {
   "cell_type": "markdown",
   "id": "sublime-looking",
   "metadata": {
    "papermill": {
     "duration": 0.028082,
     "end_time": "2021-06-30T10:12:32.213199",
     "exception": false,
     "start_time": "2021-06-30T10:12:32.185117",
     "status": "completed"
    },
    "tags": []
   },
   "source": [
    "#### CV split"
   ]
  },
  {
   "cell_type": "code",
   "execution_count": 15,
   "id": "opposed-packaging",
   "metadata": {
    "execution": {
     "iopub.execute_input": "2021-06-30T10:12:32.277422Z",
     "iopub.status.busy": "2021-06-30T10:12:32.276593Z",
     "iopub.status.idle": "2021-06-30T10:12:32.286745Z",
     "shell.execute_reply": "2021-06-30T10:12:32.287353Z",
     "shell.execute_reply.started": "2021-06-30T10:06:38.783505Z"
    },
    "papermill": {
     "duration": 0.046022,
     "end_time": "2021-06-30T10:12:32.287542",
     "exception": false,
     "start_time": "2021-06-30T10:12:32.241520",
     "status": "completed"
    },
    "tags": []
   },
   "outputs": [
    {
     "name": "stdout",
     "output_type": "stream",
     "text": [
      "Number of observations per fold :\n",
      "\n",
      "fold\n",
      "0    567\n",
      "1    567\n",
      "2    567\n",
      "3    567\n",
      "4    566\n",
      "dtype: int64\n"
     ]
    }
   ],
   "source": [
    "# separate the observations in CFG.n_folds folds\n",
    "# the fold number is recorded in the 'fold' column of folds df\n",
    "folds = df_train.copy()\n",
    "Fold = KFold(n_splits=CFG.n_folds, shuffle=True, random_state=CFG.seed)\n",
    "for n, (train_idx, valid_idx) in enumerate(Fold.split(folds)):\n",
    "    folds.loc[valid_idx, \"fold\"] = int(n)\n",
    "\n",
    "folds[\"fold\"] = folds[\"fold\"].astype(int)\n",
    "print('Number of observations per fold :\\n')\n",
    "print(folds.groupby([\"fold\"]).size())"
   ]
  },
  {
   "cell_type": "code",
   "execution_count": 16,
   "id": "legendary-stevens",
   "metadata": {
    "execution": {
     "iopub.execute_input": "2021-06-30T10:12:32.351750Z",
     "iopub.status.busy": "2021-06-30T10:12:32.350897Z",
     "iopub.status.idle": "2021-06-30T10:12:32.353693Z",
     "shell.execute_reply": "2021-06-30T10:12:32.353234Z",
     "shell.execute_reply.started": "2021-06-30T10:06:39.701227Z"
    },
    "papermill": {
     "duration": 0.036251,
     "end_time": "2021-06-30T10:12:32.353803",
     "exception": false,
     "start_time": "2021-06-30T10:12:32.317552",
     "status": "completed"
    },
    "tags": []
   },
   "outputs": [],
   "source": [
    "def main():\n",
    "    for fold in range(CFG.n_folds):\n",
    "        gc.collect()\n",
    "        torch.cuda.empty_cache()\n",
    "        train_loop(folds, fold)"
   ]
  },
  {
   "cell_type": "code",
   "execution_count": 17,
   "id": "desperate-companion",
   "metadata": {
    "execution": {
     "iopub.execute_input": "2021-06-30T10:12:32.415971Z",
     "iopub.status.busy": "2021-06-30T10:12:32.415401Z",
     "iopub.status.idle": "2021-06-30T10:41:19.671824Z",
     "shell.execute_reply": "2021-06-30T10:41:19.672391Z"
    },
    "papermill": {
     "duration": 1727.290153,
     "end_time": "2021-06-30T10:41:19.672620",
     "exception": false,
     "start_time": "2021-06-30T10:12:32.382467",
     "status": "completed"
    },
    "tags": []
   },
   "outputs": [
    {
     "name": "stdout",
     "output_type": "stream",
     "text": [
      "\n",
      "*** FOLD  0\n",
      "Model instanciated. Number of trainable parameters : 66516881\n",
      "\n",
      "DistilBERT layer :\n"
     ]
    },
    {
     "data": {
      "text/html": [
       "<div>\n",
       "<style scoped>\n",
       "    .dataframe tbody tr th:only-of-type {\n",
       "        vertical-align: middle;\n",
       "    }\n",
       "\n",
       "    .dataframe tbody tr th {\n",
       "        vertical-align: top;\n",
       "    }\n",
       "\n",
       "    .dataframe thead th {\n",
       "        text-align: right;\n",
       "    }\n",
       "</style>\n",
       "<table border=\"1\" class=\"dataframe\">\n",
       "  <thead>\n",
       "    <tr style=\"text-align: right;\">\n",
       "      <th></th>\n",
       "      <th>module</th>\n",
       "      <th>parameters</th>\n",
       "    </tr>\n",
       "  </thead>\n",
       "  <tbody>\n",
       "    <tr>\n",
       "      <th>0</th>\n",
       "      <td>embeddings.word_embeddings.weight</td>\n",
       "      <td>23440896</td>\n",
       "    </tr>\n",
       "    <tr>\n",
       "      <th>1</th>\n",
       "      <td>embeddings.position_embeddings.weight</td>\n",
       "      <td>393216</td>\n",
       "    </tr>\n",
       "    <tr>\n",
       "      <th>2</th>\n",
       "      <td>embeddings.LayerNorm.weight</td>\n",
       "      <td>768</td>\n",
       "    </tr>\n",
       "    <tr>\n",
       "      <th>3</th>\n",
       "      <td>embeddings.LayerNorm.bias</td>\n",
       "      <td>768</td>\n",
       "    </tr>\n",
       "    <tr>\n",
       "      <th>4</th>\n",
       "      <td>transformer.layer.0.attention.q_lin.weight</td>\n",
       "      <td>589824</td>\n",
       "    </tr>\n",
       "    <tr>\n",
       "      <th>...</th>\n",
       "      <td>...</td>\n",
       "      <td>...</td>\n",
       "    </tr>\n",
       "    <tr>\n",
       "      <th>95</th>\n",
       "      <td>transformer.layer.5.ffn.lin1.bias</td>\n",
       "      <td>3072</td>\n",
       "    </tr>\n",
       "    <tr>\n",
       "      <th>96</th>\n",
       "      <td>transformer.layer.5.ffn.lin2.weight</td>\n",
       "      <td>2359296</td>\n",
       "    </tr>\n",
       "    <tr>\n",
       "      <th>97</th>\n",
       "      <td>transformer.layer.5.ffn.lin2.bias</td>\n",
       "      <td>768</td>\n",
       "    </tr>\n",
       "    <tr>\n",
       "      <th>98</th>\n",
       "      <td>transformer.layer.5.output_layer_norm.weight</td>\n",
       "      <td>768</td>\n",
       "    </tr>\n",
       "    <tr>\n",
       "      <th>99</th>\n",
       "      <td>transformer.layer.5.output_layer_norm.bias</td>\n",
       "      <td>768</td>\n",
       "    </tr>\n",
       "  </tbody>\n",
       "</table>\n",
       "<p>100 rows × 2 columns</p>\n",
       "</div>"
      ],
      "text/plain": [
       "                                          module parameters\n",
       "0              embeddings.word_embeddings.weight   23440896\n",
       "1          embeddings.position_embeddings.weight     393216\n",
       "2                    embeddings.LayerNorm.weight        768\n",
       "3                      embeddings.LayerNorm.bias        768\n",
       "4     transformer.layer.0.attention.q_lin.weight     589824\n",
       "..                                           ...        ...\n",
       "95             transformer.layer.5.ffn.lin1.bias       3072\n",
       "96           transformer.layer.5.ffn.lin2.weight    2359296\n",
       "97             transformer.layer.5.ffn.lin2.bias        768\n",
       "98  transformer.layer.5.output_layer_norm.weight        768\n",
       "99    transformer.layer.5.output_layer_norm.bias        768\n",
       "\n",
       "[100 rows x 2 columns]"
      ]
     },
     "metadata": {},
     "output_type": "display_data"
    },
    {
     "name": "stdout",
     "output_type": "stream",
     "text": [
      "Features layer :\n"
     ]
    },
    {
     "data": {
      "text/html": [
       "<div>\n",
       "<style scoped>\n",
       "    .dataframe tbody tr th:only-of-type {\n",
       "        vertical-align: middle;\n",
       "    }\n",
       "\n",
       "    .dataframe tbody tr th {\n",
       "        vertical-align: top;\n",
       "    }\n",
       "\n",
       "    .dataframe thead th {\n",
       "        text-align: right;\n",
       "    }\n",
       "</style>\n",
       "<table border=\"1\" class=\"dataframe\">\n",
       "  <thead>\n",
       "    <tr style=\"text-align: right;\">\n",
       "      <th></th>\n",
       "      <th>module</th>\n",
       "      <th>parameters</th>\n",
       "    </tr>\n",
       "  </thead>\n",
       "  <tbody>\n",
       "    <tr>\n",
       "      <th>0</th>\n",
       "      <td>weight</td>\n",
       "      <td>153600</td>\n",
       "    </tr>\n",
       "    <tr>\n",
       "      <th>1</th>\n",
       "      <td>bias</td>\n",
       "      <td>200</td>\n",
       "    </tr>\n",
       "  </tbody>\n",
       "</table>\n",
       "</div>"
      ],
      "text/plain": [
       "   module parameters\n",
       "0  weight     153600\n",
       "1    bias        200"
      ]
     },
     "metadata": {},
     "output_type": "display_data"
    },
    {
     "name": "stdout",
     "output_type": "stream",
     "text": [
      "Dropout layer :\n"
     ]
    },
    {
     "data": {
      "text/html": [
       "<div>\n",
       "<style scoped>\n",
       "    .dataframe tbody tr th:only-of-type {\n",
       "        vertical-align: middle;\n",
       "    }\n",
       "\n",
       "    .dataframe tbody tr th {\n",
       "        vertical-align: top;\n",
       "    }\n",
       "\n",
       "    .dataframe thead th {\n",
       "        text-align: right;\n",
       "    }\n",
       "</style>\n",
       "<table border=\"1\" class=\"dataframe\">\n",
       "  <thead>\n",
       "    <tr style=\"text-align: right;\">\n",
       "      <th></th>\n",
       "      <th>module</th>\n",
       "      <th>parameters</th>\n",
       "    </tr>\n",
       "  </thead>\n",
       "  <tbody>\n",
       "  </tbody>\n",
       "</table>\n",
       "</div>"
      ],
      "text/plain": [
       "Empty DataFrame\n",
       "Columns: [module, parameters]\n",
       "Index: []"
      ]
     },
     "metadata": {},
     "output_type": "display_data"
    },
    {
     "name": "stdout",
     "output_type": "stream",
     "text": [
      "Regressor layer :\n"
     ]
    },
    {
     "data": {
      "text/html": [
       "<div>\n",
       "<style scoped>\n",
       "    .dataframe tbody tr th:only-of-type {\n",
       "        vertical-align: middle;\n",
       "    }\n",
       "\n",
       "    .dataframe tbody tr th {\n",
       "        vertical-align: top;\n",
       "    }\n",
       "\n",
       "    .dataframe thead th {\n",
       "        text-align: right;\n",
       "    }\n",
       "</style>\n",
       "<table border=\"1\" class=\"dataframe\">\n",
       "  <thead>\n",
       "    <tr style=\"text-align: right;\">\n",
       "      <th></th>\n",
       "      <th>module</th>\n",
       "      <th>parameters</th>\n",
       "    </tr>\n",
       "  </thead>\n",
       "  <tbody>\n",
       "    <tr>\n",
       "      <th>0</th>\n",
       "      <td>weight</td>\n",
       "      <td>200</td>\n",
       "    </tr>\n",
       "    <tr>\n",
       "      <th>1</th>\n",
       "      <td>bias</td>\n",
       "      <td>1</td>\n",
       "    </tr>\n",
       "  </tbody>\n",
       "</table>\n",
       "</div>"
      ],
      "text/plain": [
       "   module parameters\n",
       "0  weight        200\n",
       "1    bias          1"
      ]
     },
     "metadata": {},
     "output_type": "display_data"
    },
    {
     "name": "stdout",
     "output_type": "stream",
     "text": [
      "Epoch 1 [0/71]: Elapsed 0m 2s (remain 2m 41s) Loss: 1.5328 (avg 1.5328) \n",
      "Epoch 1 [50/71]: Elapsed 0m 22s (remain 0m 8s) Loss: 0.2807 (avg 0.6910) \n",
      "Epoch 1 [70/71]: Elapsed 0m 29s (remain 0m 0s) Loss: 0.3671 (avg 0.6342) \n",
      "EVAL - Epoch 1 [0/18]: Loss: 0.2155 (avg 0.2155) \n"
     ]
    },
    {
     "name": "stderr",
     "output_type": "stream",
     "text": [
      "Epoch 1 - avg_train_loss: 0.6342 time: {elapsed:.0f}s\n",
      "Epoch 1 - avg_eval_loss: 0.3548 - avg_rmse: {eval_rmse:.4f}\n"
     ]
    },
    {
     "name": "stdout",
     "output_type": "stream",
     "text": [
      "EVAL - Epoch 1 [17/18]: Loss: 0.3040 (avg 0.3548) \n",
      "  -> save model as distilbert-base-uncased_fold_0_best.pth\n",
      "Epoch 2 [0/71]: Elapsed 0m 1s (remain 1m 28s) Loss: 0.2775 (avg 0.2775) \n",
      "Epoch 2 [50/71]: Elapsed 0m 21s (remain 0m 8s) Loss: 0.6055 (avg 0.3159) \n",
      "Epoch 2 [70/71]: Elapsed 0m 28s (remain 0m 0s) Loss: 0.2995 (avg 0.3106) \n",
      "EVAL - Epoch 2 [0/18]: Loss: 0.4600 (avg 0.4600) \n"
     ]
    },
    {
     "name": "stderr",
     "output_type": "stream",
     "text": [
      "Epoch 2 - avg_train_loss: 0.3106 time: {elapsed:.0f}s\n",
      "Epoch 2 - avg_eval_loss: 0.5217 - avg_rmse: {eval_rmse:.4f}\n"
     ]
    },
    {
     "name": "stdout",
     "output_type": "stream",
     "text": [
      "EVAL - Epoch 2 [17/18]: Loss: 0.6616 (avg 0.5217) \n",
      "Epoch 3 [0/71]: Elapsed 0m 1s (remain 1m 54s) Loss: 0.2944 (avg 0.2944) \n",
      "Epoch 3 [50/71]: Elapsed 0m 21s (remain 0m 8s) Loss: 0.2278 (avg 0.2197) \n",
      "Epoch 3 [70/71]: Elapsed 0m 29s (remain 0m 0s) Loss: 0.1523 (avg 0.2031) \n",
      "EVAL - Epoch 3 [0/18]: Loss: 0.1932 (avg 0.1932) \n"
     ]
    },
    {
     "name": "stderr",
     "output_type": "stream",
     "text": [
      "Epoch 3 - avg_train_loss: 0.2031 time: {elapsed:.0f}s\n",
      "Epoch 3 - avg_eval_loss: 0.3527 - avg_rmse: {eval_rmse:.4f}\n"
     ]
    },
    {
     "name": "stdout",
     "output_type": "stream",
     "text": [
      "EVAL - Epoch 3 [17/18]: Loss: 0.3316 (avg 0.3527) \n",
      "  -> save model as distilbert-base-uncased_fold_0_best.pth\n",
      "Epoch 4 [0/71]: Elapsed 0m 1s (remain 1m 23s) Loss: 0.2239 (avg 0.2239) \n",
      "Epoch 4 [50/71]: Elapsed 0m 20s (remain 0m 8s) Loss: 0.1440 (avg 0.1357) \n",
      "Epoch 4 [70/71]: Elapsed 0m 28s (remain 0m 0s) Loss: 0.1358 (avg 0.1359) \n",
      "EVAL - Epoch 4 [0/18]: Loss: 0.2376 (avg 0.2376) \n"
     ]
    },
    {
     "name": "stderr",
     "output_type": "stream",
     "text": [
      "Epoch 4 - avg_train_loss: 0.1359 time: {elapsed:.0f}s\n",
      "Epoch 4 - avg_eval_loss: 0.3484 - avg_rmse: {eval_rmse:.4f}\n"
     ]
    },
    {
     "name": "stdout",
     "output_type": "stream",
     "text": [
      "EVAL - Epoch 4 [17/18]: Loss: 0.2573 (avg 0.3484) \n",
      "  -> save model as distilbert-base-uncased_fold_0_best.pth\n",
      "Epoch 5 [0/71]: Elapsed 0m 1s (remain 1m 28s) Loss: 0.1212 (avg 0.1212) \n",
      "Epoch 5 [50/71]: Elapsed 0m 20s (remain 0m 8s) Loss: 0.0346 (avg 0.0862) \n",
      "Epoch 5 [70/71]: Elapsed 0m 28s (remain 0m 0s) Loss: 0.1026 (avg 0.0854) \n",
      "EVAL - Epoch 5 [0/18]: Loss: 0.2847 (avg 0.2847) \n"
     ]
    },
    {
     "name": "stderr",
     "output_type": "stream",
     "text": [
      "Epoch 5 - avg_train_loss: 0.0854 time: {elapsed:.0f}s\n",
      "Epoch 5 - avg_eval_loss: 0.3769 - avg_rmse: {eval_rmse:.4f}\n"
     ]
    },
    {
     "name": "stdout",
     "output_type": "stream",
     "text": [
      "EVAL - Epoch 5 [17/18]: Loss: 0.3710 (avg 0.3769) \n",
      "Epoch 6 [0/71]: Elapsed 0m 1s (remain 1m 40s) Loss: 0.0338 (avg 0.0338) \n",
      "Epoch 6 [50/71]: Elapsed 0m 21s (remain 0m 8s) Loss: 0.0629 (avg 0.0626) \n",
      "Epoch 6 [70/71]: Elapsed 0m 28s (remain 0m 0s) Loss: 0.0815 (avg 0.0637) \n",
      "EVAL - Epoch 6 [0/18]: Loss: 0.2924 (avg 0.2924) \n"
     ]
    },
    {
     "name": "stderr",
     "output_type": "stream",
     "text": [
      "Epoch 6 - avg_train_loss: 0.0637 time: {elapsed:.0f}s\n",
      "Epoch 6 - avg_eval_loss: 0.3630 - avg_rmse: {eval_rmse:.4f}\n"
     ]
    },
    {
     "name": "stdout",
     "output_type": "stream",
     "text": [
      "EVAL - Epoch 6 [17/18]: Loss: 0.3337 (avg 0.3630) \n",
      "Epoch 7 [0/71]: Elapsed 0m 1s (remain 2m 12s) Loss: 0.0425 (avg 0.0425) \n",
      "Epoch 7 [50/71]: Elapsed 0m 21s (remain 0m 8s) Loss: 0.0507 (avg 0.0468) \n",
      "Epoch 7 [70/71]: Elapsed 0m 29s (remain 0m 0s) Loss: 0.0316 (avg 0.0456) \n",
      "EVAL - Epoch 7 [0/18]: Loss: 0.2363 (avg 0.2363) \n"
     ]
    },
    {
     "name": "stderr",
     "output_type": "stream",
     "text": [
      "Epoch 7 - avg_train_loss: 0.0456 time: {elapsed:.0f}s\n",
      "Epoch 7 - avg_eval_loss: 0.3356 - avg_rmse: {eval_rmse:.4f}\n"
     ]
    },
    {
     "name": "stdout",
     "output_type": "stream",
     "text": [
      "EVAL - Epoch 7 [17/18]: Loss: 0.3030 (avg 0.3356) \n",
      "  -> save model as distilbert-base-uncased_fold_0_best.pth\n",
      "Epoch 8 [0/71]: Elapsed 0m 1s (remain 1m 50s) Loss: 0.0358 (avg 0.0358) \n",
      "Epoch 8 [50/71]: Elapsed 0m 21s (remain 0m 8s) Loss: 0.0825 (avg 0.0418) \n",
      "Epoch 8 [70/71]: Elapsed 0m 28s (remain 0m 0s) Loss: 0.0375 (avg 0.0402) \n",
      "EVAL - Epoch 8 [0/18]: Loss: 0.2229 (avg 0.2229) \n"
     ]
    },
    {
     "name": "stderr",
     "output_type": "stream",
     "text": [
      "Epoch 8 - avg_train_loss: 0.0402 time: {elapsed:.0f}s\n",
      "Epoch 8 - avg_eval_loss: 0.3276 - avg_rmse: {eval_rmse:.4f}\n"
     ]
    },
    {
     "name": "stdout",
     "output_type": "stream",
     "text": [
      "EVAL - Epoch 8 [17/18]: Loss: 0.3026 (avg 0.3276) \n",
      "  -> save model as distilbert-base-uncased_fold_0_best.pth\n",
      "Epoch 9 [0/71]: Elapsed 0m 1s (remain 1m 22s) Loss: 0.0236 (avg 0.0236) \n",
      "Epoch 9 [50/71]: Elapsed 0m 20s (remain 0m 8s) Loss: 0.0212 (avg 0.0341) \n",
      "Epoch 9 [70/71]: Elapsed 0m 28s (remain 0m 0s) Loss: 0.0290 (avg 0.0348) \n",
      "EVAL - Epoch 9 [0/18]: Loss: 0.2230 (avg 0.2230) \n"
     ]
    },
    {
     "name": "stderr",
     "output_type": "stream",
     "text": [
      "Epoch 9 - avg_train_loss: 0.0348 time: {elapsed:.0f}s\n",
      "Epoch 9 - avg_eval_loss: 0.3294 - avg_rmse: {eval_rmse:.4f}\n"
     ]
    },
    {
     "name": "stdout",
     "output_type": "stream",
     "text": [
      "EVAL - Epoch 9 [17/18]: Loss: 0.3069 (avg 0.3294) \n",
      "Epoch 10 [0/71]: Elapsed 0m 1s (remain 1m 30s) Loss: 0.0336 (avg 0.0336) \n",
      "Epoch 10 [50/71]: Elapsed 0m 20s (remain 0m 8s) Loss: 0.0624 (avg 0.0309) \n",
      "Epoch 10 [70/71]: Elapsed 0m 28s (remain 0m 0s) Loss: 0.0312 (avg 0.0303) \n",
      "EVAL - Epoch 10 [0/18]: Loss: 0.2211 (avg 0.2211) \n"
     ]
    },
    {
     "name": "stderr",
     "output_type": "stream",
     "text": [
      "Epoch 10 - avg_train_loss: 0.0303 time: {elapsed:.0f}s\n",
      "Epoch 10 - avg_eval_loss: 0.3282 - avg_rmse: {eval_rmse:.4f}\n"
     ]
    },
    {
     "name": "stdout",
     "output_type": "stream",
     "text": [
      "EVAL - Epoch 10 [17/18]: Loss: 0.3030 (avg 0.3282) \n",
      "\n",
      "*** FOLD  1\n",
      "Epoch 1 [0/71]: Elapsed 0m 1s (remain 1m 39s) Loss: 1.6688 (avg 1.6688) \n",
      "Epoch 1 [50/71]: Elapsed 0m 20s (remain 0m 8s) Loss: 0.1641 (avg 0.6568) \n",
      "Epoch 1 [70/71]: Elapsed 0m 28s (remain 0m 0s) Loss: 0.4042 (avg 0.6134) \n",
      "EVAL - Epoch 1 [0/18]: Loss: 0.3862 (avg 0.3862) \n"
     ]
    },
    {
     "name": "stderr",
     "output_type": "stream",
     "text": [
      "Epoch 1 - avg_train_loss: 0.6134 time: {elapsed:.0f}s\n",
      "Epoch 1 - avg_eval_loss: 0.4697 - avg_rmse: {eval_rmse:.4f}\n"
     ]
    },
    {
     "name": "stdout",
     "output_type": "stream",
     "text": [
      "EVAL - Epoch 1 [17/18]: Loss: 0.7566 (avg 0.4697) \n",
      "  -> save model as distilbert-base-uncased_fold_1_best.pth\n",
      "Epoch 2 [0/71]: Elapsed 0m 1s (remain 1m 27s) Loss: 0.3366 (avg 0.3366) \n",
      "Epoch 2 [50/71]: Elapsed 0m 20s (remain 0m 8s) Loss: 0.5816 (avg 0.2935) \n",
      "Epoch 2 [70/71]: Elapsed 0m 28s (remain 0m 0s) Loss: 0.2963 (avg 0.3076) \n",
      "EVAL - Epoch 2 [0/18]: Loss: 0.3173 (avg 0.3173) \n"
     ]
    },
    {
     "name": "stderr",
     "output_type": "stream",
     "text": [
      "Epoch 2 - avg_train_loss: 0.3076 time: {elapsed:.0f}s\n",
      "Epoch 2 - avg_eval_loss: 0.4449 - avg_rmse: {eval_rmse:.4f}\n"
     ]
    },
    {
     "name": "stdout",
     "output_type": "stream",
     "text": [
      "EVAL - Epoch 2 [17/18]: Loss: 0.7252 (avg 0.4449) \n",
      "  -> save model as distilbert-base-uncased_fold_1_best.pth\n",
      "Epoch 3 [0/71]: Elapsed 0m 0s (remain 1m 7s) Loss: 0.2468 (avg 0.2468) \n",
      "Epoch 3 [50/71]: Elapsed 0m 20s (remain 0m 8s) Loss: 0.2406 (avg 0.1690) \n",
      "Epoch 3 [70/71]: Elapsed 0m 28s (remain 0m 0s) Loss: 0.1371 (avg 0.1710) \n",
      "EVAL - Epoch 3 [0/18]: Loss: 0.3943 (avg 0.3943) \n"
     ]
    },
    {
     "name": "stderr",
     "output_type": "stream",
     "text": [
      "Epoch 3 - avg_train_loss: 0.1710 time: {elapsed:.0f}s\n",
      "Epoch 3 - avg_eval_loss: 0.3835 - avg_rmse: {eval_rmse:.4f}\n"
     ]
    },
    {
     "name": "stdout",
     "output_type": "stream",
     "text": [
      "EVAL - Epoch 3 [17/18]: Loss: 0.3951 (avg 0.3835) \n",
      "  -> save model as distilbert-base-uncased_fold_1_best.pth\n",
      "Epoch 4 [0/71]: Elapsed 0m 1s (remain 1m 26s) Loss: 0.0885 (avg 0.0885) \n",
      "Epoch 4 [50/71]: Elapsed 0m 20s (remain 0m 8s) Loss: 0.0922 (avg 0.1051) \n",
      "Epoch 4 [70/71]: Elapsed 0m 28s (remain 0m 0s) Loss: 0.1101 (avg 0.1059) \n",
      "EVAL - Epoch 4 [0/18]: Loss: 0.2796 (avg 0.2796) \n"
     ]
    },
    {
     "name": "stderr",
     "output_type": "stream",
     "text": [
      "Epoch 4 - avg_train_loss: 0.1059 time: {elapsed:.0f}s\n",
      "Epoch 4 - avg_eval_loss: 0.3593 - avg_rmse: {eval_rmse:.4f}\n"
     ]
    },
    {
     "name": "stdout",
     "output_type": "stream",
     "text": [
      "EVAL - Epoch 4 [17/18]: Loss: 0.4380 (avg 0.3593) \n",
      "  -> save model as distilbert-base-uncased_fold_1_best.pth\n",
      "Epoch 5 [0/71]: Elapsed 0m 1s (remain 1m 16s) Loss: 0.0718 (avg 0.0718) \n",
      "Epoch 5 [50/71]: Elapsed 0m 20s (remain 0m 8s) Loss: 0.0848 (avg 0.0783) \n",
      "Epoch 5 [70/71]: Elapsed 0m 28s (remain 0m 0s) Loss: 0.0639 (avg 0.0781) \n",
      "EVAL - Epoch 5 [0/18]: Loss: 0.2824 (avg 0.2824) \n"
     ]
    },
    {
     "name": "stderr",
     "output_type": "stream",
     "text": [
      "Epoch 5 - avg_train_loss: 0.0781 time: {elapsed:.0f}s\n",
      "Epoch 5 - avg_eval_loss: 0.3633 - avg_rmse: {eval_rmse:.4f}\n"
     ]
    },
    {
     "name": "stdout",
     "output_type": "stream",
     "text": [
      "EVAL - Epoch 5 [17/18]: Loss: 0.4493 (avg 0.3633) \n",
      "Epoch 6 [0/71]: Elapsed 0m 1s (remain 1m 33s) Loss: 0.0309 (avg 0.0309) \n",
      "Epoch 6 [50/71]: Elapsed 0m 21s (remain 0m 8s) Loss: 0.0467 (avg 0.0578) \n",
      "Epoch 6 [70/71]: Elapsed 0m 28s (remain 0m 0s) Loss: 0.0853 (avg 0.0564) \n",
      "EVAL - Epoch 6 [0/18]: Loss: 0.2748 (avg 0.2748) \n"
     ]
    },
    {
     "name": "stderr",
     "output_type": "stream",
     "text": [
      "Epoch 6 - avg_train_loss: 0.0564 time: {elapsed:.0f}s\n",
      "Epoch 6 - avg_eval_loss: 0.3659 - avg_rmse: {eval_rmse:.4f}\n"
     ]
    },
    {
     "name": "stdout",
     "output_type": "stream",
     "text": [
      "EVAL - Epoch 6 [17/18]: Loss: 0.5062 (avg 0.3659) \n",
      "Epoch 7 [0/71]: Elapsed 0m 1s (remain 1m 28s) Loss: 0.0269 (avg 0.0269) \n",
      "Epoch 7 [50/71]: Elapsed 0m 20s (remain 0m 8s) Loss: 0.0395 (avg 0.0445) \n",
      "Epoch 7 [70/71]: Elapsed 0m 28s (remain 0m 0s) Loss: 0.0285 (avg 0.0470) \n",
      "EVAL - Epoch 7 [0/18]: Loss: 0.2845 (avg 0.2845) \n"
     ]
    },
    {
     "name": "stderr",
     "output_type": "stream",
     "text": [
      "Epoch 7 - avg_train_loss: 0.0470 time: {elapsed:.0f}s\n",
      "Epoch 7 - avg_eval_loss: 0.3651 - avg_rmse: {eval_rmse:.4f}\n"
     ]
    },
    {
     "name": "stdout",
     "output_type": "stream",
     "text": [
      "EVAL - Epoch 7 [17/18]: Loss: 0.4536 (avg 0.3651) \n",
      "Epoch 8 [0/71]: Elapsed 0m 1s (remain 1m 28s) Loss: 0.0661 (avg 0.0661) \n",
      "Epoch 8 [50/71]: Elapsed 0m 20s (remain 0m 8s) Loss: 0.0253 (avg 0.0368) \n",
      "Epoch 8 [70/71]: Elapsed 0m 28s (remain 0m 0s) Loss: 0.0259 (avg 0.0355) \n",
      "EVAL - Epoch 8 [0/18]: Loss: 0.2732 (avg 0.2732) \n"
     ]
    },
    {
     "name": "stderr",
     "output_type": "stream",
     "text": [
      "Epoch 8 - avg_train_loss: 0.0355 time: {elapsed:.0f}s\n",
      "Epoch 8 - avg_eval_loss: 0.3586 - avg_rmse: {eval_rmse:.4f}\n"
     ]
    },
    {
     "name": "stdout",
     "output_type": "stream",
     "text": [
      "EVAL - Epoch 8 [17/18]: Loss: 0.4431 (avg 0.3586) \n",
      "  -> save model as distilbert-base-uncased_fold_1_best.pth\n",
      "Epoch 9 [0/71]: Elapsed 0m 1s (remain 1m 30s) Loss: 0.0379 (avg 0.0379) \n",
      "Epoch 9 [50/71]: Elapsed 0m 21s (remain 0m 8s) Loss: 0.0453 (avg 0.0339) \n",
      "Epoch 9 [70/71]: Elapsed 0m 28s (remain 0m 0s) Loss: 0.0235 (avg 0.0314) \n",
      "EVAL - Epoch 9 [0/18]: Loss: 0.2649 (avg 0.2649) \n"
     ]
    },
    {
     "name": "stderr",
     "output_type": "stream",
     "text": [
      "Epoch 9 - avg_train_loss: 0.0314 time: {elapsed:.0f}s\n",
      "Epoch 9 - avg_eval_loss: 0.3575 - avg_rmse: {eval_rmse:.4f}\n"
     ]
    },
    {
     "name": "stdout",
     "output_type": "stream",
     "text": [
      "EVAL - Epoch 9 [17/18]: Loss: 0.4467 (avg 0.3575) \n",
      "  -> save model as distilbert-base-uncased_fold_1_best.pth\n",
      "Epoch 10 [0/71]: Elapsed 0m 1s (remain 1m 42s) Loss: 0.0232 (avg 0.0232) \n",
      "Epoch 10 [50/71]: Elapsed 0m 21s (remain 0m 8s) Loss: 0.0274 (avg 0.0317) \n",
      "Epoch 10 [70/71]: Elapsed 0m 28s (remain 0m 0s) Loss: 0.0372 (avg 0.0306) \n",
      "EVAL - Epoch 10 [0/18]: Loss: 0.2660 (avg 0.2660) \n"
     ]
    },
    {
     "name": "stderr",
     "output_type": "stream",
     "text": [
      "Epoch 10 - avg_train_loss: 0.0306 time: {elapsed:.0f}s\n",
      "Epoch 10 - avg_eval_loss: 0.3565 - avg_rmse: {eval_rmse:.4f}\n"
     ]
    },
    {
     "name": "stdout",
     "output_type": "stream",
     "text": [
      "EVAL - Epoch 10 [17/18]: Loss: 0.4482 (avg 0.3565) \n",
      "  -> save model as distilbert-base-uncased_fold_1_best.pth\n",
      "\n",
      "*** FOLD  2\n",
      "Epoch 1 [0/71]: Elapsed 0m 1s (remain 1m 20s) Loss: 2.3740 (avg 2.3740) \n",
      "Epoch 1 [50/71]: Elapsed 0m 20s (remain 0m 8s) Loss: 0.4446 (avg 0.7287) \n",
      "Epoch 1 [70/71]: Elapsed 0m 28s (remain 0m 0s) Loss: 0.5519 (avg 0.6620) \n",
      "EVAL - Epoch 1 [0/18]: Loss: 0.3996 (avg 0.3996) \n"
     ]
    },
    {
     "name": "stderr",
     "output_type": "stream",
     "text": [
      "Epoch 1 - avg_train_loss: 0.6620 time: {elapsed:.0f}s\n",
      "Epoch 1 - avg_eval_loss: 0.4902 - avg_rmse: {eval_rmse:.4f}\n"
     ]
    },
    {
     "name": "stdout",
     "output_type": "stream",
     "text": [
      "EVAL - Epoch 1 [17/18]: Loss: 0.3482 (avg 0.4902) \n",
      "  -> save model as distilbert-base-uncased_fold_2_best.pth\n",
      "Epoch 2 [0/71]: Elapsed 0m 1s (remain 1m 26s) Loss: 0.5475 (avg 0.5475) \n",
      "Epoch 2 [50/71]: Elapsed 0m 21s (remain 0m 8s) Loss: 0.4868 (avg 0.3705) \n",
      "Epoch 2 [70/71]: Elapsed 0m 28s (remain 0m 0s) Loss: 0.5147 (avg 0.3686) \n",
      "EVAL - Epoch 2 [0/18]: Loss: 0.3361 (avg 0.3361) \n"
     ]
    },
    {
     "name": "stderr",
     "output_type": "stream",
     "text": [
      "Epoch 2 - avg_train_loss: 0.3686 time: {elapsed:.0f}s\n",
      "Epoch 2 - avg_eval_loss: 0.3906 - avg_rmse: {eval_rmse:.4f}\n"
     ]
    },
    {
     "name": "stdout",
     "output_type": "stream",
     "text": [
      "EVAL - Epoch 2 [17/18]: Loss: 0.3139 (avg 0.3906) \n",
      "  -> save model as distilbert-base-uncased_fold_2_best.pth\n",
      "Epoch 3 [0/71]: Elapsed 0m 1s (remain 1m 31s) Loss: 0.1513 (avg 0.1513) \n",
      "Epoch 3 [50/71]: Elapsed 0m 20s (remain 0m 8s) Loss: 0.3358 (avg 0.2198) \n",
      "Epoch 3 [70/71]: Elapsed 0m 28s (remain 0m 0s) Loss: 0.2560 (avg 0.2205) \n",
      "EVAL - Epoch 3 [0/18]: Loss: 0.3109 (avg 0.3109) \n"
     ]
    },
    {
     "name": "stderr",
     "output_type": "stream",
     "text": [
      "Epoch 3 - avg_train_loss: 0.2205 time: {elapsed:.0f}s\n",
      "Epoch 3 - avg_eval_loss: 0.3868 - avg_rmse: {eval_rmse:.4f}\n"
     ]
    },
    {
     "name": "stdout",
     "output_type": "stream",
     "text": [
      "EVAL - Epoch 3 [17/18]: Loss: 0.4083 (avg 0.3868) \n",
      "  -> save model as distilbert-base-uncased_fold_2_best.pth\n",
      "Epoch 4 [0/71]: Elapsed 0m 1s (remain 1m 26s) Loss: 0.1912 (avg 0.1912) \n",
      "Epoch 4 [50/71]: Elapsed 0m 20s (remain 0m 8s) Loss: 0.1695 (avg 0.1377) \n",
      "Epoch 4 [70/71]: Elapsed 0m 28s (remain 0m 0s) Loss: 0.1866 (avg 0.1338) \n",
      "EVAL - Epoch 4 [0/18]: Loss: 0.3284 (avg 0.3284) \n"
     ]
    },
    {
     "name": "stderr",
     "output_type": "stream",
     "text": [
      "Epoch 4 - avg_train_loss: 0.1338 time: {elapsed:.0f}s\n",
      "Epoch 4 - avg_eval_loss: 0.3792 - avg_rmse: {eval_rmse:.4f}\n"
     ]
    },
    {
     "name": "stdout",
     "output_type": "stream",
     "text": [
      "EVAL - Epoch 4 [17/18]: Loss: 0.3453 (avg 0.3792) \n",
      "  -> save model as distilbert-base-uncased_fold_2_best.pth\n",
      "Epoch 5 [0/71]: Elapsed 0m 1s (remain 1m 47s) Loss: 0.1170 (avg 0.1170) \n",
      "Epoch 5 [50/71]: Elapsed 0m 21s (remain 0m 8s) Loss: 0.0715 (avg 0.0993) \n",
      "Epoch 5 [70/71]: Elapsed 0m 29s (remain 0m 0s) Loss: 0.0871 (avg 0.0974) \n",
      "EVAL - Epoch 5 [0/18]: Loss: 0.3228 (avg 0.3228) \n"
     ]
    },
    {
     "name": "stderr",
     "output_type": "stream",
     "text": [
      "Epoch 5 - avg_train_loss: 0.0974 time: {elapsed:.0f}s\n",
      "Epoch 5 - avg_eval_loss: 0.3850 - avg_rmse: {eval_rmse:.4f}\n"
     ]
    },
    {
     "name": "stdout",
     "output_type": "stream",
     "text": [
      "EVAL - Epoch 5 [17/18]: Loss: 0.3996 (avg 0.3850) \n",
      "Epoch 6 [0/71]: Elapsed 0m 1s (remain 1m 37s) Loss: 0.0565 (avg 0.0565) \n",
      "Epoch 6 [50/71]: Elapsed 0m 21s (remain 0m 8s) Loss: 0.1056 (avg 0.0683) \n",
      "Epoch 6 [70/71]: Elapsed 0m 28s (remain 0m 0s) Loss: 0.0807 (avg 0.0743) \n",
      "EVAL - Epoch 6 [0/18]: Loss: 0.3076 (avg 0.3076) \n"
     ]
    },
    {
     "name": "stderr",
     "output_type": "stream",
     "text": [
      "Epoch 6 - avg_train_loss: 0.0743 time: {elapsed:.0f}s\n",
      "Epoch 6 - avg_eval_loss: 0.4009 - avg_rmse: {eval_rmse:.4f}\n"
     ]
    },
    {
     "name": "stdout",
     "output_type": "stream",
     "text": [
      "EVAL - Epoch 6 [17/18]: Loss: 0.3884 (avg 0.4009) \n",
      "Epoch 7 [0/71]: Elapsed 0m 1s (remain 1m 37s) Loss: 0.0710 (avg 0.0710) \n",
      "Epoch 7 [50/71]: Elapsed 0m 21s (remain 0m 8s) Loss: 0.0864 (avg 0.0583) \n",
      "Epoch 7 [70/71]: Elapsed 0m 28s (remain 0m 0s) Loss: 0.0466 (avg 0.0565) \n",
      "EVAL - Epoch 7 [0/18]: Loss: 0.3071 (avg 0.3071) \n"
     ]
    },
    {
     "name": "stderr",
     "output_type": "stream",
     "text": [
      "Epoch 7 - avg_train_loss: 0.0565 time: {elapsed:.0f}s\n",
      "Epoch 7 - avg_eval_loss: 0.3779 - avg_rmse: {eval_rmse:.4f}\n"
     ]
    },
    {
     "name": "stdout",
     "output_type": "stream",
     "text": [
      "EVAL - Epoch 7 [17/18]: Loss: 0.3757 (avg 0.3779) \n",
      "  -> save model as distilbert-base-uncased_fold_2_best.pth\n",
      "Epoch 8 [0/71]: Elapsed 0m 1s (remain 1m 32s) Loss: 0.0501 (avg 0.0501) \n",
      "Epoch 8 [50/71]: Elapsed 0m 21s (remain 0m 8s) Loss: 0.0533 (avg 0.0458) \n",
      "Epoch 8 [70/71]: Elapsed 0m 28s (remain 0m 0s) Loss: 0.0362 (avg 0.0478) \n",
      "EVAL - Epoch 8 [0/18]: Loss: 0.2954 (avg 0.2954) \n"
     ]
    },
    {
     "name": "stderr",
     "output_type": "stream",
     "text": [
      "Epoch 8 - avg_train_loss: 0.0478 time: {elapsed:.0f}s\n",
      "Epoch 8 - avg_eval_loss: 0.3711 - avg_rmse: {eval_rmse:.4f}\n"
     ]
    },
    {
     "name": "stdout",
     "output_type": "stream",
     "text": [
      "EVAL - Epoch 8 [17/18]: Loss: 0.3736 (avg 0.3711) \n",
      "  -> save model as distilbert-base-uncased_fold_2_best.pth\n",
      "Epoch 9 [0/71]: Elapsed 0m 1s (remain 1m 28s) Loss: 0.0470 (avg 0.0470) \n",
      "Epoch 9 [50/71]: Elapsed 0m 20s (remain 0m 8s) Loss: 0.0206 (avg 0.0382) \n",
      "Epoch 9 [70/71]: Elapsed 0m 28s (remain 0m 0s) Loss: 0.0166 (avg 0.0384) \n",
      "EVAL - Epoch 9 [0/18]: Loss: 0.3047 (avg 0.3047) \n"
     ]
    },
    {
     "name": "stderr",
     "output_type": "stream",
     "text": [
      "Epoch 9 - avg_train_loss: 0.0384 time: {elapsed:.0f}s\n",
      "Epoch 9 - avg_eval_loss: 0.3759 - avg_rmse: {eval_rmse:.4f}\n"
     ]
    },
    {
     "name": "stdout",
     "output_type": "stream",
     "text": [
      "EVAL - Epoch 9 [17/18]: Loss: 0.3797 (avg 0.3759) \n",
      "Epoch 10 [0/71]: Elapsed 0m 1s (remain 1m 45s) Loss: 0.0135 (avg 0.0135) \n",
      "Epoch 10 [50/71]: Elapsed 0m 21s (remain 0m 8s) Loss: 0.0210 (avg 0.0344) \n",
      "Epoch 10 [70/71]: Elapsed 0m 28s (remain 0m 0s) Loss: 0.0189 (avg 0.0329) \n",
      "EVAL - Epoch 10 [0/18]: Loss: 0.2992 (avg 0.2992) \n"
     ]
    },
    {
     "name": "stderr",
     "output_type": "stream",
     "text": [
      "Epoch 10 - avg_train_loss: 0.0329 time: {elapsed:.0f}s\n",
      "Epoch 10 - avg_eval_loss: 0.3742 - avg_rmse: {eval_rmse:.4f}\n"
     ]
    },
    {
     "name": "stdout",
     "output_type": "stream",
     "text": [
      "EVAL - Epoch 10 [17/18]: Loss: 0.3777 (avg 0.3742) \n",
      "\n",
      "*** FOLD  3\n",
      "Epoch 1 [0/71]: Elapsed 0m 1s (remain 1m 33s) Loss: 2.1985 (avg 2.1985) \n",
      "Epoch 1 [50/71]: Elapsed 0m 20s (remain 0m 8s) Loss: 0.8591 (avg 1.1188) \n",
      "Epoch 1 [70/71]: Elapsed 0m 28s (remain 0m 0s) Loss: 0.4569 (avg 1.0113) \n",
      "EVAL - Epoch 1 [0/18]: Loss: 0.2978 (avg 0.2978) \n"
     ]
    },
    {
     "name": "stderr",
     "output_type": "stream",
     "text": [
      "Epoch 1 - avg_train_loss: 1.0113 time: {elapsed:.0f}s\n",
      "Epoch 1 - avg_eval_loss: 0.5915 - avg_rmse: {eval_rmse:.4f}\n"
     ]
    },
    {
     "name": "stdout",
     "output_type": "stream",
     "text": [
      "EVAL - Epoch 1 [17/18]: Loss: 0.3990 (avg 0.5915) \n",
      "  -> save model as distilbert-base-uncased_fold_3_best.pth\n",
      "Epoch 2 [0/71]: Elapsed 0m 1s (remain 1m 25s) Loss: 0.3061 (avg 0.3061) \n",
      "Epoch 2 [50/71]: Elapsed 0m 20s (remain 0m 8s) Loss: 0.3869 (avg 0.4938) \n",
      "Epoch 2 [70/71]: Elapsed 0m 28s (remain 0m 0s) Loss: 0.7648 (avg 0.4763) \n",
      "EVAL - Epoch 2 [0/18]: Loss: 0.2404 (avg 0.2404) \n"
     ]
    },
    {
     "name": "stderr",
     "output_type": "stream",
     "text": [
      "Epoch 2 - avg_train_loss: 0.4763 time: {elapsed:.0f}s\n",
      "Epoch 2 - avg_eval_loss: 0.5651 - avg_rmse: {eval_rmse:.4f}\n"
     ]
    },
    {
     "name": "stdout",
     "output_type": "stream",
     "text": [
      "EVAL - Epoch 2 [17/18]: Loss: 0.4428 (avg 0.5651) \n",
      "  -> save model as distilbert-base-uncased_fold_3_best.pth\n",
      "Epoch 3 [0/71]: Elapsed 0m 1s (remain 1m 25s) Loss: 0.2482 (avg 0.2482) \n",
      "Epoch 3 [50/71]: Elapsed 0m 20s (remain 0m 8s) Loss: 0.5064 (avg 0.3079) \n",
      "Epoch 3 [70/71]: Elapsed 0m 28s (remain 0m 0s) Loss: 0.2095 (avg 0.2991) \n",
      "EVAL - Epoch 3 [0/18]: Loss: 0.2278 (avg 0.2278) \n"
     ]
    },
    {
     "name": "stderr",
     "output_type": "stream",
     "text": [
      "Epoch 3 - avg_train_loss: 0.2991 time: {elapsed:.0f}s\n",
      "Epoch 3 - avg_eval_loss: 0.4594 - avg_rmse: {eval_rmse:.4f}\n"
     ]
    },
    {
     "name": "stdout",
     "output_type": "stream",
     "text": [
      "EVAL - Epoch 3 [17/18]: Loss: 0.2283 (avg 0.4594) \n",
      "  -> save model as distilbert-base-uncased_fold_3_best.pth\n",
      "Epoch 4 [0/71]: Elapsed 0m 0s (remain 1m 9s) Loss: 0.2377 (avg 0.2377) \n",
      "Epoch 4 [50/71]: Elapsed 0m 20s (remain 0m 8s) Loss: 0.1179 (avg 0.1787) \n",
      "Epoch 4 [70/71]: Elapsed 0m 28s (remain 0m 0s) Loss: 0.1566 (avg 0.1728) \n",
      "EVAL - Epoch 4 [0/18]: Loss: 0.2393 (avg 0.2393) \n"
     ]
    },
    {
     "name": "stderr",
     "output_type": "stream",
     "text": [
      "Epoch 4 - avg_train_loss: 0.1728 time: {elapsed:.0f}s\n",
      "Epoch 4 - avg_eval_loss: 0.4345 - avg_rmse: {eval_rmse:.4f}\n"
     ]
    },
    {
     "name": "stdout",
     "output_type": "stream",
     "text": [
      "EVAL - Epoch 4 [17/18]: Loss: 0.1771 (avg 0.4345) \n",
      "  -> save model as distilbert-base-uncased_fold_3_best.pth\n",
      "Epoch 5 [0/71]: Elapsed 0m 1s (remain 1m 21s) Loss: 0.0805 (avg 0.0805) \n",
      "Epoch 5 [50/71]: Elapsed 0m 20s (remain 0m 8s) Loss: 0.2206 (avg 0.1146) \n",
      "Epoch 5 [70/71]: Elapsed 0m 28s (remain 0m 0s) Loss: 0.1254 (avg 0.1137) \n",
      "EVAL - Epoch 5 [0/18]: Loss: 0.2745 (avg 0.2745) \n"
     ]
    },
    {
     "name": "stderr",
     "output_type": "stream",
     "text": [
      "Epoch 5 - avg_train_loss: 0.1137 time: {elapsed:.0f}s\n",
      "Epoch 5 - avg_eval_loss: 0.4422 - avg_rmse: {eval_rmse:.4f}\n"
     ]
    },
    {
     "name": "stdout",
     "output_type": "stream",
     "text": [
      "EVAL - Epoch 5 [17/18]: Loss: 0.2030 (avg 0.4422) \n",
      "Epoch 6 [0/71]: Elapsed 0m 1s (remain 1m 30s) Loss: 0.1212 (avg 0.1212) \n",
      "Epoch 6 [50/71]: Elapsed 0m 20s (remain 0m 8s) Loss: 0.0366 (avg 0.0978) \n",
      "Epoch 6 [70/71]: Elapsed 0m 28s (remain 0m 0s) Loss: 0.1687 (avg 0.0966) \n",
      "EVAL - Epoch 6 [0/18]: Loss: 0.2515 (avg 0.2515) \n"
     ]
    },
    {
     "name": "stderr",
     "output_type": "stream",
     "text": [
      "Epoch 6 - avg_train_loss: 0.0966 time: {elapsed:.0f}s\n",
      "Epoch 6 - avg_eval_loss: 0.4674 - avg_rmse: {eval_rmse:.4f}\n"
     ]
    },
    {
     "name": "stdout",
     "output_type": "stream",
     "text": [
      "EVAL - Epoch 6 [17/18]: Loss: 0.2518 (avg 0.4674) \n",
      "Epoch 7 [0/71]: Elapsed 0m 1s (remain 1m 14s) Loss: 0.0778 (avg 0.0778) \n",
      "Epoch 7 [50/71]: Elapsed 0m 20s (remain 0m 8s) Loss: 0.0500 (avg 0.0735) \n",
      "Epoch 7 [70/71]: Elapsed 0m 28s (remain 0m 0s) Loss: 0.0438 (avg 0.0704) \n",
      "EVAL - Epoch 7 [0/18]: Loss: 0.2406 (avg 0.2406) \n"
     ]
    },
    {
     "name": "stderr",
     "output_type": "stream",
     "text": [
      "Epoch 7 - avg_train_loss: 0.0704 time: {elapsed:.0f}s\n",
      "Epoch 7 - avg_eval_loss: 0.4391 - avg_rmse: {eval_rmse:.4f}\n"
     ]
    },
    {
     "name": "stdout",
     "output_type": "stream",
     "text": [
      "EVAL - Epoch 7 [17/18]: Loss: 0.1607 (avg 0.4391) \n",
      "Epoch 8 [0/71]: Elapsed 0m 1s (remain 1m 10s) Loss: 0.0356 (avg 0.0356) \n",
      "Epoch 8 [50/71]: Elapsed 0m 20s (remain 0m 8s) Loss: 0.0503 (avg 0.0597) \n",
      "Epoch 8 [70/71]: Elapsed 0m 28s (remain 0m 0s) Loss: 0.0649 (avg 0.0616) \n",
      "EVAL - Epoch 8 [0/18]: Loss: 0.2287 (avg 0.2287) \n"
     ]
    },
    {
     "name": "stderr",
     "output_type": "stream",
     "text": [
      "Epoch 8 - avg_train_loss: 0.0616 time: {elapsed:.0f}s\n",
      "Epoch 8 - avg_eval_loss: 0.4404 - avg_rmse: {eval_rmse:.4f}\n"
     ]
    },
    {
     "name": "stdout",
     "output_type": "stream",
     "text": [
      "EVAL - Epoch 8 [17/18]: Loss: 0.1742 (avg 0.4404) \n",
      "Epoch 9 [0/71]: Elapsed 0m 1s (remain 1m 17s) Loss: 0.0754 (avg 0.0754) \n",
      "Epoch 9 [50/71]: Elapsed 0m 20s (remain 0m 8s) Loss: 0.0610 (avg 0.0477) \n",
      "Epoch 9 [70/71]: Elapsed 0m 28s (remain 0m 0s) Loss: 0.0324 (avg 0.0498) \n",
      "EVAL - Epoch 9 [0/18]: Loss: 0.2322 (avg 0.2322) \n"
     ]
    },
    {
     "name": "stderr",
     "output_type": "stream",
     "text": [
      "Epoch 9 - avg_train_loss: 0.0498 time: {elapsed:.0f}s\n",
      "Epoch 9 - avg_eval_loss: 0.4384 - avg_rmse: {eval_rmse:.4f}\n"
     ]
    },
    {
     "name": "stdout",
     "output_type": "stream",
     "text": [
      "EVAL - Epoch 9 [17/18]: Loss: 0.1737 (avg 0.4384) \n",
      "Epoch 10 [0/71]: Elapsed 0m 1s (remain 1m 13s) Loss: 0.0467 (avg 0.0467) \n",
      "Epoch 10 [50/71]: Elapsed 0m 20s (remain 0m 8s) Loss: 0.0222 (avg 0.0430) \n",
      "Epoch 10 [70/71]: Elapsed 0m 28s (remain 0m 0s) Loss: 0.0638 (avg 0.0445) \n",
      "EVAL - Epoch 10 [0/18]: Loss: 0.2285 (avg 0.2285) \n"
     ]
    },
    {
     "name": "stderr",
     "output_type": "stream",
     "text": [
      "Epoch 10 - avg_train_loss: 0.0445 time: {elapsed:.0f}s\n",
      "Epoch 10 - avg_eval_loss: 0.4356 - avg_rmse: {eval_rmse:.4f}\n"
     ]
    },
    {
     "name": "stdout",
     "output_type": "stream",
     "text": [
      "EVAL - Epoch 10 [17/18]: Loss: 0.1743 (avg 0.4356) \n",
      "\n",
      "*** FOLD  4\n",
      "Epoch 1 [0/71]: Elapsed 0m 1s (remain 1m 30s) Loss: 1.4890 (avg 1.4890) \n",
      "Epoch 1 [50/71]: Elapsed 0m 20s (remain 0m 8s) Loss: 0.8053 (avg 0.8551) \n",
      "Epoch 1 [70/71]: Elapsed 0m 28s (remain 0m 0s) Loss: 0.5318 (avg 0.7867) \n",
      "EVAL - Epoch 1 [0/18]: Loss: 0.3677 (avg 0.3677) \n"
     ]
    },
    {
     "name": "stderr",
     "output_type": "stream",
     "text": [
      "Epoch 1 - avg_train_loss: 0.7867 time: {elapsed:.0f}s\n",
      "Epoch 1 - avg_eval_loss: 0.5115 - avg_rmse: {eval_rmse:.4f}\n"
     ]
    },
    {
     "name": "stdout",
     "output_type": "stream",
     "text": [
      "EVAL - Epoch 1 [17/18]: Loss: 0.9684 (avg 0.5115) \n",
      "  -> save model as distilbert-base-uncased_fold_4_best.pth\n",
      "Epoch 2 [0/71]: Elapsed 0m 1s (remain 1m 15s) Loss: 0.3799 (avg 0.3799) \n",
      "Epoch 2 [50/71]: Elapsed 0m 20s (remain 0m 8s) Loss: 0.5063 (avg 0.4302) \n",
      "Epoch 2 [70/71]: Elapsed 0m 28s (remain 0m 0s) Loss: 0.4680 (avg 0.4371) \n",
      "EVAL - Epoch 2 [0/18]: Loss: 0.3041 (avg 0.3041) \n"
     ]
    },
    {
     "name": "stderr",
     "output_type": "stream",
     "text": [
      "Epoch 2 - avg_train_loss: 0.4371 time: {elapsed:.0f}s\n",
      "Epoch 2 - avg_eval_loss: 0.4393 - avg_rmse: {eval_rmse:.4f}\n"
     ]
    },
    {
     "name": "stdout",
     "output_type": "stream",
     "text": [
      "EVAL - Epoch 2 [17/18]: Loss: 0.6955 (avg 0.4393) \n",
      "  -> save model as distilbert-base-uncased_fold_4_best.pth\n",
      "Epoch 3 [0/71]: Elapsed 0m 1s (remain 1m 24s) Loss: 0.2522 (avg 0.2522) \n",
      "Epoch 3 [50/71]: Elapsed 0m 20s (remain 0m 8s) Loss: 0.2384 (avg 0.2937) \n",
      "Epoch 3 [70/71]: Elapsed 0m 28s (remain 0m 0s) Loss: 0.2545 (avg 0.2986) \n",
      "EVAL - Epoch 3 [0/18]: Loss: 0.4098 (avg 0.4098) \n"
     ]
    },
    {
     "name": "stderr",
     "output_type": "stream",
     "text": [
      "Epoch 3 - avg_train_loss: 0.2986 time: {elapsed:.0f}s\n",
      "Epoch 3 - avg_eval_loss: 0.4020 - avg_rmse: {eval_rmse:.4f}\n"
     ]
    },
    {
     "name": "stdout",
     "output_type": "stream",
     "text": [
      "EVAL - Epoch 3 [17/18]: Loss: 0.5365 (avg 0.4020) \n",
      "  -> save model as distilbert-base-uncased_fold_4_best.pth\n",
      "Epoch 4 [0/71]: Elapsed 0m 1s (remain 1m 32s) Loss: 0.2364 (avg 0.2364) \n",
      "Epoch 4 [50/71]: Elapsed 0m 21s (remain 0m 8s) Loss: 0.1536 (avg 0.2026) \n",
      "Epoch 4 [70/71]: Elapsed 0m 28s (remain 0m 0s) Loss: 0.2237 (avg 0.1954) \n",
      "EVAL - Epoch 4 [0/18]: Loss: 0.2877 (avg 0.2877) \n"
     ]
    },
    {
     "name": "stderr",
     "output_type": "stream",
     "text": [
      "Epoch 4 - avg_train_loss: 0.1954 time: {elapsed:.0f}s\n",
      "Epoch 4 - avg_eval_loss: 0.3748 - avg_rmse: {eval_rmse:.4f}\n"
     ]
    },
    {
     "name": "stdout",
     "output_type": "stream",
     "text": [
      "EVAL - Epoch 4 [17/18]: Loss: 0.5445 (avg 0.3748) \n",
      "  -> save model as distilbert-base-uncased_fold_4_best.pth\n",
      "Epoch 5 [0/71]: Elapsed 0m 1s (remain 1m 23s) Loss: 0.1997 (avg 0.1997) \n",
      "Epoch 5 [50/71]: Elapsed 0m 20s (remain 0m 8s) Loss: 0.1465 (avg 0.1309) \n",
      "Epoch 5 [70/71]: Elapsed 0m 28s (remain 0m 0s) Loss: 0.0700 (avg 0.1343) \n",
      "EVAL - Epoch 5 [0/18]: Loss: 0.3319 (avg 0.3319) \n"
     ]
    },
    {
     "name": "stderr",
     "output_type": "stream",
     "text": [
      "Epoch 5 - avg_train_loss: 0.1343 time: {elapsed:.0f}s\n",
      "Epoch 5 - avg_eval_loss: 0.3702 - avg_rmse: {eval_rmse:.4f}\n"
     ]
    },
    {
     "name": "stdout",
     "output_type": "stream",
     "text": [
      "EVAL - Epoch 5 [17/18]: Loss: 0.5487 (avg 0.3702) \n",
      "  -> save model as distilbert-base-uncased_fold_4_best.pth\n",
      "Epoch 6 [0/71]: Elapsed 0m 0s (remain 1m 7s) Loss: 0.1261 (avg 0.1261) \n",
      "Epoch 6 [50/71]: Elapsed 0m 20s (remain 0m 8s) Loss: 0.1703 (avg 0.0992) \n",
      "Epoch 6 [70/71]: Elapsed 0m 28s (remain 0m 0s) Loss: 0.0448 (avg 0.0958) \n",
      "EVAL - Epoch 6 [0/18]: Loss: 0.2385 (avg 0.2385) \n"
     ]
    },
    {
     "name": "stderr",
     "output_type": "stream",
     "text": [
      "Epoch 6 - avg_train_loss: 0.0958 time: {elapsed:.0f}s\n",
      "Epoch 6 - avg_eval_loss: 0.3542 - avg_rmse: {eval_rmse:.4f}\n"
     ]
    },
    {
     "name": "stdout",
     "output_type": "stream",
     "text": [
      "EVAL - Epoch 6 [17/18]: Loss: 0.5520 (avg 0.3542) \n",
      "  -> save model as distilbert-base-uncased_fold_4_best.pth\n",
      "Epoch 7 [0/71]: Elapsed 0m 0s (remain 1m 8s) Loss: 0.0695 (avg 0.0695) \n",
      "Epoch 7 [50/71]: Elapsed 0m 20s (remain 0m 8s) Loss: 0.0880 (avg 0.0721) \n",
      "Epoch 7 [70/71]: Elapsed 0m 28s (remain 0m 0s) Loss: 0.0651 (avg 0.0723) \n",
      "EVAL - Epoch 7 [0/18]: Loss: 0.2523 (avg 0.2523) \n"
     ]
    },
    {
     "name": "stderr",
     "output_type": "stream",
     "text": [
      "Epoch 7 - avg_train_loss: 0.0723 time: {elapsed:.0f}s\n",
      "Epoch 7 - avg_eval_loss: 0.3533 - avg_rmse: {eval_rmse:.4f}\n"
     ]
    },
    {
     "name": "stdout",
     "output_type": "stream",
     "text": [
      "EVAL - Epoch 7 [17/18]: Loss: 0.5410 (avg 0.3533) \n",
      "  -> save model as distilbert-base-uncased_fold_4_best.pth\n",
      "Epoch 8 [0/71]: Elapsed 0m 1s (remain 1m 21s) Loss: 0.0638 (avg 0.0638) \n",
      "Epoch 8 [50/71]: Elapsed 0m 20s (remain 0m 8s) Loss: 0.0370 (avg 0.0538) \n",
      "Epoch 8 [70/71]: Elapsed 0m 28s (remain 0m 0s) Loss: 0.0648 (avg 0.0565) \n",
      "EVAL - Epoch 8 [0/18]: Loss: 0.2438 (avg 0.2438) \n"
     ]
    },
    {
     "name": "stderr",
     "output_type": "stream",
     "text": [
      "Epoch 8 - avg_train_loss: 0.0565 time: {elapsed:.0f}s\n",
      "Epoch 8 - avg_eval_loss: 0.3511 - avg_rmse: {eval_rmse:.4f}\n"
     ]
    },
    {
     "name": "stdout",
     "output_type": "stream",
     "text": [
      "EVAL - Epoch 8 [17/18]: Loss: 0.5383 (avg 0.3511) \n",
      "  -> save model as distilbert-base-uncased_fold_4_best.pth\n",
      "Epoch 9 [0/71]: Elapsed 0m 1s (remain 1m 28s) Loss: 0.0424 (avg 0.0424) \n",
      "Epoch 9 [50/71]: Elapsed 0m 20s (remain 0m 8s) Loss: 0.0257 (avg 0.0450) \n",
      "Epoch 9 [70/71]: Elapsed 0m 28s (remain 0m 0s) Loss: 0.0424 (avg 0.0441) \n",
      "EVAL - Epoch 9 [0/18]: Loss: 0.2504 (avg 0.2504) \n"
     ]
    },
    {
     "name": "stderr",
     "output_type": "stream",
     "text": [
      "Epoch 9 - avg_train_loss: 0.0441 time: {elapsed:.0f}s\n",
      "Epoch 9 - avg_eval_loss: 0.3530 - avg_rmse: {eval_rmse:.4f}\n"
     ]
    },
    {
     "name": "stdout",
     "output_type": "stream",
     "text": [
      "EVAL - Epoch 9 [17/18]: Loss: 0.5349 (avg 0.3530) \n",
      "Epoch 10 [0/71]: Elapsed 0m 1s (remain 1m 29s) Loss: 0.0493 (avg 0.0493) \n",
      "Epoch 10 [50/71]: Elapsed 0m 21s (remain 0m 8s) Loss: 0.0320 (avg 0.0426) \n",
      "Epoch 10 [70/71]: Elapsed 0m 28s (remain 0m 0s) Loss: 0.0275 (avg 0.0415) \n",
      "EVAL - Epoch 10 [0/18]: Loss: 0.2558 (avg 0.2558) \n"
     ]
    },
    {
     "name": "stderr",
     "output_type": "stream",
     "text": [
      "Epoch 10 - avg_train_loss: 0.0415 time: {elapsed:.0f}s\n",
      "Epoch 10 - avg_eval_loss: 0.3549 - avg_rmse: {eval_rmse:.4f}\n"
     ]
    },
    {
     "name": "stdout",
     "output_type": "stream",
     "text": [
      "EVAL - Epoch 10 [17/18]: Loss: 0.5342 (avg 0.3549) \n"
     ]
    }
   ],
   "source": [
    "# inits\n",
    "seed_torch(seed=CFG.seed)\n",
    "LOGGER = init_logger()\n",
    "training_evals = pd.DataFrame(columns=['fold', 'epoch',\n",
    "                                       'train_loss', 'val_loss',\n",
    "                                       'train_rmse', 'val_rmse'])\n",
    "\n",
    "# run training\n",
    "main()"
   ]
  },
  {
   "cell_type": "code",
   "execution_count": 18,
   "id": "following-recognition",
   "metadata": {
    "execution": {
     "iopub.execute_input": "2021-06-30T10:41:19.950012Z",
     "iopub.status.busy": "2021-06-30T10:41:19.949162Z",
     "iopub.status.idle": "2021-06-30T10:41:20.391811Z",
     "shell.execute_reply": "2021-06-30T10:41:20.392234Z",
     "shell.execute_reply.started": "2021-06-30T10:01:00.989227Z"
    },
    "papermill": {
     "duration": 0.599405,
     "end_time": "2021-06-30T10:41:20.392379",
     "exception": false,
     "start_time": "2021-06-30T10:41:19.792974",
     "status": "completed"
    },
    "tags": []
   },
   "outputs": [
    {
     "data": {
      "image/png": "[encoded data removed]",
      "text/plain": [
       "<Figure size 576x576 with 1 Axes>"
      ]
     },
     "metadata": {
      "needs_background": "light"
     },
     "output_type": "display_data"
    },
    {
     "data": {
      "image/png": "[encoded data removed]",
      "text/plain": [
       "<Figure size 576x576 with 1 Axes>"
      ]
     },
     "metadata": {
      "needs_background": "light"
     },
     "output_type": "display_data"
    }
   ],
   "source": [
    "# print results\n",
    "epochs = range(1, CFG.n_epochs + 1)\n",
    "colors = ['mediumpurple', 'deepskyblue', 'mediumseagreen', 'gold', 'tomato']\n",
    "\n",
    "# loss curve\n",
    "fig = plt.figure(figsize=(8, 8))\n",
    "max_y = 0\n",
    "for f in range(CFG.n_folds):\n",
    "    loss_train = training_evals.loc[training_evals.fold == f, 'train_loss']\n",
    "    loss_val = training_evals.loc[training_evals.fold == f, 'val_loss']\n",
    "    curmax = max(max(loss_train), max(loss_val))\n",
    "    if curmax > max_y:\n",
    "        max_y = curmax\n",
    "    plt.plot(epochs, loss_train, c=colors[f], label='Training loss fold {}'.format(f))\n",
    "    plt.plot(epochs, loss_val, c=colors[f], linestyle='dashed',\n",
    "             label='validation loss fold {}'.format(f))\n",
    "\n",
    "plt.title('Training and Validation loss')\n",
    "plt.xticks(range(0, CFG.n_epochs + 1))\n",
    "plt.xlim(0.5, CFG.n_epochs + 0.5)\n",
    "plt.ylim(0, max_y)\n",
    "plt.xlabel('Epochs')\n",
    "plt.ylabel('Loss')\n",
    "plt.legend(bbox_to_anchor=(1, 1, 0, 0))\n",
    "plt.show()\n",
    "\n",
    "# RMSE\n",
    "max_y = 0\n",
    "fig = plt.figure(figsize=(8, 8))\n",
    "for f in range(CFG.n_folds):\n",
    "    rmse_train = training_evals.loc[training_evals.fold == f, 'train_rmse']\n",
    "    rmse_val = training_evals.loc[training_evals.fold == f, 'val_rmse']\n",
    "    curmax = max(max(rmse_train), max(rmse_val))\n",
    "    if curmax > max_y:\n",
    "        max_y = curmax\n",
    "    plt.plot(epochs, rmse_train, c=colors[f], label='Training RMSE fold {}'.format(f))\n",
    "    plt.plot(epochs, rmse_val, c=colors[f], linestyle='dashed',\n",
    "             label='validation RMSE fold {}'.format(f))\n",
    "plt.title('Training and Validation RMSE')\n",
    "plt.xticks(range(0, CFG.n_epochs + 1))\n",
    "plt.xlim(0.5, CFG.n_epochs + 0.5)\n",
    "plt.ylim(0, max_y)\n",
    "plt.xlabel('Epochs')\n",
    "plt.ylabel('RMSE')\n",
    "plt.legend(bbox_to_anchor=(1, 1, 0, 0))\n",
    "plt.show()"
   ]
  },
  {
   "cell_type": "markdown",
   "id": "assumed-basketball",
   "metadata": {
    "papermill": {
     "duration": 0.123448,
     "end_time": "2021-06-30T10:41:20.641453",
     "exception": false,
     "start_time": "2021-06-30T10:41:20.518005",
     "status": "completed"
    },
    "tags": []
   },
   "source": [
    "# Inference"
   ]
  },
  {
   "cell_type": "code",
   "execution_count": 19,
   "id": "underlying-rating",
   "metadata": {
    "execution": {
     "iopub.execute_input": "2021-06-30T10:41:20.941693Z",
     "iopub.status.busy": "2021-06-30T10:41:20.940853Z",
     "iopub.status.idle": "2021-06-30T10:41:20.943026Z",
     "shell.execute_reply": "2021-06-30T10:41:20.943479Z",
     "shell.execute_reply.started": "2021-06-30T10:06:58.049395Z"
    },
    "papermill": {
     "duration": 0.178554,
     "end_time": "2021-06-30T10:41:20.943602",
     "exception": false,
     "start_time": "2021-06-30T10:41:20.765048",
     "status": "completed"
    },
    "tags": []
   },
   "outputs": [],
   "source": [
    "class CommonLitDataset_test(Dataset):\n",
    "\n",
    "    def __init__(self, df, tokenizer, max_length):\n",
    "        self.df = df\n",
    "        self.tokenizer = tokenizer\n",
    "        self.max_length = max_length\n",
    "\n",
    "    def __len__(self):\n",
    "        return len(self.df)\n",
    "\n",
    "    def __getitem__(self, idx):\n",
    "        row = self.df.iloc[idx]\n",
    "\n",
    "        tokenized_input = self.tokenizer(row.excerpt, return_tensors=\"pt\",\n",
    "                                         max_length=self.max_length,\n",
    "                                         padding=\"max_length\", truncation=True)\n",
    "\n",
    "        return {\n",
    "                \"ids\": tokenized_input[\"input_ids\"][0],\n",
    "                \"masks\": tokenized_input[\"attention_mask\"][0]\n",
    "        }"
   ]
  },
  {
   "cell_type": "code",
   "execution_count": 20,
   "id": "still-lawrence",
   "metadata": {
    "execution": {
     "iopub.execute_input": "2021-06-30T10:41:21.199400Z",
     "iopub.status.busy": "2021-06-30T10:41:21.198592Z",
     "iopub.status.idle": "2021-06-30T10:41:21.201470Z",
     "shell.execute_reply": "2021-06-30T10:41:21.201015Z",
     "shell.execute_reply.started": "2021-06-30T10:07:06.937041Z"
    },
    "papermill": {
     "duration": 0.134216,
     "end_time": "2021-06-30T10:41:21.201585",
     "exception": false,
     "start_time": "2021-06-30T10:41:21.067369",
     "status": "completed"
    },
    "tags": []
   },
   "outputs": [],
   "source": [
    "def inference(model, states, data_loader, device=device):\n",
    "    \"\"\" runs inference for the test set\n",
    "    takes each state (cf fold) and computes the mean of the results\"\"\"\n",
    "    results = []\n",
    "    n_state = 1\n",
    "    with torch.no_grad():\n",
    "        for state in states:\n",
    "            state_results = []\n",
    "            print('State {}/{}'.format(n_state, len(states)))\n",
    "            model.load_state_dict(state)\n",
    "            model.to(device)\n",
    "            model.eval()\n",
    "\n",
    "            for step, batch in enumerate(data_loader):\n",
    "                input_ids = batch[\"ids\"].to(device)\n",
    "                attention_masks = batch[\"masks\"].to(device)\n",
    "                output = model(input_ids, attention_masks)\n",
    "                predictions = flatten(output.detach().cpu().numpy())\n",
    "                state_results.extend(predictions)\n",
    "\n",
    "            results.append(state_results)\n",
    "            n_state += 1\n",
    "\n",
    "    mean_results = np.mean(results, axis=0)\n",
    "    return results, mean_results"
   ]
  },
  {
   "cell_type": "code",
   "execution_count": 21,
   "id": "champion-morning",
   "metadata": {
    "execution": {
     "iopub.execute_input": "2021-06-30T10:41:21.457999Z",
     "iopub.status.busy": "2021-06-30T10:41:21.457482Z",
     "iopub.status.idle": "2021-06-30T10:41:56.202556Z",
     "shell.execute_reply": "2021-06-30T10:41:56.202039Z",
     "shell.execute_reply.started": "2021-06-30T10:07:15.707806Z"
    },
    "papermill": {
     "duration": 34.872745,
     "end_time": "2021-06-30T10:41:56.202695",
     "exception": false,
     "start_time": "2021-06-30T10:41:21.329950",
     "status": "completed"
    },
    "tags": []
   },
   "outputs": [],
   "source": [
    "# get previous states from k fold\n",
    "states = [torch.load(f\"distilbert-base-uncased_fold_{f}_best.pth\")[\"model\"]\n",
    "          for f in range(CFG.n_folds)]\n",
    "\n",
    "# build model\n",
    "model_inf = TextRegressionModel(CFG.model_name, CFG.dropout_p)"
   ]
  },
  {
   "cell_type": "markdown",
   "id": "federal-delhi",
   "metadata": {
    "papermill": {
     "duration": 0.128981,
     "end_time": "2021-06-30T10:41:56.464553",
     "exception": false,
     "start_time": "2021-06-30T10:41:56.335572",
     "status": "completed"
    },
    "tags": []
   },
   "source": [
    "### On full dataset \n",
    "(**Warning** : this should give great RMSE as the data has been used for training)"
   ]
  },
  {
   "cell_type": "code",
   "execution_count": 22,
   "id": "domestic-ethics",
   "metadata": {
    "execution": {
     "iopub.execute_input": "2021-06-30T10:41:56.717518Z",
     "iopub.status.busy": "2021-06-30T10:41:56.716906Z",
     "iopub.status.idle": "2021-06-30T10:41:56.814116Z",
     "shell.execute_reply": "2021-06-30T10:41:56.813620Z",
     "shell.execute_reply.started": "2021-06-30T10:07:51.765753Z"
    },
    "papermill": {
     "duration": 0.224445,
     "end_time": "2021-06-30T10:41:56.814266",
     "exception": false,
     "start_time": "2021-06-30T10:41:56.589821",
     "status": "completed"
    },
    "tags": []
   },
   "outputs": [],
   "source": [
    "# build dataset with no target\n",
    "tokenizer = DistilBertTokenizer.from_pretrained(CFG.model_path)\n",
    "\n",
    "df_train = pd.read_csv(BASE_DATA_PATH / \"train.csv\")\n",
    "test_dataset = CommonLitDataset_test(df_train, tokenizer, CFG.max_length)\n",
    "\n",
    "data_loader_test = DataLoader(test_dataset,\n",
    "                              batch_size=CFG.batch_size, shuffle=False)"
   ]
  },
  {
   "cell_type": "code",
   "execution_count": 23,
   "id": "organizational-commander",
   "metadata": {
    "execution": {
     "iopub.execute_input": "2021-06-30T10:41:57.090565Z",
     "iopub.status.busy": "2021-06-30T10:41:57.088828Z",
     "iopub.status.idle": "2021-06-30T10:44:11.997663Z",
     "shell.execute_reply": "2021-06-30T10:44:11.997114Z",
     "shell.execute_reply.started": "2021-06-30T10:07:59.701487Z"
    },
    "papermill": {
     "duration": 135.059284,
     "end_time": "2021-06-30T10:44:11.997809",
     "exception": false,
     "start_time": "2021-06-30T10:41:56.938525",
     "status": "completed"
    },
    "tags": []
   },
   "outputs": [
    {
     "name": "stdout",
     "output_type": "stream",
     "text": [
      "State 1/5\n",
      "State 2/5\n",
      "State 3/5\n",
      "State 4/5\n",
      "State 5/5\n"
     ]
    }
   ],
   "source": [
    "# predict outputs\n",
    "res_states, mean_res = inference(model_inf, states, data_loader_test, device)"
   ]
  },
  {
   "cell_type": "code",
   "execution_count": 24,
   "id": "agricultural-rough",
   "metadata": {
    "execution": {
     "iopub.execute_input": "2021-06-30T10:44:12.283001Z",
     "iopub.status.busy": "2021-06-30T10:44:12.262132Z",
     "iopub.status.idle": "2021-06-30T10:44:12.611967Z",
     "shell.execute_reply": "2021-06-30T10:44:12.612399Z",
     "shell.execute_reply.started": "2021-06-30T09:36:53.093029Z"
    },
    "papermill": {
     "duration": 0.484597,
     "end_time": "2021-06-30T10:44:12.612545",
     "exception": false,
     "start_time": "2021-06-30T10:44:12.127948",
     "status": "completed"
    },
    "tags": []
   },
   "outputs": [
    {
     "name": "stdout",
     "output_type": "stream",
     "text": [
      "RMSE on train dataset : 0.1699\n"
     ]
    },
    {
     "data": {
      "image/png": "[encoded data removed]",
      "text/plain": [
       "<Figure size 864x432 with 2 Axes>"
      ]
     },
     "metadata": {
      "needs_background": "light"
     },
     "output_type": "display_data"
    }
   ],
   "source": [
    "y_pred = mean_res\n",
    "y_true = df_train.target\n",
    "\n",
    "# compute RMSE on training set\n",
    "rmse = np.sqrt(metrics.mean_squared_error(y_true, y_pred))\n",
    "print('RMSE on train dataset :', round(rmse, 4))\n",
    "\n",
    "# plot results\n",
    "fig, axes = plt.subplots(figsize=(12, 6), nrows=1, ncols=2)\n",
    "xmin = np.min(y_true) - 1\n",
    "xmax = np.max(y_true) + 1\n",
    "axes[0].scatter(y_true, y_pred, color='yellowgreen', s=1)\n",
    "axes[0].plot([xmin, xmax], [xmin, xmax],\n",
    "             color='darkolivegreen', linewidth=1)\n",
    "axes[0].set_xlabel('True target')\n",
    "axes[0].set_ylabel('Predicted target')\n",
    "axes[0].set_title('Predicted vs true targets')\n",
    "\n",
    "residuals = y_true - y_pred\n",
    "moy_residuals = np.mean(residuals)\n",
    "lab = 'Mean residuals({})'.format(np.round(moy_residuals, decimals=2))\n",
    "\n",
    "xmin = np.min(y_pred) - 1\n",
    "xmax = np.max(y_pred) + 1\n",
    "axes[1].scatter(y_pred, residuals, color='burlywood', s=1.5)\n",
    "axes[1].plot([xmin, xmax], [0, 0], color='grey', alpha=0.5, linewidth=0.5)\n",
    "axes[1].plot([xmin, xmax], [moy_residuals, moy_residuals],\n",
    "             color='saddlebrown', linewidth=1, label=lab)\n",
    "axes[1].set_xlabel('Predicted target')\n",
    "axes[1].set_ylabel('Residuals')\n",
    "axes[1].legend()\n",
    "axes[1].set_title('Residuals')\n",
    "\n",
    "plt.show()"
   ]
  },
  {
   "cell_type": "markdown",
   "id": "municipal-rugby",
   "metadata": {
    "papermill": {
     "duration": 0.129796,
     "end_time": "2021-06-30T10:44:12.882128",
     "exception": false,
     "start_time": "2021-06-30T10:44:12.752332",
     "status": "completed"
    },
    "tags": []
   },
   "source": [
    "### On test set (7 entries)"
   ]
  },
  {
   "cell_type": "code",
   "execution_count": 25,
   "id": "continued-range",
   "metadata": {
    "execution": {
     "iopub.execute_input": "2021-06-30T10:44:13.152832Z",
     "iopub.status.busy": "2021-06-30T10:44:13.152274Z",
     "iopub.status.idle": "2021-06-30T10:44:13.555983Z",
     "shell.execute_reply": "2021-06-30T10:44:13.555475Z",
     "shell.execute_reply.started": "2021-06-30T09:37:57.722359Z"
    },
    "papermill": {
     "duration": 0.542364,
     "end_time": "2021-06-30T10:44:13.556136",
     "exception": false,
     "start_time": "2021-06-30T10:44:13.013772",
     "status": "completed"
    },
    "tags": []
   },
   "outputs": [
    {
     "name": "stdout",
     "output_type": "stream",
     "text": [
      "State 1/5\n",
      "State 2/5\n",
      "State 3/5\n",
      "State 4/5\n",
      "State 5/5\n"
     ]
    }
   ],
   "source": [
    "# build test dataset\n",
    "tokenizer = DistilBertTokenizer.from_pretrained(CFG.model_path)\n",
    "\n",
    "df_test = pd.read_csv(BASE_DATA_PATH / \"test.csv\")\n",
    "test_dataset = CommonLitDataset_test(df_test, tokenizer, CFG.max_length)\n",
    "\n",
    "data_loader_test = DataLoader(test_dataset,\n",
    "                              batch_size=CFG.batch_size, shuffle=False)\n",
    "\n",
    "# predict outputs\n",
    "out_states, out_mean = inference(model_inf, states, data_loader_test, device)"
   ]
  },
  {
   "cell_type": "code",
   "execution_count": 26,
   "id": "objective-grammar",
   "metadata": {
    "execution": {
     "iopub.execute_input": "2021-06-30T10:44:13.819946Z",
     "iopub.status.busy": "2021-06-30T10:44:13.819400Z",
     "iopub.status.idle": "2021-06-30T10:44:14.080675Z",
     "shell.execute_reply": "2021-06-30T10:44:14.080137Z",
     "shell.execute_reply.started": "2021-06-30T09:37:58.166850Z"
    },
    "papermill": {
     "duration": 0.395823,
     "end_time": "2021-06-30T10:44:14.080812",
     "exception": false,
     "start_time": "2021-06-30T10:44:13.684989",
     "status": "completed"
    },
    "tags": []
   },
   "outputs": [
    {
     "data": {
      "text/html": [
       "<div>\n",
       "<style scoped>\n",
       "    .dataframe tbody tr th:only-of-type {\n",
       "        vertical-align: middle;\n",
       "    }\n",
       "\n",
       "    .dataframe tbody tr th {\n",
       "        vertical-align: top;\n",
       "    }\n",
       "\n",
       "    .dataframe thead th {\n",
       "        text-align: right;\n",
       "    }\n",
       "</style>\n",
       "<table border=\"1\" class=\"dataframe\">\n",
       "  <thead>\n",
       "    <tr style=\"text-align: right;\">\n",
       "      <th></th>\n",
       "      <th>id</th>\n",
       "      <th>target</th>\n",
       "    </tr>\n",
       "  </thead>\n",
       "  <tbody>\n",
       "    <tr>\n",
       "      <th>0</th>\n",
       "      <td>c0f722661</td>\n",
       "      <td>-0.726313</td>\n",
       "    </tr>\n",
       "    <tr>\n",
       "      <th>1</th>\n",
       "      <td>f0953f0a5</td>\n",
       "      <td>-0.549963</td>\n",
       "    </tr>\n",
       "    <tr>\n",
       "      <th>2</th>\n",
       "      <td>0df072751</td>\n",
       "      <td>-0.475111</td>\n",
       "    </tr>\n",
       "    <tr>\n",
       "      <th>3</th>\n",
       "      <td>04caf4e0c</td>\n",
       "      <td>-2.221022</td>\n",
       "    </tr>\n",
       "    <tr>\n",
       "      <th>4</th>\n",
       "      <td>0e63f8bea</td>\n",
       "      <td>-1.914853</td>\n",
       "    </tr>\n",
       "    <tr>\n",
       "      <th>5</th>\n",
       "      <td>12537fe78</td>\n",
       "      <td>-0.652984</td>\n",
       "    </tr>\n",
       "    <tr>\n",
       "      <th>6</th>\n",
       "      <td>965e592c0</td>\n",
       "      <td>0.221143</td>\n",
       "    </tr>\n",
       "  </tbody>\n",
       "</table>\n",
       "</div>"
      ],
      "text/plain": [
       "          id    target\n",
       "0  c0f722661 -0.726313\n",
       "1  f0953f0a5 -0.549963\n",
       "2  0df072751 -0.475111\n",
       "3  04caf4e0c -2.221022\n",
       "4  0e63f8bea -1.914853\n",
       "5  12537fe78 -0.652984\n",
       "6  965e592c0  0.221143"
      ]
     },
     "execution_count": 26,
     "metadata": {},
     "output_type": "execute_result"
    }
   ],
   "source": [
    "# build submission file\n",
    "df_sub = pd.read_csv(\"../input/commonlitreadabilityprize/sample_submission.csv\")\n",
    "df_sub[\"target\"] = out_mean\n",
    "df_sub.to_csv(\"submission.csv\",index=False)\n",
    "df_sub"
   ]
  },
  {
   "cell_type": "code",
   "execution_count": null,
   "id": "romantic-kazakhstan",
   "metadata": {
    "papermill": {
     "duration": 0.128633,
     "end_time": "2021-06-30T10:44:14.340331",
     "exception": false,
     "start_time": "2021-06-30T10:44:14.211698",
     "status": "completed"
    },
    "tags": []
   },
   "outputs": [],
   "source": []
  }
 ],
 "metadata": {
  "kernelspec": {
   "display_name": "Python 3",
   "language": "python",
   "name": "python3"
  },
  "language_info": {
   "codemirror_mode": {
    "name": "ipython",
    "version": 3
   },
   "file_extension": ".py",
   "mimetype": "text/x-python",
   "name": "python",
   "nbconvert_exporter": "python",
   "pygments_lexer": "ipython3",
   "version": "3.7.10"
  },
  "papermill": {
   "default_parameters": {},
   "duration": 1931.348577,
   "end_time": "2021-06-30T10:44:16.981029",
   "environment_variables": {},
   "exception": null,
   "input_path": "__notebook__.ipynb",
   "output_path": "__notebook__.ipynb",
   "parameters": {},
   "start_time": "2021-06-30T10:12:05.632452",
   "version": "2.3.3"
  }
 },
 "nbformat": 4,
 "nbformat_minor": 5
}
